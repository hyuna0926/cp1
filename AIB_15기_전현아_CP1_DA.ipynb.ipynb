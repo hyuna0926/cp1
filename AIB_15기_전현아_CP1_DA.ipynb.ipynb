{
  "nbformat": 4,
  "nbformat_minor": 0,
  "metadata": {
    "colab": {
      "provenance": []
    },
    "kernelspec": {
      "name": "python3",
      "display_name": "Python 3"
    },
    "language_info": {
      "name": "python"
    },
    "gpuClass": "standard"
  },
  "cells": [
    {
      "cell_type": "code",
      "execution_count": null,
      "metadata": {
        "id": "gKCIAUu0kHcj"
      },
      "outputs": [],
      "source": [
        "import pandas as pd\n",
        "import csv\n",
        "import matplotlib.pyplot as plt\n",
        "import numpy as np\n",
        "import seaborn as sns"
      ]
    },
    {
      "cell_type": "code",
      "source": [
        "from google.colab import drive\n",
        "drive.mount('/content/drive')"
      ],
      "metadata": {
        "colab": {
          "base_uri": "https://localhost:8080/"
        },
        "id": "fKhe03Ilor-f",
        "outputId": "b93fe0c2-3623-42d2-e7ee-d171f9998467"
      },
      "execution_count": null,
      "outputs": [
        {
          "output_type": "stream",
          "name": "stdout",
          "text": [
            "Drive already mounted at /content/drive; to attempt to forcibly remount, call drive.mount(\"/content/drive\", force_remount=True).\n"
          ]
        }
      ]
    },
    {
      "cell_type": "code",
      "source": [
        "!sudo apt-get install -y fonts-nanum\n",
        "!sudo fc-cache -fv\n",
        "!rm ~/.cache/matplotlib -rf"
      ],
      "metadata": {
        "colab": {
          "base_uri": "https://localhost:8080/"
        },
        "id": "BtfgbX1v037N",
        "outputId": "b513a6cf-06d2-4776-f13b-08d460446ec3"
      },
      "execution_count": null,
      "outputs": [
        {
          "output_type": "stream",
          "name": "stdout",
          "text": [
            "Reading package lists... Done\n",
            "Building dependency tree       \n",
            "Reading state information... Done\n",
            "fonts-nanum is already the newest version (20170925-1).\n",
            "The following package was automatically installed and is no longer required:\n",
            "  libnvidia-common-460\n",
            "Use 'sudo apt autoremove' to remove it.\n",
            "0 upgraded, 0 newly installed, 0 to remove and 21 not upgraded.\n",
            "/usr/share/fonts: caching, new cache contents: 0 fonts, 1 dirs\n",
            "/usr/share/fonts/truetype: caching, new cache contents: 0 fonts, 3 dirs\n",
            "/usr/share/fonts/truetype/humor-sans: caching, new cache contents: 1 fonts, 0 dirs\n",
            "/usr/share/fonts/truetype/liberation: caching, new cache contents: 16 fonts, 0 dirs\n",
            "/usr/share/fonts/truetype/nanum: caching, new cache contents: 10 fonts, 0 dirs\n",
            "/usr/local/share/fonts: caching, new cache contents: 0 fonts, 0 dirs\n",
            "/root/.local/share/fonts: skipping, no such directory\n",
            "/root/.fonts: skipping, no such directory\n",
            "/var/cache/fontconfig: cleaning cache directory\n",
            "/root/.cache/fontconfig: not cleaning non-existent cache directory\n",
            "/root/.fontconfig: not cleaning non-existent cache directory\n",
            "fc-cache: succeeded\n"
          ]
        }
      ]
    },
    {
      "cell_type": "code",
      "source": [
        "import matplotlib.pyplot as plt\n",
        "\n",
        "plt.rc('font', family='NanumBarunGothic') "
      ],
      "metadata": {
        "id": "Oa84NNpw09Iw"
      },
      "execution_count": null,
      "outputs": []
    },
    {
      "cell_type": "markdown",
      "source": [
        "# cp1(서울시에서 1인가구가 살기 좋은 동네)"
      ],
      "metadata": {
        "id": "nVTNN2qfpSul"
      }
    },
    {
      "cell_type": "markdown",
      "source": [
        "## 데이터 정제\n",
        "- 데이터를 코랩에서 고친 후 태블로에서 시각화 진행"
      ],
      "metadata": {
        "id": "d3ayjYOMpWB4"
      }
    },
    {
      "cell_type": "code",
      "source": [
        "#1인가구사유별\n",
        "reason_one=pd.read_csv('/content/drive/MyDrive/cp1 1인가구/성별_연령별_1인가구사유별가구시도_20230105144338.csv',encoding = \"CP949\", engine='python')\n",
        "reason_one"
      ],
      "metadata": {
        "colab": {
          "base_uri": "https://localhost:8080/",
          "height": 869
        },
        "id": "aTKs_Oqf-TBh",
        "outputId": "7e8108fb-55f4-458d-a79b-275d4bd68042"
      },
      "execution_count": null,
      "outputs": [
        {
          "output_type": "execute_result",
          "data": {
            "text/plain": [
              "       시점 행정구역별  성별     연령별   1인가구-계  본인의 직장 때문에  본인의 학업 때문에  본인의 독립 생활을 위하여  \\\n",
              "0    2020    전국   계      합계  6643354   2277582.0    328259.0       1739462.0   \n",
              "1    2020    전국   계  20세 미만    72119     11198.0     58203.0             NaN   \n",
              "2    2020    전국   계   20~24   496119    169637.0    212989.0         85667.0   \n",
              "3    2020    전국   계   25~29   775110    494366.0     49934.0        189162.0   \n",
              "4    2020    전국   계   30~34   618316    388892.0      5356.0        180804.0   \n",
              "..    ...   ...  ..     ...      ...         ...         ...             ...   \n",
              "187  2020   경기도  여자   65~69    53828      4074.0         NaN         13634.0   \n",
              "188  2020   경기도  여자   70~74    48100      2061.0         NaN          9513.0   \n",
              "189  2020   경기도  여자   75~79    45576      1276.0         NaN          5414.0   \n",
              "190  2020   경기도  여자   80~84    35733       185.0         NaN             NaN   \n",
              "191  2020   경기도  여자  85세 이상    23815         NaN         NaN             NaN   \n",
              "\n",
              "     본인의 건강 때문에  가족이 학업취업홍인건강등으로 타지에 거주하게 되어서     가족과 사별       기타  \n",
              "0      102862.0                       1127873  1029789.0  37527.0  \n",
              "1           NaN                          2276      408.0     34.0  \n",
              "2           NaN                         21442     5504.0    880.0  \n",
              "3           NaN                         29628     9719.0   2301.0  \n",
              "4        1662.0                         28792    10020.0   2790.0  \n",
              "..          ...                           ...        ...      ...  \n",
              "187      1148.0                         17956    16737.0    279.0  \n",
              "188      1078.0                         15388    19895.0    165.0  \n",
              "189      1273.0                         14609    22801.0    203.0  \n",
              "190      1046.0                         14579    19844.0     79.0  \n",
              "191      1285.0                          9335    13106.0     89.0  \n",
              "\n",
              "[192 rows x 12 columns]"
            ],
            "text/html": [
              "\n",
              "  <div id=\"df-08d7833a-fecc-4e8f-816a-1639dbd95f86\">\n",
              "    <div class=\"colab-df-container\">\n",
              "      <div>\n",
              "<style scoped>\n",
              "    .dataframe tbody tr th:only-of-type {\n",
              "        vertical-align: middle;\n",
              "    }\n",
              "\n",
              "    .dataframe tbody tr th {\n",
              "        vertical-align: top;\n",
              "    }\n",
              "\n",
              "    .dataframe thead th {\n",
              "        text-align: right;\n",
              "    }\n",
              "</style>\n",
              "<table border=\"1\" class=\"dataframe\">\n",
              "  <thead>\n",
              "    <tr style=\"text-align: right;\">\n",
              "      <th></th>\n",
              "      <th>시점</th>\n",
              "      <th>행정구역별</th>\n",
              "      <th>성별</th>\n",
              "      <th>연령별</th>\n",
              "      <th>1인가구-계</th>\n",
              "      <th>본인의 직장 때문에</th>\n",
              "      <th>본인의 학업 때문에</th>\n",
              "      <th>본인의 독립 생활을 위하여</th>\n",
              "      <th>본인의 건강 때문에</th>\n",
              "      <th>가족이 학업취업홍인건강등으로 타지에 거주하게 되어서</th>\n",
              "      <th>가족과 사별</th>\n",
              "      <th>기타</th>\n",
              "    </tr>\n",
              "  </thead>\n",
              "  <tbody>\n",
              "    <tr>\n",
              "      <th>0</th>\n",
              "      <td>2020</td>\n",
              "      <td>전국</td>\n",
              "      <td>계</td>\n",
              "      <td>합계</td>\n",
              "      <td>6643354</td>\n",
              "      <td>2277582.0</td>\n",
              "      <td>328259.0</td>\n",
              "      <td>1739462.0</td>\n",
              "      <td>102862.0</td>\n",
              "      <td>1127873</td>\n",
              "      <td>1029789.0</td>\n",
              "      <td>37527.0</td>\n",
              "    </tr>\n",
              "    <tr>\n",
              "      <th>1</th>\n",
              "      <td>2020</td>\n",
              "      <td>전국</td>\n",
              "      <td>계</td>\n",
              "      <td>20세 미만</td>\n",
              "      <td>72119</td>\n",
              "      <td>11198.0</td>\n",
              "      <td>58203.0</td>\n",
              "      <td>NaN</td>\n",
              "      <td>NaN</td>\n",
              "      <td>2276</td>\n",
              "      <td>408.0</td>\n",
              "      <td>34.0</td>\n",
              "    </tr>\n",
              "    <tr>\n",
              "      <th>2</th>\n",
              "      <td>2020</td>\n",
              "      <td>전국</td>\n",
              "      <td>계</td>\n",
              "      <td>20~24</td>\n",
              "      <td>496119</td>\n",
              "      <td>169637.0</td>\n",
              "      <td>212989.0</td>\n",
              "      <td>85667.0</td>\n",
              "      <td>NaN</td>\n",
              "      <td>21442</td>\n",
              "      <td>5504.0</td>\n",
              "      <td>880.0</td>\n",
              "    </tr>\n",
              "    <tr>\n",
              "      <th>3</th>\n",
              "      <td>2020</td>\n",
              "      <td>전국</td>\n",
              "      <td>계</td>\n",
              "      <td>25~29</td>\n",
              "      <td>775110</td>\n",
              "      <td>494366.0</td>\n",
              "      <td>49934.0</td>\n",
              "      <td>189162.0</td>\n",
              "      <td>NaN</td>\n",
              "      <td>29628</td>\n",
              "      <td>9719.0</td>\n",
              "      <td>2301.0</td>\n",
              "    </tr>\n",
              "    <tr>\n",
              "      <th>4</th>\n",
              "      <td>2020</td>\n",
              "      <td>전국</td>\n",
              "      <td>계</td>\n",
              "      <td>30~34</td>\n",
              "      <td>618316</td>\n",
              "      <td>388892.0</td>\n",
              "      <td>5356.0</td>\n",
              "      <td>180804.0</td>\n",
              "      <td>1662.0</td>\n",
              "      <td>28792</td>\n",
              "      <td>10020.0</td>\n",
              "      <td>2790.0</td>\n",
              "    </tr>\n",
              "    <tr>\n",
              "      <th>...</th>\n",
              "      <td>...</td>\n",
              "      <td>...</td>\n",
              "      <td>...</td>\n",
              "      <td>...</td>\n",
              "      <td>...</td>\n",
              "      <td>...</td>\n",
              "      <td>...</td>\n",
              "      <td>...</td>\n",
              "      <td>...</td>\n",
              "      <td>...</td>\n",
              "      <td>...</td>\n",
              "      <td>...</td>\n",
              "    </tr>\n",
              "    <tr>\n",
              "      <th>187</th>\n",
              "      <td>2020</td>\n",
              "      <td>경기도</td>\n",
              "      <td>여자</td>\n",
              "      <td>65~69</td>\n",
              "      <td>53828</td>\n",
              "      <td>4074.0</td>\n",
              "      <td>NaN</td>\n",
              "      <td>13634.0</td>\n",
              "      <td>1148.0</td>\n",
              "      <td>17956</td>\n",
              "      <td>16737.0</td>\n",
              "      <td>279.0</td>\n",
              "    </tr>\n",
              "    <tr>\n",
              "      <th>188</th>\n",
              "      <td>2020</td>\n",
              "      <td>경기도</td>\n",
              "      <td>여자</td>\n",
              "      <td>70~74</td>\n",
              "      <td>48100</td>\n",
              "      <td>2061.0</td>\n",
              "      <td>NaN</td>\n",
              "      <td>9513.0</td>\n",
              "      <td>1078.0</td>\n",
              "      <td>15388</td>\n",
              "      <td>19895.0</td>\n",
              "      <td>165.0</td>\n",
              "    </tr>\n",
              "    <tr>\n",
              "      <th>189</th>\n",
              "      <td>2020</td>\n",
              "      <td>경기도</td>\n",
              "      <td>여자</td>\n",
              "      <td>75~79</td>\n",
              "      <td>45576</td>\n",
              "      <td>1276.0</td>\n",
              "      <td>NaN</td>\n",
              "      <td>5414.0</td>\n",
              "      <td>1273.0</td>\n",
              "      <td>14609</td>\n",
              "      <td>22801.0</td>\n",
              "      <td>203.0</td>\n",
              "    </tr>\n",
              "    <tr>\n",
              "      <th>190</th>\n",
              "      <td>2020</td>\n",
              "      <td>경기도</td>\n",
              "      <td>여자</td>\n",
              "      <td>80~84</td>\n",
              "      <td>35733</td>\n",
              "      <td>185.0</td>\n",
              "      <td>NaN</td>\n",
              "      <td>NaN</td>\n",
              "      <td>1046.0</td>\n",
              "      <td>14579</td>\n",
              "      <td>19844.0</td>\n",
              "      <td>79.0</td>\n",
              "    </tr>\n",
              "    <tr>\n",
              "      <th>191</th>\n",
              "      <td>2020</td>\n",
              "      <td>경기도</td>\n",
              "      <td>여자</td>\n",
              "      <td>85세 이상</td>\n",
              "      <td>23815</td>\n",
              "      <td>NaN</td>\n",
              "      <td>NaN</td>\n",
              "      <td>NaN</td>\n",
              "      <td>1285.0</td>\n",
              "      <td>9335</td>\n",
              "      <td>13106.0</td>\n",
              "      <td>89.0</td>\n",
              "    </tr>\n",
              "  </tbody>\n",
              "</table>\n",
              "<p>192 rows × 12 columns</p>\n",
              "</div>\n",
              "      <button class=\"colab-df-convert\" onclick=\"convertToInteractive('df-08d7833a-fecc-4e8f-816a-1639dbd95f86')\"\n",
              "              title=\"Convert this dataframe to an interactive table.\"\n",
              "              style=\"display:none;\">\n",
              "        \n",
              "  <svg xmlns=\"http://www.w3.org/2000/svg\" height=\"24px\"viewBox=\"0 0 24 24\"\n",
              "       width=\"24px\">\n",
              "    <path d=\"M0 0h24v24H0V0z\" fill=\"none\"/>\n",
              "    <path d=\"M18.56 5.44l.94 2.06.94-2.06 2.06-.94-2.06-.94-.94-2.06-.94 2.06-2.06.94zm-11 1L8.5 8.5l.94-2.06 2.06-.94-2.06-.94L8.5 2.5l-.94 2.06-2.06.94zm10 10l.94 2.06.94-2.06 2.06-.94-2.06-.94-.94-2.06-.94 2.06-2.06.94z\"/><path d=\"M17.41 7.96l-1.37-1.37c-.4-.4-.92-.59-1.43-.59-.52 0-1.04.2-1.43.59L10.3 9.45l-7.72 7.72c-.78.78-.78 2.05 0 2.83L4 21.41c.39.39.9.59 1.41.59.51 0 1.02-.2 1.41-.59l7.78-7.78 2.81-2.81c.8-.78.8-2.07 0-2.86zM5.41 20L4 18.59l7.72-7.72 1.47 1.35L5.41 20z\"/>\n",
              "  </svg>\n",
              "      </button>\n",
              "      \n",
              "  <style>\n",
              "    .colab-df-container {\n",
              "      display:flex;\n",
              "      flex-wrap:wrap;\n",
              "      gap: 12px;\n",
              "    }\n",
              "\n",
              "    .colab-df-convert {\n",
              "      background-color: #E8F0FE;\n",
              "      border: none;\n",
              "      border-radius: 50%;\n",
              "      cursor: pointer;\n",
              "      display: none;\n",
              "      fill: #1967D2;\n",
              "      height: 32px;\n",
              "      padding: 0 0 0 0;\n",
              "      width: 32px;\n",
              "    }\n",
              "\n",
              "    .colab-df-convert:hover {\n",
              "      background-color: #E2EBFA;\n",
              "      box-shadow: 0px 1px 2px rgba(60, 64, 67, 0.3), 0px 1px 3px 1px rgba(60, 64, 67, 0.15);\n",
              "      fill: #174EA6;\n",
              "    }\n",
              "\n",
              "    [theme=dark] .colab-df-convert {\n",
              "      background-color: #3B4455;\n",
              "      fill: #D2E3FC;\n",
              "    }\n",
              "\n",
              "    [theme=dark] .colab-df-convert:hover {\n",
              "      background-color: #434B5C;\n",
              "      box-shadow: 0px 1px 3px 1px rgba(0, 0, 0, 0.15);\n",
              "      filter: drop-shadow(0px 1px 2px rgba(0, 0, 0, 0.3));\n",
              "      fill: #FFFFFF;\n",
              "    }\n",
              "  </style>\n",
              "\n",
              "      <script>\n",
              "        const buttonEl =\n",
              "          document.querySelector('#df-08d7833a-fecc-4e8f-816a-1639dbd95f86 button.colab-df-convert');\n",
              "        buttonEl.style.display =\n",
              "          google.colab.kernel.accessAllowed ? 'block' : 'none';\n",
              "\n",
              "        async function convertToInteractive(key) {\n",
              "          const element = document.querySelector('#df-08d7833a-fecc-4e8f-816a-1639dbd95f86');\n",
              "          const dataTable =\n",
              "            await google.colab.kernel.invokeFunction('convertToInteractive',\n",
              "                                                     [key], {});\n",
              "          if (!dataTable) return;\n",
              "\n",
              "          const docLinkHtml = 'Like what you see? Visit the ' +\n",
              "            '<a target=\"_blank\" href=https://colab.research.google.com/notebooks/data_table.ipynb>data table notebook</a>'\n",
              "            + ' to learn more about interactive tables.';\n",
              "          element.innerHTML = '';\n",
              "          dataTable['output_type'] = 'display_data';\n",
              "          await google.colab.output.renderOutput(dataTable, element);\n",
              "          const docLink = document.createElement('div');\n",
              "          docLink.innerHTML = docLinkHtml;\n",
              "          element.appendChild(docLink);\n",
              "        }\n",
              "      </script>\n",
              "    </div>\n",
              "  </div>\n",
              "  "
            ]
          },
          "metadata": {},
          "execution_count": 51
        }
      ]
    },
    {
      "cell_type": "code",
      "source": [
        "reason_one.info()"
      ],
      "metadata": {
        "colab": {
          "base_uri": "https://localhost:8080/"
        },
        "id": "lkBqUO2McSHr",
        "outputId": "81c31786-21dd-4f24-e46f-bc84d1a591e7"
      },
      "execution_count": null,
      "outputs": [
        {
          "output_type": "stream",
          "name": "stdout",
          "text": [
            "<class 'pandas.core.frame.DataFrame'>\n",
            "RangeIndex: 192 entries, 0 to 191\n",
            "Data columns (total 12 columns):\n",
            " #   Column                        Non-Null Count  Dtype  \n",
            "---  ------                        --------------  -----  \n",
            " 0   시점                            192 non-null    int64  \n",
            " 1   행정구역별                         192 non-null    object \n",
            " 2   성별                            192 non-null    object \n",
            " 3   연령별                           192 non-null    object \n",
            " 4   1인가구-계                        192 non-null    int64  \n",
            " 5   본인의 직장 때문에                    180 non-null    float64\n",
            " 6   본인의 학업 때문에                    124 non-null    float64\n",
            " 7   본인의 독립 생활을 위하여                156 non-null    float64\n",
            " 8   본인의 건강 때문에                    156 non-null    float64\n",
            " 9   가족이 학업취업홍인건강등으로 타지에 거주하게 되어서  192 non-null    int64  \n",
            " 10  가족과 사별                        191 non-null    float64\n",
            " 11  기타                            186 non-null    float64\n",
            "dtypes: float64(6), int64(3), object(3)\n",
            "memory usage: 18.1+ KB\n"
          ]
        }
      ]
    },
    {
      "cell_type": "code",
      "source": [
        "reason_one.fillna(0,inplace=True)"
      ],
      "metadata": {
        "id": "Xrn_EzkjdqGe"
      },
      "execution_count": null,
      "outputs": []
    },
    {
      "cell_type": "markdown",
      "source": [
        "- 연령을 넓은 범위로 조정해줌"
      ],
      "metadata": {
        "id": "FDRAk_O0eo-5"
      }
    },
    {
      "cell_type": "code",
      "source": [
        "age=[]\n",
        "for i in reason_one['연령별']:\n",
        "  if i =='합계':\n",
        "    age.append('합계')\n",
        "  elif i == '20세 미만'or i=='20~24':\n",
        "    age.append('24세 이하')\n",
        "  elif i == '25~29' or i == '30~34' or i=='35~39':\n",
        "    age.append('25~39세')\n",
        "  elif i == '40~44' or i == '45~49' or i =='50~54':\n",
        "    age.append('40~54세')\n",
        "  elif i == '55~59' or i =='60~64' or i=='65~69':\n",
        "    age.append('55~69세')\n",
        "  else:\n",
        "    age.append('70세 이상')"
      ],
      "metadata": {
        "id": "7zheK8FSgZbi"
      },
      "execution_count": null,
      "outputs": []
    },
    {
      "cell_type": "code",
      "source": [
        "reason_one['연령구간']=age"
      ],
      "metadata": {
        "id": "IF3lAiHaj_RX"
      },
      "execution_count": null,
      "outputs": []
    },
    {
      "cell_type": "code",
      "source": [
        "reason_one.to_csv('1인가구사유별 연령대.csv')"
      ],
      "metadata": {
        "id": "_rISqf_RmRr_"
      },
      "execution_count": null,
      "outputs": []
    },
    {
      "cell_type": "code",
      "source": [
        "#남자\n",
        "reason_one.query(\"성별=='남자' and 행정구역별=='전국'\")"
      ],
      "metadata": {
        "colab": {
          "base_uri": "https://localhost:8080/",
          "height": 1000
        },
        "id": "-lnWzEKoKsdn",
        "outputId": "40d79a48-c581-4f06-e44f-1387b2f1f6a3"
      },
      "execution_count": null,
      "outputs": [
        {
          "output_type": "execute_result",
          "data": {
            "text/plain": [
              "      시점 행정구역별  성별     연령별   1인가구-계  본인의 직장 때문에  본인의 학업 때문에  본인의 독립 생활을 위하여  \\\n",
              "16  2020    전국  남자      합계  3304398   1437882.0    175375.0        960142.0   \n",
              "17  2020    전국  남자  20세 미만    33854      5802.0     26782.0             0.0   \n",
              "18  2020    전국  남자   20~24   219029     64115.0    105909.0         35675.0   \n",
              "19  2020    전국  남자   25~29   433190    271334.0     38218.0        100088.0   \n",
              "20  2020    전국  남자   30~34   394473    256851.0      3680.0        108065.0   \n",
              "21  2020    전국  남자   35~39   320100    182074.0       479.0        108009.0   \n",
              "22  2020    전국  남자   40~44   272897    145296.0       163.0         94727.0   \n",
              "23  2020    전국  남자   45~49   299310    146858.0       102.0        104252.0   \n",
              "24  2020    전국  남자   50~54   300477    131404.0        31.0        104065.0   \n",
              "25  2020    전국  남자   55~59   294220    108224.0         0.0        100679.0   \n",
              "26  2020    전국  남자   60~64   270517     74627.0         5.0         93812.0   \n",
              "27  2020    전국  남자   65~69   180497     32857.0         0.0         61174.0   \n",
              "28  2020    전국  남자   70~74   119128     12991.0         6.0         34841.0   \n",
              "29  2020    전국  남자   75~79    79884      4911.0         0.0         14755.0   \n",
              "30  2020    전국  남자   80~84    53056       538.0         0.0             0.0   \n",
              "31  2020    전국  남자  85세 이상    33766         0.0         0.0             0.0   \n",
              "\n",
              "    본인의 건강 때문에  가족이 학업취업홍인건강등으로 타지에 거주하게 되어서    가족과 사별       기타    연령구간  \n",
              "16     53446.0                        389434  265211.0  22908.0      합계  \n",
              "17         0.0                          1092     161.0     17.0  24세 이하  \n",
              "18         0.0                         10132    2735.0    463.0  24세 이하  \n",
              "19         0.0                         16139    5962.0   1449.0  25~39세  \n",
              "20       958.0                         16327    6613.0   1979.0  25~39세  \n",
              "21      1637.0                         17596    8559.0   1746.0  25~39세  \n",
              "22      2828.0                         17643   10081.0   2159.0  40~54세  \n",
              "23      4058.0                         25940   15283.0   2817.0  40~54세  \n",
              "24      6193.0                         36730   18578.0   3476.0  40~54세  \n",
              "25      8644.0                         49610   23587.0   3476.0  55~69세  \n",
              "26      9807.0                         59716   30412.0   2138.0  55~69세  \n",
              "27      7157.0                         46983   30776.0   1550.0  55~69세  \n",
              "28      5076.0                         33341   32048.0    825.0  70세 이상  \n",
              "29      3306.0                         24425   31982.0    505.0  70세 이상  \n",
              "30      2167.0                         21840   28343.0    168.0  70세 이상  \n",
              "31      1615.0                         11920   20091.0    140.0  70세 이상  "
            ],
            "text/html": [
              "\n",
              "  <div id=\"df-4cec5893-1787-4768-b243-25eadb8892ed\">\n",
              "    <div class=\"colab-df-container\">\n",
              "      <div>\n",
              "<style scoped>\n",
              "    .dataframe tbody tr th:only-of-type {\n",
              "        vertical-align: middle;\n",
              "    }\n",
              "\n",
              "    .dataframe tbody tr th {\n",
              "        vertical-align: top;\n",
              "    }\n",
              "\n",
              "    .dataframe thead th {\n",
              "        text-align: right;\n",
              "    }\n",
              "</style>\n",
              "<table border=\"1\" class=\"dataframe\">\n",
              "  <thead>\n",
              "    <tr style=\"text-align: right;\">\n",
              "      <th></th>\n",
              "      <th>시점</th>\n",
              "      <th>행정구역별</th>\n",
              "      <th>성별</th>\n",
              "      <th>연령별</th>\n",
              "      <th>1인가구-계</th>\n",
              "      <th>본인의 직장 때문에</th>\n",
              "      <th>본인의 학업 때문에</th>\n",
              "      <th>본인의 독립 생활을 위하여</th>\n",
              "      <th>본인의 건강 때문에</th>\n",
              "      <th>가족이 학업취업홍인건강등으로 타지에 거주하게 되어서</th>\n",
              "      <th>가족과 사별</th>\n",
              "      <th>기타</th>\n",
              "      <th>연령구간</th>\n",
              "    </tr>\n",
              "  </thead>\n",
              "  <tbody>\n",
              "    <tr>\n",
              "      <th>16</th>\n",
              "      <td>2020</td>\n",
              "      <td>전국</td>\n",
              "      <td>남자</td>\n",
              "      <td>합계</td>\n",
              "      <td>3304398</td>\n",
              "      <td>1437882.0</td>\n",
              "      <td>175375.0</td>\n",
              "      <td>960142.0</td>\n",
              "      <td>53446.0</td>\n",
              "      <td>389434</td>\n",
              "      <td>265211.0</td>\n",
              "      <td>22908.0</td>\n",
              "      <td>합계</td>\n",
              "    </tr>\n",
              "    <tr>\n",
              "      <th>17</th>\n",
              "      <td>2020</td>\n",
              "      <td>전국</td>\n",
              "      <td>남자</td>\n",
              "      <td>20세 미만</td>\n",
              "      <td>33854</td>\n",
              "      <td>5802.0</td>\n",
              "      <td>26782.0</td>\n",
              "      <td>0.0</td>\n",
              "      <td>0.0</td>\n",
              "      <td>1092</td>\n",
              "      <td>161.0</td>\n",
              "      <td>17.0</td>\n",
              "      <td>24세 이하</td>\n",
              "    </tr>\n",
              "    <tr>\n",
              "      <th>18</th>\n",
              "      <td>2020</td>\n",
              "      <td>전국</td>\n",
              "      <td>남자</td>\n",
              "      <td>20~24</td>\n",
              "      <td>219029</td>\n",
              "      <td>64115.0</td>\n",
              "      <td>105909.0</td>\n",
              "      <td>35675.0</td>\n",
              "      <td>0.0</td>\n",
              "      <td>10132</td>\n",
              "      <td>2735.0</td>\n",
              "      <td>463.0</td>\n",
              "      <td>24세 이하</td>\n",
              "    </tr>\n",
              "    <tr>\n",
              "      <th>19</th>\n",
              "      <td>2020</td>\n",
              "      <td>전국</td>\n",
              "      <td>남자</td>\n",
              "      <td>25~29</td>\n",
              "      <td>433190</td>\n",
              "      <td>271334.0</td>\n",
              "      <td>38218.0</td>\n",
              "      <td>100088.0</td>\n",
              "      <td>0.0</td>\n",
              "      <td>16139</td>\n",
              "      <td>5962.0</td>\n",
              "      <td>1449.0</td>\n",
              "      <td>25~39세</td>\n",
              "    </tr>\n",
              "    <tr>\n",
              "      <th>20</th>\n",
              "      <td>2020</td>\n",
              "      <td>전국</td>\n",
              "      <td>남자</td>\n",
              "      <td>30~34</td>\n",
              "      <td>394473</td>\n",
              "      <td>256851.0</td>\n",
              "      <td>3680.0</td>\n",
              "      <td>108065.0</td>\n",
              "      <td>958.0</td>\n",
              "      <td>16327</td>\n",
              "      <td>6613.0</td>\n",
              "      <td>1979.0</td>\n",
              "      <td>25~39세</td>\n",
              "    </tr>\n",
              "    <tr>\n",
              "      <th>21</th>\n",
              "      <td>2020</td>\n",
              "      <td>전국</td>\n",
              "      <td>남자</td>\n",
              "      <td>35~39</td>\n",
              "      <td>320100</td>\n",
              "      <td>182074.0</td>\n",
              "      <td>479.0</td>\n",
              "      <td>108009.0</td>\n",
              "      <td>1637.0</td>\n",
              "      <td>17596</td>\n",
              "      <td>8559.0</td>\n",
              "      <td>1746.0</td>\n",
              "      <td>25~39세</td>\n",
              "    </tr>\n",
              "    <tr>\n",
              "      <th>22</th>\n",
              "      <td>2020</td>\n",
              "      <td>전국</td>\n",
              "      <td>남자</td>\n",
              "      <td>40~44</td>\n",
              "      <td>272897</td>\n",
              "      <td>145296.0</td>\n",
              "      <td>163.0</td>\n",
              "      <td>94727.0</td>\n",
              "      <td>2828.0</td>\n",
              "      <td>17643</td>\n",
              "      <td>10081.0</td>\n",
              "      <td>2159.0</td>\n",
              "      <td>40~54세</td>\n",
              "    </tr>\n",
              "    <tr>\n",
              "      <th>23</th>\n",
              "      <td>2020</td>\n",
              "      <td>전국</td>\n",
              "      <td>남자</td>\n",
              "      <td>45~49</td>\n",
              "      <td>299310</td>\n",
              "      <td>146858.0</td>\n",
              "      <td>102.0</td>\n",
              "      <td>104252.0</td>\n",
              "      <td>4058.0</td>\n",
              "      <td>25940</td>\n",
              "      <td>15283.0</td>\n",
              "      <td>2817.0</td>\n",
              "      <td>40~54세</td>\n",
              "    </tr>\n",
              "    <tr>\n",
              "      <th>24</th>\n",
              "      <td>2020</td>\n",
              "      <td>전국</td>\n",
              "      <td>남자</td>\n",
              "      <td>50~54</td>\n",
              "      <td>300477</td>\n",
              "      <td>131404.0</td>\n",
              "      <td>31.0</td>\n",
              "      <td>104065.0</td>\n",
              "      <td>6193.0</td>\n",
              "      <td>36730</td>\n",
              "      <td>18578.0</td>\n",
              "      <td>3476.0</td>\n",
              "      <td>40~54세</td>\n",
              "    </tr>\n",
              "    <tr>\n",
              "      <th>25</th>\n",
              "      <td>2020</td>\n",
              "      <td>전국</td>\n",
              "      <td>남자</td>\n",
              "      <td>55~59</td>\n",
              "      <td>294220</td>\n",
              "      <td>108224.0</td>\n",
              "      <td>0.0</td>\n",
              "      <td>100679.0</td>\n",
              "      <td>8644.0</td>\n",
              "      <td>49610</td>\n",
              "      <td>23587.0</td>\n",
              "      <td>3476.0</td>\n",
              "      <td>55~69세</td>\n",
              "    </tr>\n",
              "    <tr>\n",
              "      <th>26</th>\n",
              "      <td>2020</td>\n",
              "      <td>전국</td>\n",
              "      <td>남자</td>\n",
              "      <td>60~64</td>\n",
              "      <td>270517</td>\n",
              "      <td>74627.0</td>\n",
              "      <td>5.0</td>\n",
              "      <td>93812.0</td>\n",
              "      <td>9807.0</td>\n",
              "      <td>59716</td>\n",
              "      <td>30412.0</td>\n",
              "      <td>2138.0</td>\n",
              "      <td>55~69세</td>\n",
              "    </tr>\n",
              "    <tr>\n",
              "      <th>27</th>\n",
              "      <td>2020</td>\n",
              "      <td>전국</td>\n",
              "      <td>남자</td>\n",
              "      <td>65~69</td>\n",
              "      <td>180497</td>\n",
              "      <td>32857.0</td>\n",
              "      <td>0.0</td>\n",
              "      <td>61174.0</td>\n",
              "      <td>7157.0</td>\n",
              "      <td>46983</td>\n",
              "      <td>30776.0</td>\n",
              "      <td>1550.0</td>\n",
              "      <td>55~69세</td>\n",
              "    </tr>\n",
              "    <tr>\n",
              "      <th>28</th>\n",
              "      <td>2020</td>\n",
              "      <td>전국</td>\n",
              "      <td>남자</td>\n",
              "      <td>70~74</td>\n",
              "      <td>119128</td>\n",
              "      <td>12991.0</td>\n",
              "      <td>6.0</td>\n",
              "      <td>34841.0</td>\n",
              "      <td>5076.0</td>\n",
              "      <td>33341</td>\n",
              "      <td>32048.0</td>\n",
              "      <td>825.0</td>\n",
              "      <td>70세 이상</td>\n",
              "    </tr>\n",
              "    <tr>\n",
              "      <th>29</th>\n",
              "      <td>2020</td>\n",
              "      <td>전국</td>\n",
              "      <td>남자</td>\n",
              "      <td>75~79</td>\n",
              "      <td>79884</td>\n",
              "      <td>4911.0</td>\n",
              "      <td>0.0</td>\n",
              "      <td>14755.0</td>\n",
              "      <td>3306.0</td>\n",
              "      <td>24425</td>\n",
              "      <td>31982.0</td>\n",
              "      <td>505.0</td>\n",
              "      <td>70세 이상</td>\n",
              "    </tr>\n",
              "    <tr>\n",
              "      <th>30</th>\n",
              "      <td>2020</td>\n",
              "      <td>전국</td>\n",
              "      <td>남자</td>\n",
              "      <td>80~84</td>\n",
              "      <td>53056</td>\n",
              "      <td>538.0</td>\n",
              "      <td>0.0</td>\n",
              "      <td>0.0</td>\n",
              "      <td>2167.0</td>\n",
              "      <td>21840</td>\n",
              "      <td>28343.0</td>\n",
              "      <td>168.0</td>\n",
              "      <td>70세 이상</td>\n",
              "    </tr>\n",
              "    <tr>\n",
              "      <th>31</th>\n",
              "      <td>2020</td>\n",
              "      <td>전국</td>\n",
              "      <td>남자</td>\n",
              "      <td>85세 이상</td>\n",
              "      <td>33766</td>\n",
              "      <td>0.0</td>\n",
              "      <td>0.0</td>\n",
              "      <td>0.0</td>\n",
              "      <td>1615.0</td>\n",
              "      <td>11920</td>\n",
              "      <td>20091.0</td>\n",
              "      <td>140.0</td>\n",
              "      <td>70세 이상</td>\n",
              "    </tr>\n",
              "  </tbody>\n",
              "</table>\n",
              "</div>\n",
              "      <button class=\"colab-df-convert\" onclick=\"convertToInteractive('df-4cec5893-1787-4768-b243-25eadb8892ed')\"\n",
              "              title=\"Convert this dataframe to an interactive table.\"\n",
              "              style=\"display:none;\">\n",
              "        \n",
              "  <svg xmlns=\"http://www.w3.org/2000/svg\" height=\"24px\"viewBox=\"0 0 24 24\"\n",
              "       width=\"24px\">\n",
              "    <path d=\"M0 0h24v24H0V0z\" fill=\"none\"/>\n",
              "    <path d=\"M18.56 5.44l.94 2.06.94-2.06 2.06-.94-2.06-.94-.94-2.06-.94 2.06-2.06.94zm-11 1L8.5 8.5l.94-2.06 2.06-.94-2.06-.94L8.5 2.5l-.94 2.06-2.06.94zm10 10l.94 2.06.94-2.06 2.06-.94-2.06-.94-.94-2.06-.94 2.06-2.06.94z\"/><path d=\"M17.41 7.96l-1.37-1.37c-.4-.4-.92-.59-1.43-.59-.52 0-1.04.2-1.43.59L10.3 9.45l-7.72 7.72c-.78.78-.78 2.05 0 2.83L4 21.41c.39.39.9.59 1.41.59.51 0 1.02-.2 1.41-.59l7.78-7.78 2.81-2.81c.8-.78.8-2.07 0-2.86zM5.41 20L4 18.59l7.72-7.72 1.47 1.35L5.41 20z\"/>\n",
              "  </svg>\n",
              "      </button>\n",
              "      \n",
              "  <style>\n",
              "    .colab-df-container {\n",
              "      display:flex;\n",
              "      flex-wrap:wrap;\n",
              "      gap: 12px;\n",
              "    }\n",
              "\n",
              "    .colab-df-convert {\n",
              "      background-color: #E8F0FE;\n",
              "      border: none;\n",
              "      border-radius: 50%;\n",
              "      cursor: pointer;\n",
              "      display: none;\n",
              "      fill: #1967D2;\n",
              "      height: 32px;\n",
              "      padding: 0 0 0 0;\n",
              "      width: 32px;\n",
              "    }\n",
              "\n",
              "    .colab-df-convert:hover {\n",
              "      background-color: #E2EBFA;\n",
              "      box-shadow: 0px 1px 2px rgba(60, 64, 67, 0.3), 0px 1px 3px 1px rgba(60, 64, 67, 0.15);\n",
              "      fill: #174EA6;\n",
              "    }\n",
              "\n",
              "    [theme=dark] .colab-df-convert {\n",
              "      background-color: #3B4455;\n",
              "      fill: #D2E3FC;\n",
              "    }\n",
              "\n",
              "    [theme=dark] .colab-df-convert:hover {\n",
              "      background-color: #434B5C;\n",
              "      box-shadow: 0px 1px 3px 1px rgba(0, 0, 0, 0.15);\n",
              "      filter: drop-shadow(0px 1px 2px rgba(0, 0, 0, 0.3));\n",
              "      fill: #FFFFFF;\n",
              "    }\n",
              "  </style>\n",
              "\n",
              "      <script>\n",
              "        const buttonEl =\n",
              "          document.querySelector('#df-4cec5893-1787-4768-b243-25eadb8892ed button.colab-df-convert');\n",
              "        buttonEl.style.display =\n",
              "          google.colab.kernel.accessAllowed ? 'block' : 'none';\n",
              "\n",
              "        async function convertToInteractive(key) {\n",
              "          const element = document.querySelector('#df-4cec5893-1787-4768-b243-25eadb8892ed');\n",
              "          const dataTable =\n",
              "            await google.colab.kernel.invokeFunction('convertToInteractive',\n",
              "                                                     [key], {});\n",
              "          if (!dataTable) return;\n",
              "\n",
              "          const docLinkHtml = 'Like what you see? Visit the ' +\n",
              "            '<a target=\"_blank\" href=https://colab.research.google.com/notebooks/data_table.ipynb>data table notebook</a>'\n",
              "            + ' to learn more about interactive tables.';\n",
              "          element.innerHTML = '';\n",
              "          dataTable['output_type'] = 'display_data';\n",
              "          await google.colab.output.renderOutput(dataTable, element);\n",
              "          const docLink = document.createElement('div');\n",
              "          docLink.innerHTML = docLinkHtml;\n",
              "          element.appendChild(docLink);\n",
              "        }\n",
              "      </script>\n",
              "    </div>\n",
              "  </div>\n",
              "  "
            ]
          },
          "metadata": {},
          "execution_count": 85
        }
      ]
    },
    {
      "cell_type": "code",
      "source": [
        "# 서울시에서 범죄율이 높은 구?\n",
        "crime=pd.read_csv('/content/drive/MyDrive/cp1 1인가구/5대+범죄+발생현황_20230105155408.csv',encoding = 'utf-8', engine='python')\n",
        "crime"
      ],
      "metadata": {
        "colab": {
          "base_uri": "https://localhost:8080/",
          "height": 424
        },
        "id": "0_SE97rPLBFO",
        "outputId": "0490a438-1082-43a3-a007-7a5ca0e631d3"
      },
      "execution_count": null,
      "outputs": [
        {
          "output_type": "execute_result",
          "data": {
            "text/plain": [
              "    자치구별(1) 자치구별(2)    시점 범죄별(1)   범죄별(2)     발생     검거\n",
              "0        합계      소계  2021     합계       소계  80445  58012\n",
              "1        합계      소계  2021     합계       살인    124    112\n",
              "2        합계      소계  2021     합계       강도    122    116\n",
              "3        합계      소계  2021     합계  강간·강제추행   4911   4446\n",
              "4        합계      소계  2021     합계       절도  33531  17950\n",
              "..      ...     ...   ...    ...      ...    ...    ...\n",
              "151      합계     강동구  2021     합계       살인      3      3\n",
              "152      합계     강동구  2021     합계       강도      6      6\n",
              "153      합계     강동구  2021     합계  강간·강제추행    124    103\n",
              "154      합계     강동구  2021     합계       절도   1612    889\n",
              "155      합계     강동구  2021     합계       폭력   1713   1461\n",
              "\n",
              "[156 rows x 7 columns]"
            ],
            "text/html": [
              "\n",
              "  <div id=\"df-330b8238-1c21-42ac-b27d-29809e7ac61b\">\n",
              "    <div class=\"colab-df-container\">\n",
              "      <div>\n",
              "<style scoped>\n",
              "    .dataframe tbody tr th:only-of-type {\n",
              "        vertical-align: middle;\n",
              "    }\n",
              "\n",
              "    .dataframe tbody tr th {\n",
              "        vertical-align: top;\n",
              "    }\n",
              "\n",
              "    .dataframe thead th {\n",
              "        text-align: right;\n",
              "    }\n",
              "</style>\n",
              "<table border=\"1\" class=\"dataframe\">\n",
              "  <thead>\n",
              "    <tr style=\"text-align: right;\">\n",
              "      <th></th>\n",
              "      <th>자치구별(1)</th>\n",
              "      <th>자치구별(2)</th>\n",
              "      <th>시점</th>\n",
              "      <th>범죄별(1)</th>\n",
              "      <th>범죄별(2)</th>\n",
              "      <th>발생</th>\n",
              "      <th>검거</th>\n",
              "    </tr>\n",
              "  </thead>\n",
              "  <tbody>\n",
              "    <tr>\n",
              "      <th>0</th>\n",
              "      <td>합계</td>\n",
              "      <td>소계</td>\n",
              "      <td>2021</td>\n",
              "      <td>합계</td>\n",
              "      <td>소계</td>\n",
              "      <td>80445</td>\n",
              "      <td>58012</td>\n",
              "    </tr>\n",
              "    <tr>\n",
              "      <th>1</th>\n",
              "      <td>합계</td>\n",
              "      <td>소계</td>\n",
              "      <td>2021</td>\n",
              "      <td>합계</td>\n",
              "      <td>살인</td>\n",
              "      <td>124</td>\n",
              "      <td>112</td>\n",
              "    </tr>\n",
              "    <tr>\n",
              "      <th>2</th>\n",
              "      <td>합계</td>\n",
              "      <td>소계</td>\n",
              "      <td>2021</td>\n",
              "      <td>합계</td>\n",
              "      <td>강도</td>\n",
              "      <td>122</td>\n",
              "      <td>116</td>\n",
              "    </tr>\n",
              "    <tr>\n",
              "      <th>3</th>\n",
              "      <td>합계</td>\n",
              "      <td>소계</td>\n",
              "      <td>2021</td>\n",
              "      <td>합계</td>\n",
              "      <td>강간·강제추행</td>\n",
              "      <td>4911</td>\n",
              "      <td>4446</td>\n",
              "    </tr>\n",
              "    <tr>\n",
              "      <th>4</th>\n",
              "      <td>합계</td>\n",
              "      <td>소계</td>\n",
              "      <td>2021</td>\n",
              "      <td>합계</td>\n",
              "      <td>절도</td>\n",
              "      <td>33531</td>\n",
              "      <td>17950</td>\n",
              "    </tr>\n",
              "    <tr>\n",
              "      <th>...</th>\n",
              "      <td>...</td>\n",
              "      <td>...</td>\n",
              "      <td>...</td>\n",
              "      <td>...</td>\n",
              "      <td>...</td>\n",
              "      <td>...</td>\n",
              "      <td>...</td>\n",
              "    </tr>\n",
              "    <tr>\n",
              "      <th>151</th>\n",
              "      <td>합계</td>\n",
              "      <td>강동구</td>\n",
              "      <td>2021</td>\n",
              "      <td>합계</td>\n",
              "      <td>살인</td>\n",
              "      <td>3</td>\n",
              "      <td>3</td>\n",
              "    </tr>\n",
              "    <tr>\n",
              "      <th>152</th>\n",
              "      <td>합계</td>\n",
              "      <td>강동구</td>\n",
              "      <td>2021</td>\n",
              "      <td>합계</td>\n",
              "      <td>강도</td>\n",
              "      <td>6</td>\n",
              "      <td>6</td>\n",
              "    </tr>\n",
              "    <tr>\n",
              "      <th>153</th>\n",
              "      <td>합계</td>\n",
              "      <td>강동구</td>\n",
              "      <td>2021</td>\n",
              "      <td>합계</td>\n",
              "      <td>강간·강제추행</td>\n",
              "      <td>124</td>\n",
              "      <td>103</td>\n",
              "    </tr>\n",
              "    <tr>\n",
              "      <th>154</th>\n",
              "      <td>합계</td>\n",
              "      <td>강동구</td>\n",
              "      <td>2021</td>\n",
              "      <td>합계</td>\n",
              "      <td>절도</td>\n",
              "      <td>1612</td>\n",
              "      <td>889</td>\n",
              "    </tr>\n",
              "    <tr>\n",
              "      <th>155</th>\n",
              "      <td>합계</td>\n",
              "      <td>강동구</td>\n",
              "      <td>2021</td>\n",
              "      <td>합계</td>\n",
              "      <td>폭력</td>\n",
              "      <td>1713</td>\n",
              "      <td>1461</td>\n",
              "    </tr>\n",
              "  </tbody>\n",
              "</table>\n",
              "<p>156 rows × 7 columns</p>\n",
              "</div>\n",
              "      <button class=\"colab-df-convert\" onclick=\"convertToInteractive('df-330b8238-1c21-42ac-b27d-29809e7ac61b')\"\n",
              "              title=\"Convert this dataframe to an interactive table.\"\n",
              "              style=\"display:none;\">\n",
              "        \n",
              "  <svg xmlns=\"http://www.w3.org/2000/svg\" height=\"24px\"viewBox=\"0 0 24 24\"\n",
              "       width=\"24px\">\n",
              "    <path d=\"M0 0h24v24H0V0z\" fill=\"none\"/>\n",
              "    <path d=\"M18.56 5.44l.94 2.06.94-2.06 2.06-.94-2.06-.94-.94-2.06-.94 2.06-2.06.94zm-11 1L8.5 8.5l.94-2.06 2.06-.94-2.06-.94L8.5 2.5l-.94 2.06-2.06.94zm10 10l.94 2.06.94-2.06 2.06-.94-2.06-.94-.94-2.06-.94 2.06-2.06.94z\"/><path d=\"M17.41 7.96l-1.37-1.37c-.4-.4-.92-.59-1.43-.59-.52 0-1.04.2-1.43.59L10.3 9.45l-7.72 7.72c-.78.78-.78 2.05 0 2.83L4 21.41c.39.39.9.59 1.41.59.51 0 1.02-.2 1.41-.59l7.78-7.78 2.81-2.81c.8-.78.8-2.07 0-2.86zM5.41 20L4 18.59l7.72-7.72 1.47 1.35L5.41 20z\"/>\n",
              "  </svg>\n",
              "      </button>\n",
              "      \n",
              "  <style>\n",
              "    .colab-df-container {\n",
              "      display:flex;\n",
              "      flex-wrap:wrap;\n",
              "      gap: 12px;\n",
              "    }\n",
              "\n",
              "    .colab-df-convert {\n",
              "      background-color: #E8F0FE;\n",
              "      border: none;\n",
              "      border-radius: 50%;\n",
              "      cursor: pointer;\n",
              "      display: none;\n",
              "      fill: #1967D2;\n",
              "      height: 32px;\n",
              "      padding: 0 0 0 0;\n",
              "      width: 32px;\n",
              "    }\n",
              "\n",
              "    .colab-df-convert:hover {\n",
              "      background-color: #E2EBFA;\n",
              "      box-shadow: 0px 1px 2px rgba(60, 64, 67, 0.3), 0px 1px 3px 1px rgba(60, 64, 67, 0.15);\n",
              "      fill: #174EA6;\n",
              "    }\n",
              "\n",
              "    [theme=dark] .colab-df-convert {\n",
              "      background-color: #3B4455;\n",
              "      fill: #D2E3FC;\n",
              "    }\n",
              "\n",
              "    [theme=dark] .colab-df-convert:hover {\n",
              "      background-color: #434B5C;\n",
              "      box-shadow: 0px 1px 3px 1px rgba(0, 0, 0, 0.15);\n",
              "      filter: drop-shadow(0px 1px 2px rgba(0, 0, 0, 0.3));\n",
              "      fill: #FFFFFF;\n",
              "    }\n",
              "  </style>\n",
              "\n",
              "      <script>\n",
              "        const buttonEl =\n",
              "          document.querySelector('#df-330b8238-1c21-42ac-b27d-29809e7ac61b button.colab-df-convert');\n",
              "        buttonEl.style.display =\n",
              "          google.colab.kernel.accessAllowed ? 'block' : 'none';\n",
              "\n",
              "        async function convertToInteractive(key) {\n",
              "          const element = document.querySelector('#df-330b8238-1c21-42ac-b27d-29809e7ac61b');\n",
              "          const dataTable =\n",
              "            await google.colab.kernel.invokeFunction('convertToInteractive',\n",
              "                                                     [key], {});\n",
              "          if (!dataTable) return;\n",
              "\n",
              "          const docLinkHtml = 'Like what you see? Visit the ' +\n",
              "            '<a target=\"_blank\" href=https://colab.research.google.com/notebooks/data_table.ipynb>data table notebook</a>'\n",
              "            + ' to learn more about interactive tables.';\n",
              "          element.innerHTML = '';\n",
              "          dataTable['output_type'] = 'display_data';\n",
              "          await google.colab.output.renderOutput(dataTable, element);\n",
              "          const docLink = document.createElement('div');\n",
              "          docLink.innerHTML = docLinkHtml;\n",
              "          element.appendChild(docLink);\n",
              "        }\n",
              "      </script>\n",
              "    </div>\n",
              "  </div>\n",
              "  "
            ]
          },
          "metadata": {},
          "execution_count": 15
        }
      ]
    },
    {
      "cell_type": "markdown",
      "source": [
        "- 필요한 열만 뽑아씀"
      ],
      "metadata": {
        "id": "pNdrQYS7eyrE"
      }
    },
    {
      "cell_type": "code",
      "source": [
        "df_crime = crime.drop(['자치구별(1)','범죄별(1)','시점'], axis=1)"
      ],
      "metadata": {
        "id": "sXbMHUVatxH1"
      },
      "execution_count": null,
      "outputs": []
    },
    {
      "cell_type": "code",
      "source": [
        "df_crime"
      ],
      "metadata": {
        "colab": {
          "base_uri": "https://localhost:8080/",
          "height": 424
        },
        "id": "y4RXipIhvC1Y",
        "outputId": "9c1c0c6d-0911-4203-ba47-e5656825d379"
      },
      "execution_count": null,
      "outputs": [
        {
          "output_type": "execute_result",
          "data": {
            "text/plain": [
              "    자치구별(2)   범죄별(2)     발생     검거\n",
              "0        소계       소계  80445  58012\n",
              "1        소계       살인    124    112\n",
              "2        소계       강도    122    116\n",
              "3        소계  강간·강제추행   4911   4446\n",
              "4        소계       절도  33531  17950\n",
              "..      ...      ...    ...    ...\n",
              "151     강동구       살인      3      3\n",
              "152     강동구       강도      6      6\n",
              "153     강동구  강간·강제추행    124    103\n",
              "154     강동구       절도   1612    889\n",
              "155     강동구       폭력   1713   1461\n",
              "\n",
              "[156 rows x 4 columns]"
            ],
            "text/html": [
              "\n",
              "  <div id=\"df-85aa7bd8-b74f-4e80-9400-1b6372282d6a\">\n",
              "    <div class=\"colab-df-container\">\n",
              "      <div>\n",
              "<style scoped>\n",
              "    .dataframe tbody tr th:only-of-type {\n",
              "        vertical-align: middle;\n",
              "    }\n",
              "\n",
              "    .dataframe tbody tr th {\n",
              "        vertical-align: top;\n",
              "    }\n",
              "\n",
              "    .dataframe thead th {\n",
              "        text-align: right;\n",
              "    }\n",
              "</style>\n",
              "<table border=\"1\" class=\"dataframe\">\n",
              "  <thead>\n",
              "    <tr style=\"text-align: right;\">\n",
              "      <th></th>\n",
              "      <th>자치구별(2)</th>\n",
              "      <th>범죄별(2)</th>\n",
              "      <th>발생</th>\n",
              "      <th>검거</th>\n",
              "    </tr>\n",
              "  </thead>\n",
              "  <tbody>\n",
              "    <tr>\n",
              "      <th>0</th>\n",
              "      <td>소계</td>\n",
              "      <td>소계</td>\n",
              "      <td>80445</td>\n",
              "      <td>58012</td>\n",
              "    </tr>\n",
              "    <tr>\n",
              "      <th>1</th>\n",
              "      <td>소계</td>\n",
              "      <td>살인</td>\n",
              "      <td>124</td>\n",
              "      <td>112</td>\n",
              "    </tr>\n",
              "    <tr>\n",
              "      <th>2</th>\n",
              "      <td>소계</td>\n",
              "      <td>강도</td>\n",
              "      <td>122</td>\n",
              "      <td>116</td>\n",
              "    </tr>\n",
              "    <tr>\n",
              "      <th>3</th>\n",
              "      <td>소계</td>\n",
              "      <td>강간·강제추행</td>\n",
              "      <td>4911</td>\n",
              "      <td>4446</td>\n",
              "    </tr>\n",
              "    <tr>\n",
              "      <th>4</th>\n",
              "      <td>소계</td>\n",
              "      <td>절도</td>\n",
              "      <td>33531</td>\n",
              "      <td>17950</td>\n",
              "    </tr>\n",
              "    <tr>\n",
              "      <th>...</th>\n",
              "      <td>...</td>\n",
              "      <td>...</td>\n",
              "      <td>...</td>\n",
              "      <td>...</td>\n",
              "    </tr>\n",
              "    <tr>\n",
              "      <th>151</th>\n",
              "      <td>강동구</td>\n",
              "      <td>살인</td>\n",
              "      <td>3</td>\n",
              "      <td>3</td>\n",
              "    </tr>\n",
              "    <tr>\n",
              "      <th>152</th>\n",
              "      <td>강동구</td>\n",
              "      <td>강도</td>\n",
              "      <td>6</td>\n",
              "      <td>6</td>\n",
              "    </tr>\n",
              "    <tr>\n",
              "      <th>153</th>\n",
              "      <td>강동구</td>\n",
              "      <td>강간·강제추행</td>\n",
              "      <td>124</td>\n",
              "      <td>103</td>\n",
              "    </tr>\n",
              "    <tr>\n",
              "      <th>154</th>\n",
              "      <td>강동구</td>\n",
              "      <td>절도</td>\n",
              "      <td>1612</td>\n",
              "      <td>889</td>\n",
              "    </tr>\n",
              "    <tr>\n",
              "      <th>155</th>\n",
              "      <td>강동구</td>\n",
              "      <td>폭력</td>\n",
              "      <td>1713</td>\n",
              "      <td>1461</td>\n",
              "    </tr>\n",
              "  </tbody>\n",
              "</table>\n",
              "<p>156 rows × 4 columns</p>\n",
              "</div>\n",
              "      <button class=\"colab-df-convert\" onclick=\"convertToInteractive('df-85aa7bd8-b74f-4e80-9400-1b6372282d6a')\"\n",
              "              title=\"Convert this dataframe to an interactive table.\"\n",
              "              style=\"display:none;\">\n",
              "        \n",
              "  <svg xmlns=\"http://www.w3.org/2000/svg\" height=\"24px\"viewBox=\"0 0 24 24\"\n",
              "       width=\"24px\">\n",
              "    <path d=\"M0 0h24v24H0V0z\" fill=\"none\"/>\n",
              "    <path d=\"M18.56 5.44l.94 2.06.94-2.06 2.06-.94-2.06-.94-.94-2.06-.94 2.06-2.06.94zm-11 1L8.5 8.5l.94-2.06 2.06-.94-2.06-.94L8.5 2.5l-.94 2.06-2.06.94zm10 10l.94 2.06.94-2.06 2.06-.94-2.06-.94-.94-2.06-.94 2.06-2.06.94z\"/><path d=\"M17.41 7.96l-1.37-1.37c-.4-.4-.92-.59-1.43-.59-.52 0-1.04.2-1.43.59L10.3 9.45l-7.72 7.72c-.78.78-.78 2.05 0 2.83L4 21.41c.39.39.9.59 1.41.59.51 0 1.02-.2 1.41-.59l7.78-7.78 2.81-2.81c.8-.78.8-2.07 0-2.86zM5.41 20L4 18.59l7.72-7.72 1.47 1.35L5.41 20z\"/>\n",
              "  </svg>\n",
              "      </button>\n",
              "      \n",
              "  <style>\n",
              "    .colab-df-container {\n",
              "      display:flex;\n",
              "      flex-wrap:wrap;\n",
              "      gap: 12px;\n",
              "    }\n",
              "\n",
              "    .colab-df-convert {\n",
              "      background-color: #E8F0FE;\n",
              "      border: none;\n",
              "      border-radius: 50%;\n",
              "      cursor: pointer;\n",
              "      display: none;\n",
              "      fill: #1967D2;\n",
              "      height: 32px;\n",
              "      padding: 0 0 0 0;\n",
              "      width: 32px;\n",
              "    }\n",
              "\n",
              "    .colab-df-convert:hover {\n",
              "      background-color: #E2EBFA;\n",
              "      box-shadow: 0px 1px 2px rgba(60, 64, 67, 0.3), 0px 1px 3px 1px rgba(60, 64, 67, 0.15);\n",
              "      fill: #174EA6;\n",
              "    }\n",
              "\n",
              "    [theme=dark] .colab-df-convert {\n",
              "      background-color: #3B4455;\n",
              "      fill: #D2E3FC;\n",
              "    }\n",
              "\n",
              "    [theme=dark] .colab-df-convert:hover {\n",
              "      background-color: #434B5C;\n",
              "      box-shadow: 0px 1px 3px 1px rgba(0, 0, 0, 0.15);\n",
              "      filter: drop-shadow(0px 1px 2px rgba(0, 0, 0, 0.3));\n",
              "      fill: #FFFFFF;\n",
              "    }\n",
              "  </style>\n",
              "\n",
              "      <script>\n",
              "        const buttonEl =\n",
              "          document.querySelector('#df-85aa7bd8-b74f-4e80-9400-1b6372282d6a button.colab-df-convert');\n",
              "        buttonEl.style.display =\n",
              "          google.colab.kernel.accessAllowed ? 'block' : 'none';\n",
              "\n",
              "        async function convertToInteractive(key) {\n",
              "          const element = document.querySelector('#df-85aa7bd8-b74f-4e80-9400-1b6372282d6a');\n",
              "          const dataTable =\n",
              "            await google.colab.kernel.invokeFunction('convertToInteractive',\n",
              "                                                     [key], {});\n",
              "          if (!dataTable) return;\n",
              "\n",
              "          const docLinkHtml = 'Like what you see? Visit the ' +\n",
              "            '<a target=\"_blank\" href=https://colab.research.google.com/notebooks/data_table.ipynb>data table notebook</a>'\n",
              "            + ' to learn more about interactive tables.';\n",
              "          element.innerHTML = '';\n",
              "          dataTable['output_type'] = 'display_data';\n",
              "          await google.colab.output.renderOutput(dataTable, element);\n",
              "          const docLink = document.createElement('div');\n",
              "          docLink.innerHTML = docLinkHtml;\n",
              "          element.appendChild(docLink);\n",
              "        }\n",
              "      </script>\n",
              "    </div>\n",
              "  </div>\n",
              "  "
            ]
          },
          "metadata": {},
          "execution_count": 17
        }
      ]
    },
    {
      "cell_type": "code",
      "source": [
        "df_crime.rename(columns={'범죄별(2)':'범죄별','자치구별(2)':'자치구별'},inplace=True)"
      ],
      "metadata": {
        "id": "sQQv966xvUmj"
      },
      "execution_count": null,
      "outputs": []
    },
    {
      "cell_type": "code",
      "source": [
        "#csv저장\n",
        "df_crime.to_csv('서울시_범죄.csv')"
      ],
      "metadata": {
        "id": "UqpSZUQ-wpA1"
      },
      "execution_count": null,
      "outputs": []
    },
    {
      "cell_type": "code",
      "source": [
        "df_crime.query(\"범죄별=='소계'\")"
      ],
      "metadata": {
        "colab": {
          "base_uri": "https://localhost:8080/",
          "height": 864
        },
        "id": "fdrn3ybzudaN",
        "outputId": "44ce86a3-7933-4d62-f6c6-22328b7b996b"
      },
      "execution_count": null,
      "outputs": [
        {
          "output_type": "execute_result",
          "data": {
            "text/plain": [
              "     자치구별 범죄별     발생     검거\n",
              "0      소계  소계  80445  58012\n",
              "6     종로구  소계   2712   2755\n",
              "12     중구  소계   2861   2072\n",
              "18    용산구  소계   2381   1659\n",
              "24    성동구  소계   2112   1510\n",
              "30    광진구  소계   3087   2202\n",
              "36   동대문구  소계   2959   2113\n",
              "42    중랑구  소계   3210   2405\n",
              "48    성북구  소계   2411   1787\n",
              "54    강북구  소계   2301   1912\n",
              "60    도봉구  소계   1860   1294\n",
              "66    노원구  소계   3425   2302\n",
              "72    은평구  소계   3244   2423\n",
              "78   서대문구  소계   2278   1594\n",
              "84    마포구  소계   3540   2379\n",
              "90    양천구  소계   3015   2085\n",
              "96    강서구  소계   3896   3044\n",
              "102   구로구  소계   3486   2431\n",
              "108   금천구  소계   2439   1741\n",
              "114  영등포구  소계   4179   2777\n",
              "120   동작구  소계   2631   1829\n",
              "126   관악구  소계   4444   3134\n",
              "132   서초구  소계   3656   2439\n",
              "138   강남구  소계   6146   4397\n",
              "144   송파구  소계   4714   3266\n",
              "150   강동구  소계   3458   2462"
            ],
            "text/html": [
              "\n",
              "  <div id=\"df-2962dc28-1dfc-4bb6-b914-977ea1326afa\">\n",
              "    <div class=\"colab-df-container\">\n",
              "      <div>\n",
              "<style scoped>\n",
              "    .dataframe tbody tr th:only-of-type {\n",
              "        vertical-align: middle;\n",
              "    }\n",
              "\n",
              "    .dataframe tbody tr th {\n",
              "        vertical-align: top;\n",
              "    }\n",
              "\n",
              "    .dataframe thead th {\n",
              "        text-align: right;\n",
              "    }\n",
              "</style>\n",
              "<table border=\"1\" class=\"dataframe\">\n",
              "  <thead>\n",
              "    <tr style=\"text-align: right;\">\n",
              "      <th></th>\n",
              "      <th>자치구별</th>\n",
              "      <th>범죄별</th>\n",
              "      <th>발생</th>\n",
              "      <th>검거</th>\n",
              "    </tr>\n",
              "  </thead>\n",
              "  <tbody>\n",
              "    <tr>\n",
              "      <th>0</th>\n",
              "      <td>소계</td>\n",
              "      <td>소계</td>\n",
              "      <td>80445</td>\n",
              "      <td>58012</td>\n",
              "    </tr>\n",
              "    <tr>\n",
              "      <th>6</th>\n",
              "      <td>종로구</td>\n",
              "      <td>소계</td>\n",
              "      <td>2712</td>\n",
              "      <td>2755</td>\n",
              "    </tr>\n",
              "    <tr>\n",
              "      <th>12</th>\n",
              "      <td>중구</td>\n",
              "      <td>소계</td>\n",
              "      <td>2861</td>\n",
              "      <td>2072</td>\n",
              "    </tr>\n",
              "    <tr>\n",
              "      <th>18</th>\n",
              "      <td>용산구</td>\n",
              "      <td>소계</td>\n",
              "      <td>2381</td>\n",
              "      <td>1659</td>\n",
              "    </tr>\n",
              "    <tr>\n",
              "      <th>24</th>\n",
              "      <td>성동구</td>\n",
              "      <td>소계</td>\n",
              "      <td>2112</td>\n",
              "      <td>1510</td>\n",
              "    </tr>\n",
              "    <tr>\n",
              "      <th>30</th>\n",
              "      <td>광진구</td>\n",
              "      <td>소계</td>\n",
              "      <td>3087</td>\n",
              "      <td>2202</td>\n",
              "    </tr>\n",
              "    <tr>\n",
              "      <th>36</th>\n",
              "      <td>동대문구</td>\n",
              "      <td>소계</td>\n",
              "      <td>2959</td>\n",
              "      <td>2113</td>\n",
              "    </tr>\n",
              "    <tr>\n",
              "      <th>42</th>\n",
              "      <td>중랑구</td>\n",
              "      <td>소계</td>\n",
              "      <td>3210</td>\n",
              "      <td>2405</td>\n",
              "    </tr>\n",
              "    <tr>\n",
              "      <th>48</th>\n",
              "      <td>성북구</td>\n",
              "      <td>소계</td>\n",
              "      <td>2411</td>\n",
              "      <td>1787</td>\n",
              "    </tr>\n",
              "    <tr>\n",
              "      <th>54</th>\n",
              "      <td>강북구</td>\n",
              "      <td>소계</td>\n",
              "      <td>2301</td>\n",
              "      <td>1912</td>\n",
              "    </tr>\n",
              "    <tr>\n",
              "      <th>60</th>\n",
              "      <td>도봉구</td>\n",
              "      <td>소계</td>\n",
              "      <td>1860</td>\n",
              "      <td>1294</td>\n",
              "    </tr>\n",
              "    <tr>\n",
              "      <th>66</th>\n",
              "      <td>노원구</td>\n",
              "      <td>소계</td>\n",
              "      <td>3425</td>\n",
              "      <td>2302</td>\n",
              "    </tr>\n",
              "    <tr>\n",
              "      <th>72</th>\n",
              "      <td>은평구</td>\n",
              "      <td>소계</td>\n",
              "      <td>3244</td>\n",
              "      <td>2423</td>\n",
              "    </tr>\n",
              "    <tr>\n",
              "      <th>78</th>\n",
              "      <td>서대문구</td>\n",
              "      <td>소계</td>\n",
              "      <td>2278</td>\n",
              "      <td>1594</td>\n",
              "    </tr>\n",
              "    <tr>\n",
              "      <th>84</th>\n",
              "      <td>마포구</td>\n",
              "      <td>소계</td>\n",
              "      <td>3540</td>\n",
              "      <td>2379</td>\n",
              "    </tr>\n",
              "    <tr>\n",
              "      <th>90</th>\n",
              "      <td>양천구</td>\n",
              "      <td>소계</td>\n",
              "      <td>3015</td>\n",
              "      <td>2085</td>\n",
              "    </tr>\n",
              "    <tr>\n",
              "      <th>96</th>\n",
              "      <td>강서구</td>\n",
              "      <td>소계</td>\n",
              "      <td>3896</td>\n",
              "      <td>3044</td>\n",
              "    </tr>\n",
              "    <tr>\n",
              "      <th>102</th>\n",
              "      <td>구로구</td>\n",
              "      <td>소계</td>\n",
              "      <td>3486</td>\n",
              "      <td>2431</td>\n",
              "    </tr>\n",
              "    <tr>\n",
              "      <th>108</th>\n",
              "      <td>금천구</td>\n",
              "      <td>소계</td>\n",
              "      <td>2439</td>\n",
              "      <td>1741</td>\n",
              "    </tr>\n",
              "    <tr>\n",
              "      <th>114</th>\n",
              "      <td>영등포구</td>\n",
              "      <td>소계</td>\n",
              "      <td>4179</td>\n",
              "      <td>2777</td>\n",
              "    </tr>\n",
              "    <tr>\n",
              "      <th>120</th>\n",
              "      <td>동작구</td>\n",
              "      <td>소계</td>\n",
              "      <td>2631</td>\n",
              "      <td>1829</td>\n",
              "    </tr>\n",
              "    <tr>\n",
              "      <th>126</th>\n",
              "      <td>관악구</td>\n",
              "      <td>소계</td>\n",
              "      <td>4444</td>\n",
              "      <td>3134</td>\n",
              "    </tr>\n",
              "    <tr>\n",
              "      <th>132</th>\n",
              "      <td>서초구</td>\n",
              "      <td>소계</td>\n",
              "      <td>3656</td>\n",
              "      <td>2439</td>\n",
              "    </tr>\n",
              "    <tr>\n",
              "      <th>138</th>\n",
              "      <td>강남구</td>\n",
              "      <td>소계</td>\n",
              "      <td>6146</td>\n",
              "      <td>4397</td>\n",
              "    </tr>\n",
              "    <tr>\n",
              "      <th>144</th>\n",
              "      <td>송파구</td>\n",
              "      <td>소계</td>\n",
              "      <td>4714</td>\n",
              "      <td>3266</td>\n",
              "    </tr>\n",
              "    <tr>\n",
              "      <th>150</th>\n",
              "      <td>강동구</td>\n",
              "      <td>소계</td>\n",
              "      <td>3458</td>\n",
              "      <td>2462</td>\n",
              "    </tr>\n",
              "  </tbody>\n",
              "</table>\n",
              "</div>\n",
              "      <button class=\"colab-df-convert\" onclick=\"convertToInteractive('df-2962dc28-1dfc-4bb6-b914-977ea1326afa')\"\n",
              "              title=\"Convert this dataframe to an interactive table.\"\n",
              "              style=\"display:none;\">\n",
              "        \n",
              "  <svg xmlns=\"http://www.w3.org/2000/svg\" height=\"24px\"viewBox=\"0 0 24 24\"\n",
              "       width=\"24px\">\n",
              "    <path d=\"M0 0h24v24H0V0z\" fill=\"none\"/>\n",
              "    <path d=\"M18.56 5.44l.94 2.06.94-2.06 2.06-.94-2.06-.94-.94-2.06-.94 2.06-2.06.94zm-11 1L8.5 8.5l.94-2.06 2.06-.94-2.06-.94L8.5 2.5l-.94 2.06-2.06.94zm10 10l.94 2.06.94-2.06 2.06-.94-2.06-.94-.94-2.06-.94 2.06-2.06.94z\"/><path d=\"M17.41 7.96l-1.37-1.37c-.4-.4-.92-.59-1.43-.59-.52 0-1.04.2-1.43.59L10.3 9.45l-7.72 7.72c-.78.78-.78 2.05 0 2.83L4 21.41c.39.39.9.59 1.41.59.51 0 1.02-.2 1.41-.59l7.78-7.78 2.81-2.81c.8-.78.8-2.07 0-2.86zM5.41 20L4 18.59l7.72-7.72 1.47 1.35L5.41 20z\"/>\n",
              "  </svg>\n",
              "      </button>\n",
              "      \n",
              "  <style>\n",
              "    .colab-df-container {\n",
              "      display:flex;\n",
              "      flex-wrap:wrap;\n",
              "      gap: 12px;\n",
              "    }\n",
              "\n",
              "    .colab-df-convert {\n",
              "      background-color: #E8F0FE;\n",
              "      border: none;\n",
              "      border-radius: 50%;\n",
              "      cursor: pointer;\n",
              "      display: none;\n",
              "      fill: #1967D2;\n",
              "      height: 32px;\n",
              "      padding: 0 0 0 0;\n",
              "      width: 32px;\n",
              "    }\n",
              "\n",
              "    .colab-df-convert:hover {\n",
              "      background-color: #E2EBFA;\n",
              "      box-shadow: 0px 1px 2px rgba(60, 64, 67, 0.3), 0px 1px 3px 1px rgba(60, 64, 67, 0.15);\n",
              "      fill: #174EA6;\n",
              "    }\n",
              "\n",
              "    [theme=dark] .colab-df-convert {\n",
              "      background-color: #3B4455;\n",
              "      fill: #D2E3FC;\n",
              "    }\n",
              "\n",
              "    [theme=dark] .colab-df-convert:hover {\n",
              "      background-color: #434B5C;\n",
              "      box-shadow: 0px 1px 3px 1px rgba(0, 0, 0, 0.15);\n",
              "      filter: drop-shadow(0px 1px 2px rgba(0, 0, 0, 0.3));\n",
              "      fill: #FFFFFF;\n",
              "    }\n",
              "  </style>\n",
              "\n",
              "      <script>\n",
              "        const buttonEl =\n",
              "          document.querySelector('#df-2962dc28-1dfc-4bb6-b914-977ea1326afa button.colab-df-convert');\n",
              "        buttonEl.style.display =\n",
              "          google.colab.kernel.accessAllowed ? 'block' : 'none';\n",
              "\n",
              "        async function convertToInteractive(key) {\n",
              "          const element = document.querySelector('#df-2962dc28-1dfc-4bb6-b914-977ea1326afa');\n",
              "          const dataTable =\n",
              "            await google.colab.kernel.invokeFunction('convertToInteractive',\n",
              "                                                     [key], {});\n",
              "          if (!dataTable) return;\n",
              "\n",
              "          const docLinkHtml = 'Like what you see? Visit the ' +\n",
              "            '<a target=\"_blank\" href=https://colab.research.google.com/notebooks/data_table.ipynb>data table notebook</a>'\n",
              "            + ' to learn more about interactive tables.';\n",
              "          element.innerHTML = '';\n",
              "          dataTable['output_type'] = 'display_data';\n",
              "          await google.colab.output.renderOutput(dataTable, element);\n",
              "          const docLink = document.createElement('div');\n",
              "          docLink.innerHTML = docLinkHtml;\n",
              "          element.appendChild(docLink);\n",
              "        }\n",
              "      </script>\n",
              "    </div>\n",
              "  </div>\n",
              "  "
            ]
          },
          "metadata": {},
          "execution_count": 21
        }
      ]
    },
    {
      "cell_type": "code",
      "source": [
        "#서울시 1인가구(연령별)\n",
        "seoul_one=pd.read_csv('/content/drive/MyDrive/cp1 1인가구/1인가구(연령별)_20230105232448.csv',encoding = 'utf-8', engine='python')\n",
        "seoul_one"
      ],
      "metadata": {
        "colab": {
          "base_uri": "https://localhost:8080/",
          "height": 424
        },
        "id": "T47uxuNnu5hS",
        "outputId": "1dfe79ec-70f8-4476-8299-0d020ce1cb41"
      },
      "execution_count": null,
      "outputs": [
        {
          "output_type": "execute_result",
          "data": {
            "text/plain": [
              "     자치구별(1) 자치구별(2) 성별(1) 연령별(1)  연령별(2)     2021\n",
              "0         합계      소계     계     합계      소계  1489893\n",
              "1         합계      소계     계     합계   20세미만    10687\n",
              "2         합계      소계     계     합계  20~24세   126833\n",
              "3         합계      소계     계     합계  25~29세   263071\n",
              "4         합계      소계     계     합계  30~34세   204717\n",
              "...      ...     ...   ...    ...     ...      ...\n",
              "1243      합계     강동구    여자     합계  65~69세     2725\n",
              "1244      합계     강동구    여자     합계  70~74세     2117\n",
              "1245      합계     강동구    여자     합계  75~79세     1616\n",
              "1246      합계     강동구    여자     합계  80~84세     1196\n",
              "1247      합계     강동구    여자     합계   85세이상      867\n",
              "\n",
              "[1248 rows x 6 columns]"
            ],
            "text/html": [
              "\n",
              "  <div id=\"df-5411aea1-a594-4a59-9dab-f4921037aa04\">\n",
              "    <div class=\"colab-df-container\">\n",
              "      <div>\n",
              "<style scoped>\n",
              "    .dataframe tbody tr th:only-of-type {\n",
              "        vertical-align: middle;\n",
              "    }\n",
              "\n",
              "    .dataframe tbody tr th {\n",
              "        vertical-align: top;\n",
              "    }\n",
              "\n",
              "    .dataframe thead th {\n",
              "        text-align: right;\n",
              "    }\n",
              "</style>\n",
              "<table border=\"1\" class=\"dataframe\">\n",
              "  <thead>\n",
              "    <tr style=\"text-align: right;\">\n",
              "      <th></th>\n",
              "      <th>자치구별(1)</th>\n",
              "      <th>자치구별(2)</th>\n",
              "      <th>성별(1)</th>\n",
              "      <th>연령별(1)</th>\n",
              "      <th>연령별(2)</th>\n",
              "      <th>2021</th>\n",
              "    </tr>\n",
              "  </thead>\n",
              "  <tbody>\n",
              "    <tr>\n",
              "      <th>0</th>\n",
              "      <td>합계</td>\n",
              "      <td>소계</td>\n",
              "      <td>계</td>\n",
              "      <td>합계</td>\n",
              "      <td>소계</td>\n",
              "      <td>1489893</td>\n",
              "    </tr>\n",
              "    <tr>\n",
              "      <th>1</th>\n",
              "      <td>합계</td>\n",
              "      <td>소계</td>\n",
              "      <td>계</td>\n",
              "      <td>합계</td>\n",
              "      <td>20세미만</td>\n",
              "      <td>10687</td>\n",
              "    </tr>\n",
              "    <tr>\n",
              "      <th>2</th>\n",
              "      <td>합계</td>\n",
              "      <td>소계</td>\n",
              "      <td>계</td>\n",
              "      <td>합계</td>\n",
              "      <td>20~24세</td>\n",
              "      <td>126833</td>\n",
              "    </tr>\n",
              "    <tr>\n",
              "      <th>3</th>\n",
              "      <td>합계</td>\n",
              "      <td>소계</td>\n",
              "      <td>계</td>\n",
              "      <td>합계</td>\n",
              "      <td>25~29세</td>\n",
              "      <td>263071</td>\n",
              "    </tr>\n",
              "    <tr>\n",
              "      <th>4</th>\n",
              "      <td>합계</td>\n",
              "      <td>소계</td>\n",
              "      <td>계</td>\n",
              "      <td>합계</td>\n",
              "      <td>30~34세</td>\n",
              "      <td>204717</td>\n",
              "    </tr>\n",
              "    <tr>\n",
              "      <th>...</th>\n",
              "      <td>...</td>\n",
              "      <td>...</td>\n",
              "      <td>...</td>\n",
              "      <td>...</td>\n",
              "      <td>...</td>\n",
              "      <td>...</td>\n",
              "    </tr>\n",
              "    <tr>\n",
              "      <th>1243</th>\n",
              "      <td>합계</td>\n",
              "      <td>강동구</td>\n",
              "      <td>여자</td>\n",
              "      <td>합계</td>\n",
              "      <td>65~69세</td>\n",
              "      <td>2725</td>\n",
              "    </tr>\n",
              "    <tr>\n",
              "      <th>1244</th>\n",
              "      <td>합계</td>\n",
              "      <td>강동구</td>\n",
              "      <td>여자</td>\n",
              "      <td>합계</td>\n",
              "      <td>70~74세</td>\n",
              "      <td>2117</td>\n",
              "    </tr>\n",
              "    <tr>\n",
              "      <th>1245</th>\n",
              "      <td>합계</td>\n",
              "      <td>강동구</td>\n",
              "      <td>여자</td>\n",
              "      <td>합계</td>\n",
              "      <td>75~79세</td>\n",
              "      <td>1616</td>\n",
              "    </tr>\n",
              "    <tr>\n",
              "      <th>1246</th>\n",
              "      <td>합계</td>\n",
              "      <td>강동구</td>\n",
              "      <td>여자</td>\n",
              "      <td>합계</td>\n",
              "      <td>80~84세</td>\n",
              "      <td>1196</td>\n",
              "    </tr>\n",
              "    <tr>\n",
              "      <th>1247</th>\n",
              "      <td>합계</td>\n",
              "      <td>강동구</td>\n",
              "      <td>여자</td>\n",
              "      <td>합계</td>\n",
              "      <td>85세이상</td>\n",
              "      <td>867</td>\n",
              "    </tr>\n",
              "  </tbody>\n",
              "</table>\n",
              "<p>1248 rows × 6 columns</p>\n",
              "</div>\n",
              "      <button class=\"colab-df-convert\" onclick=\"convertToInteractive('df-5411aea1-a594-4a59-9dab-f4921037aa04')\"\n",
              "              title=\"Convert this dataframe to an interactive table.\"\n",
              "              style=\"display:none;\">\n",
              "        \n",
              "  <svg xmlns=\"http://www.w3.org/2000/svg\" height=\"24px\"viewBox=\"0 0 24 24\"\n",
              "       width=\"24px\">\n",
              "    <path d=\"M0 0h24v24H0V0z\" fill=\"none\"/>\n",
              "    <path d=\"M18.56 5.44l.94 2.06.94-2.06 2.06-.94-2.06-.94-.94-2.06-.94 2.06-2.06.94zm-11 1L8.5 8.5l.94-2.06 2.06-.94-2.06-.94L8.5 2.5l-.94 2.06-2.06.94zm10 10l.94 2.06.94-2.06 2.06-.94-2.06-.94-.94-2.06-.94 2.06-2.06.94z\"/><path d=\"M17.41 7.96l-1.37-1.37c-.4-.4-.92-.59-1.43-.59-.52 0-1.04.2-1.43.59L10.3 9.45l-7.72 7.72c-.78.78-.78 2.05 0 2.83L4 21.41c.39.39.9.59 1.41.59.51 0 1.02-.2 1.41-.59l7.78-7.78 2.81-2.81c.8-.78.8-2.07 0-2.86zM5.41 20L4 18.59l7.72-7.72 1.47 1.35L5.41 20z\"/>\n",
              "  </svg>\n",
              "      </button>\n",
              "      \n",
              "  <style>\n",
              "    .colab-df-container {\n",
              "      display:flex;\n",
              "      flex-wrap:wrap;\n",
              "      gap: 12px;\n",
              "    }\n",
              "\n",
              "    .colab-df-convert {\n",
              "      background-color: #E8F0FE;\n",
              "      border: none;\n",
              "      border-radius: 50%;\n",
              "      cursor: pointer;\n",
              "      display: none;\n",
              "      fill: #1967D2;\n",
              "      height: 32px;\n",
              "      padding: 0 0 0 0;\n",
              "      width: 32px;\n",
              "    }\n",
              "\n",
              "    .colab-df-convert:hover {\n",
              "      background-color: #E2EBFA;\n",
              "      box-shadow: 0px 1px 2px rgba(60, 64, 67, 0.3), 0px 1px 3px 1px rgba(60, 64, 67, 0.15);\n",
              "      fill: #174EA6;\n",
              "    }\n",
              "\n",
              "    [theme=dark] .colab-df-convert {\n",
              "      background-color: #3B4455;\n",
              "      fill: #D2E3FC;\n",
              "    }\n",
              "\n",
              "    [theme=dark] .colab-df-convert:hover {\n",
              "      background-color: #434B5C;\n",
              "      box-shadow: 0px 1px 3px 1px rgba(0, 0, 0, 0.15);\n",
              "      filter: drop-shadow(0px 1px 2px rgba(0, 0, 0, 0.3));\n",
              "      fill: #FFFFFF;\n",
              "    }\n",
              "  </style>\n",
              "\n",
              "      <script>\n",
              "        const buttonEl =\n",
              "          document.querySelector('#df-5411aea1-a594-4a59-9dab-f4921037aa04 button.colab-df-convert');\n",
              "        buttonEl.style.display =\n",
              "          google.colab.kernel.accessAllowed ? 'block' : 'none';\n",
              "\n",
              "        async function convertToInteractive(key) {\n",
              "          const element = document.querySelector('#df-5411aea1-a594-4a59-9dab-f4921037aa04');\n",
              "          const dataTable =\n",
              "            await google.colab.kernel.invokeFunction('convertToInteractive',\n",
              "                                                     [key], {});\n",
              "          if (!dataTable) return;\n",
              "\n",
              "          const docLinkHtml = 'Like what you see? Visit the ' +\n",
              "            '<a target=\"_blank\" href=https://colab.research.google.com/notebooks/data_table.ipynb>data table notebook</a>'\n",
              "            + ' to learn more about interactive tables.';\n",
              "          element.innerHTML = '';\n",
              "          dataTable['output_type'] = 'display_data';\n",
              "          await google.colab.output.renderOutput(dataTable, element);\n",
              "          const docLink = document.createElement('div');\n",
              "          docLink.innerHTML = docLinkHtml;\n",
              "          element.appendChild(docLink);\n",
              "        }\n",
              "      </script>\n",
              "    </div>\n",
              "  </div>\n",
              "  "
            ]
          },
          "metadata": {},
          "execution_count": 148
        }
      ]
    },
    {
      "cell_type": "code",
      "source": [
        "age=[]\n",
        "for i in seoul_one['연령별(2)']:\n",
        "  if i =='소계':\n",
        "    age.append('소계')\n",
        "  elif i == '20세미만'or i=='20~24세':\n",
        "    age.append('24세 이하')\n",
        "  elif i == '25~29세' or i == '30~34세' or i=='35~39세':\n",
        "    age.append('25~39세')\n",
        "  elif i == '40~44세' or i == '45~49세' or i =='50~54세':\n",
        "    age.append('40~54세')\n",
        "  elif i == '55~59세' or i =='60~64세' or i=='65~69세':\n",
        "    age.append('55~69세')\n",
        "  else:\n",
        "    age.append('70세 이상')"
      ],
      "metadata": {
        "id": "09BgU1cT-ucD"
      },
      "execution_count": null,
      "outputs": []
    },
    {
      "cell_type": "code",
      "source": [
        "seoul_re=seoul_one[['자치구별(2)','성별(1)','2021']]"
      ],
      "metadata": {
        "id": "dLuoUz3c8MRv"
      },
      "execution_count": null,
      "outputs": []
    },
    {
      "cell_type": "code",
      "source": [
        "seoul_re['연령별']=age"
      ],
      "metadata": {
        "colab": {
          "base_uri": "https://localhost:8080/"
        },
        "id": "nkUN-JjCWvou",
        "outputId": "491b6a1b-cf92-4637-ce4a-f384a01ac873"
      },
      "execution_count": null,
      "outputs": [
        {
          "output_type": "stream",
          "name": "stderr",
          "text": [
            "<ipython-input-41-de809b354cdd>:1: SettingWithCopyWarning: \n",
            "A value is trying to be set on a copy of a slice from a DataFrame.\n",
            "Try using .loc[row_indexer,col_indexer] = value instead\n",
            "\n",
            "See the caveats in the documentation: https://pandas.pydata.org/pandas-docs/stable/user_guide/indexing.html#returning-a-view-versus-a-copy\n",
            "  seoul_re['연령별']=age\n"
          ]
        }
      ]
    },
    {
      "cell_type": "code",
      "source": [
        "seoul_re.rename(columns={'자치구별(2)':'자치구별','성별(1)':'성별'},inplace=True)"
      ],
      "metadata": {
        "colab": {
          "base_uri": "https://localhost:8080/"
        },
        "id": "7EovVMoq_D97",
        "outputId": "a8c7b3aa-170d-42ec-babc-b73d8b1147f3"
      },
      "execution_count": null,
      "outputs": [
        {
          "output_type": "stream",
          "name": "stderr",
          "text": [
            "/usr/local/lib/python3.8/dist-packages/pandas/core/frame.py:5039: SettingWithCopyWarning: \n",
            "A value is trying to be set on a copy of a slice from a DataFrame\n",
            "\n",
            "See the caveats in the documentation: https://pandas.pydata.org/pandas-docs/stable/user_guide/indexing.html#returning-a-view-versus-a-copy\n",
            "  return super().rename(\n"
          ]
        }
      ]
    },
    {
      "cell_type": "code",
      "source": [
        "seoul_re.to_csv('서울시 1인 연령별(거주지).csv')"
      ],
      "metadata": {
        "id": "SrvFpMdw_G6P"
      },
      "execution_count": null,
      "outputs": []
    },
    {
      "cell_type": "code",
      "source": [
        "seoul_re"
      ],
      "metadata": {
        "colab": {
          "base_uri": "https://localhost:8080/",
          "height": 424
        },
        "id": "QkRCBKD5ALOW",
        "outputId": "8342aaec-e7dd-477e-ec87-7fd347cda980"
      },
      "execution_count": null,
      "outputs": [
        {
          "output_type": "execute_result",
          "data": {
            "text/plain": [
              "     자치구별  성별     2021     연령별\n",
              "0      소계   계  1489893      소계\n",
              "1      소계   계    10687  24세 이하\n",
              "2      소계   계   126833  24세 이하\n",
              "3      소계   계   263071  25~39세\n",
              "4      소계   계   204717  25~39세\n",
              "...   ...  ..      ...     ...\n",
              "1243  강동구  여자     2725  55~69세\n",
              "1244  강동구  여자     2117  70세 이상\n",
              "1245  강동구  여자     1616  70세 이상\n",
              "1246  강동구  여자     1196  70세 이상\n",
              "1247  강동구  여자      867  70세 이상\n",
              "\n",
              "[1248 rows x 4 columns]"
            ],
            "text/html": [
              "\n",
              "  <div id=\"df-008b19a8-835c-441e-922b-4a4987d7e5a9\">\n",
              "    <div class=\"colab-df-container\">\n",
              "      <div>\n",
              "<style scoped>\n",
              "    .dataframe tbody tr th:only-of-type {\n",
              "        vertical-align: middle;\n",
              "    }\n",
              "\n",
              "    .dataframe tbody tr th {\n",
              "        vertical-align: top;\n",
              "    }\n",
              "\n",
              "    .dataframe thead th {\n",
              "        text-align: right;\n",
              "    }\n",
              "</style>\n",
              "<table border=\"1\" class=\"dataframe\">\n",
              "  <thead>\n",
              "    <tr style=\"text-align: right;\">\n",
              "      <th></th>\n",
              "      <th>자치구별</th>\n",
              "      <th>성별</th>\n",
              "      <th>2021</th>\n",
              "      <th>연령별</th>\n",
              "    </tr>\n",
              "  </thead>\n",
              "  <tbody>\n",
              "    <tr>\n",
              "      <th>0</th>\n",
              "      <td>소계</td>\n",
              "      <td>계</td>\n",
              "      <td>1489893</td>\n",
              "      <td>소계</td>\n",
              "    </tr>\n",
              "    <tr>\n",
              "      <th>1</th>\n",
              "      <td>소계</td>\n",
              "      <td>계</td>\n",
              "      <td>10687</td>\n",
              "      <td>24세 이하</td>\n",
              "    </tr>\n",
              "    <tr>\n",
              "      <th>2</th>\n",
              "      <td>소계</td>\n",
              "      <td>계</td>\n",
              "      <td>126833</td>\n",
              "      <td>24세 이하</td>\n",
              "    </tr>\n",
              "    <tr>\n",
              "      <th>3</th>\n",
              "      <td>소계</td>\n",
              "      <td>계</td>\n",
              "      <td>263071</td>\n",
              "      <td>25~39세</td>\n",
              "    </tr>\n",
              "    <tr>\n",
              "      <th>4</th>\n",
              "      <td>소계</td>\n",
              "      <td>계</td>\n",
              "      <td>204717</td>\n",
              "      <td>25~39세</td>\n",
              "    </tr>\n",
              "    <tr>\n",
              "      <th>...</th>\n",
              "      <td>...</td>\n",
              "      <td>...</td>\n",
              "      <td>...</td>\n",
              "      <td>...</td>\n",
              "    </tr>\n",
              "    <tr>\n",
              "      <th>1243</th>\n",
              "      <td>강동구</td>\n",
              "      <td>여자</td>\n",
              "      <td>2725</td>\n",
              "      <td>55~69세</td>\n",
              "    </tr>\n",
              "    <tr>\n",
              "      <th>1244</th>\n",
              "      <td>강동구</td>\n",
              "      <td>여자</td>\n",
              "      <td>2117</td>\n",
              "      <td>70세 이상</td>\n",
              "    </tr>\n",
              "    <tr>\n",
              "      <th>1245</th>\n",
              "      <td>강동구</td>\n",
              "      <td>여자</td>\n",
              "      <td>1616</td>\n",
              "      <td>70세 이상</td>\n",
              "    </tr>\n",
              "    <tr>\n",
              "      <th>1246</th>\n",
              "      <td>강동구</td>\n",
              "      <td>여자</td>\n",
              "      <td>1196</td>\n",
              "      <td>70세 이상</td>\n",
              "    </tr>\n",
              "    <tr>\n",
              "      <th>1247</th>\n",
              "      <td>강동구</td>\n",
              "      <td>여자</td>\n",
              "      <td>867</td>\n",
              "      <td>70세 이상</td>\n",
              "    </tr>\n",
              "  </tbody>\n",
              "</table>\n",
              "<p>1248 rows × 4 columns</p>\n",
              "</div>\n",
              "      <button class=\"colab-df-convert\" onclick=\"convertToInteractive('df-008b19a8-835c-441e-922b-4a4987d7e5a9')\"\n",
              "              title=\"Convert this dataframe to an interactive table.\"\n",
              "              style=\"display:none;\">\n",
              "        \n",
              "  <svg xmlns=\"http://www.w3.org/2000/svg\" height=\"24px\"viewBox=\"0 0 24 24\"\n",
              "       width=\"24px\">\n",
              "    <path d=\"M0 0h24v24H0V0z\" fill=\"none\"/>\n",
              "    <path d=\"M18.56 5.44l.94 2.06.94-2.06 2.06-.94-2.06-.94-.94-2.06-.94 2.06-2.06.94zm-11 1L8.5 8.5l.94-2.06 2.06-.94-2.06-.94L8.5 2.5l-.94 2.06-2.06.94zm10 10l.94 2.06.94-2.06 2.06-.94-2.06-.94-.94-2.06-.94 2.06-2.06.94z\"/><path d=\"M17.41 7.96l-1.37-1.37c-.4-.4-.92-.59-1.43-.59-.52 0-1.04.2-1.43.59L10.3 9.45l-7.72 7.72c-.78.78-.78 2.05 0 2.83L4 21.41c.39.39.9.59 1.41.59.51 0 1.02-.2 1.41-.59l7.78-7.78 2.81-2.81c.8-.78.8-2.07 0-2.86zM5.41 20L4 18.59l7.72-7.72 1.47 1.35L5.41 20z\"/>\n",
              "  </svg>\n",
              "      </button>\n",
              "      \n",
              "  <style>\n",
              "    .colab-df-container {\n",
              "      display:flex;\n",
              "      flex-wrap:wrap;\n",
              "      gap: 12px;\n",
              "    }\n",
              "\n",
              "    .colab-df-convert {\n",
              "      background-color: #E8F0FE;\n",
              "      border: none;\n",
              "      border-radius: 50%;\n",
              "      cursor: pointer;\n",
              "      display: none;\n",
              "      fill: #1967D2;\n",
              "      height: 32px;\n",
              "      padding: 0 0 0 0;\n",
              "      width: 32px;\n",
              "    }\n",
              "\n",
              "    .colab-df-convert:hover {\n",
              "      background-color: #E2EBFA;\n",
              "      box-shadow: 0px 1px 2px rgba(60, 64, 67, 0.3), 0px 1px 3px 1px rgba(60, 64, 67, 0.15);\n",
              "      fill: #174EA6;\n",
              "    }\n",
              "\n",
              "    [theme=dark] .colab-df-convert {\n",
              "      background-color: #3B4455;\n",
              "      fill: #D2E3FC;\n",
              "    }\n",
              "\n",
              "    [theme=dark] .colab-df-convert:hover {\n",
              "      background-color: #434B5C;\n",
              "      box-shadow: 0px 1px 3px 1px rgba(0, 0, 0, 0.15);\n",
              "      filter: drop-shadow(0px 1px 2px rgba(0, 0, 0, 0.3));\n",
              "      fill: #FFFFFF;\n",
              "    }\n",
              "  </style>\n",
              "\n",
              "      <script>\n",
              "        const buttonEl =\n",
              "          document.querySelector('#df-008b19a8-835c-441e-922b-4a4987d7e5a9 button.colab-df-convert');\n",
              "        buttonEl.style.display =\n",
              "          google.colab.kernel.accessAllowed ? 'block' : 'none';\n",
              "\n",
              "        async function convertToInteractive(key) {\n",
              "          const element = document.querySelector('#df-008b19a8-835c-441e-922b-4a4987d7e5a9');\n",
              "          const dataTable =\n",
              "            await google.colab.kernel.invokeFunction('convertToInteractive',\n",
              "                                                     [key], {});\n",
              "          if (!dataTable) return;\n",
              "\n",
              "          const docLinkHtml = 'Like what you see? Visit the ' +\n",
              "            '<a target=\"_blank\" href=https://colab.research.google.com/notebooks/data_table.ipynb>data table notebook</a>'\n",
              "            + ' to learn more about interactive tables.';\n",
              "          element.innerHTML = '';\n",
              "          dataTable['output_type'] = 'display_data';\n",
              "          await google.colab.output.renderOutput(dataTable, element);\n",
              "          const docLink = document.createElement('div');\n",
              "          docLink.innerHTML = docLinkHtml;\n",
              "          element.appendChild(docLink);\n",
              "        }\n",
              "      </script>\n",
              "    </div>\n",
              "  </div>\n",
              "  "
            ]
          },
          "metadata": {},
          "execution_count": 45
        }
      ]
    },
    {
      "cell_type": "code",
      "source": [
        "cctv=pd.read_csv('/content/drive/MyDrive/cp1 1인가구/서울시 (안심이) CCTV 설치 현황.csv',encoding = 'CP949', engine='python')\n",
        "cctv"
      ],
      "metadata": {
        "id": "UW8jE83REByK",
        "colab": {
          "base_uri": "https://localhost:8080/",
          "height": 849
        },
        "outputId": "6e7358bf-0e68-4b04-e4a5-d46c50f48e2a"
      },
      "execution_count": null,
      "outputs": [
        {
          "output_type": "execute_result",
          "data": {
            "text/plain": [
              "       자치구                             안심 주소  \\\n",
              "0      중랑구  상봉1동 산4-1 (봉수대공원그네앞)_C-SB01-0016   \n",
              "1      중랑구        상봉1동 99(고정2)_C-SB01-0028-B   \n",
              "2      중랑구        상봉1동 99(고정1)_C-SB01-0028-A   \n",
              "3      중랑구              상봉1동 84-34(고정4)_922    \n",
              "4      중랑구               상봉1동 84-34(고정3)_922   \n",
              "...    ...                               ...   \n",
              "83729  강남구                        대치2-256-02   \n",
              "83730  강남구                         수서-208-01   \n",
              "83731  강남구                         수서-208-02   \n",
              "83732  강남구                        대치2-256-03   \n",
              "83733  강남구                         수서-208-03   \n",
              "\n",
              "                                CCTV 용도       위도        경도  CCTV 수량  \\\n",
              "0      상봉1동 산4-1 (봉수대공원그네앞)_C-SB01-0016  37.6070  127.0913        1   \n",
              "1            상봉1동 99(고정2)_C-SB01-0028-B  37.5977  127.0884        1   \n",
              "2            상봉1동 99(고정1)_C-SB01-0028-A  37.5977  127.0884        1   \n",
              "3                  상봉1동 84-34(고정4)_922   37.5942  127.0930        1   \n",
              "4                   상봉1동 84-34(고정3)_922  37.5942  127.0930        1   \n",
              "...                                 ...      ...       ...      ...   \n",
              "83729                        대치2-256-02  37.5059  127.0589        1   \n",
              "83730                         수서-208-01  37.4902  127.1014        1   \n",
              "83731                         수서-208-02  37.4902  127.1014        1   \n",
              "83732                        대치2-256-03  37.5059  127.0589        1   \n",
              "83733                         수서-208-03  37.4902  127.1014        1   \n",
              "\n",
              "            수정 일시  \n",
              "0      2022-12-01  \n",
              "1      2022-12-01  \n",
              "2      2022-12-01  \n",
              "3      2022-12-01  \n",
              "4      2022-12-01  \n",
              "...           ...  \n",
              "83729  2022-12-01  \n",
              "83730  2022-12-01  \n",
              "83731  2022-12-01  \n",
              "83732  2022-12-01  \n",
              "83733  2022-12-01  \n",
              "\n",
              "[83734 rows x 7 columns]"
            ],
            "text/html": [
              "\n",
              "  <div id=\"df-d8e7934e-9f2c-4886-a362-4d07ec5ab973\">\n",
              "    <div class=\"colab-df-container\">\n",
              "      <div>\n",
              "<style scoped>\n",
              "    .dataframe tbody tr th:only-of-type {\n",
              "        vertical-align: middle;\n",
              "    }\n",
              "\n",
              "    .dataframe tbody tr th {\n",
              "        vertical-align: top;\n",
              "    }\n",
              "\n",
              "    .dataframe thead th {\n",
              "        text-align: right;\n",
              "    }\n",
              "</style>\n",
              "<table border=\"1\" class=\"dataframe\">\n",
              "  <thead>\n",
              "    <tr style=\"text-align: right;\">\n",
              "      <th></th>\n",
              "      <th>자치구</th>\n",
              "      <th>안심 주소</th>\n",
              "      <th>CCTV 용도</th>\n",
              "      <th>위도</th>\n",
              "      <th>경도</th>\n",
              "      <th>CCTV 수량</th>\n",
              "      <th>수정 일시</th>\n",
              "    </tr>\n",
              "  </thead>\n",
              "  <tbody>\n",
              "    <tr>\n",
              "      <th>0</th>\n",
              "      <td>중랑구</td>\n",
              "      <td>상봉1동 산4-1 (봉수대공원그네앞)_C-SB01-0016</td>\n",
              "      <td>상봉1동 산4-1 (봉수대공원그네앞)_C-SB01-0016</td>\n",
              "      <td>37.6070</td>\n",
              "      <td>127.0913</td>\n",
              "      <td>1</td>\n",
              "      <td>2022-12-01</td>\n",
              "    </tr>\n",
              "    <tr>\n",
              "      <th>1</th>\n",
              "      <td>중랑구</td>\n",
              "      <td>상봉1동 99(고정2)_C-SB01-0028-B</td>\n",
              "      <td>상봉1동 99(고정2)_C-SB01-0028-B</td>\n",
              "      <td>37.5977</td>\n",
              "      <td>127.0884</td>\n",
              "      <td>1</td>\n",
              "      <td>2022-12-01</td>\n",
              "    </tr>\n",
              "    <tr>\n",
              "      <th>2</th>\n",
              "      <td>중랑구</td>\n",
              "      <td>상봉1동 99(고정1)_C-SB01-0028-A</td>\n",
              "      <td>상봉1동 99(고정1)_C-SB01-0028-A</td>\n",
              "      <td>37.5977</td>\n",
              "      <td>127.0884</td>\n",
              "      <td>1</td>\n",
              "      <td>2022-12-01</td>\n",
              "    </tr>\n",
              "    <tr>\n",
              "      <th>3</th>\n",
              "      <td>중랑구</td>\n",
              "      <td>상봉1동 84-34(고정4)_922</td>\n",
              "      <td>상봉1동 84-34(고정4)_922</td>\n",
              "      <td>37.5942</td>\n",
              "      <td>127.0930</td>\n",
              "      <td>1</td>\n",
              "      <td>2022-12-01</td>\n",
              "    </tr>\n",
              "    <tr>\n",
              "      <th>4</th>\n",
              "      <td>중랑구</td>\n",
              "      <td>상봉1동 84-34(고정3)_922</td>\n",
              "      <td>상봉1동 84-34(고정3)_922</td>\n",
              "      <td>37.5942</td>\n",
              "      <td>127.0930</td>\n",
              "      <td>1</td>\n",
              "      <td>2022-12-01</td>\n",
              "    </tr>\n",
              "    <tr>\n",
              "      <th>...</th>\n",
              "      <td>...</td>\n",
              "      <td>...</td>\n",
              "      <td>...</td>\n",
              "      <td>...</td>\n",
              "      <td>...</td>\n",
              "      <td>...</td>\n",
              "      <td>...</td>\n",
              "    </tr>\n",
              "    <tr>\n",
              "      <th>83729</th>\n",
              "      <td>강남구</td>\n",
              "      <td>대치2-256-02</td>\n",
              "      <td>대치2-256-02</td>\n",
              "      <td>37.5059</td>\n",
              "      <td>127.0589</td>\n",
              "      <td>1</td>\n",
              "      <td>2022-12-01</td>\n",
              "    </tr>\n",
              "    <tr>\n",
              "      <th>83730</th>\n",
              "      <td>강남구</td>\n",
              "      <td>수서-208-01</td>\n",
              "      <td>수서-208-01</td>\n",
              "      <td>37.4902</td>\n",
              "      <td>127.1014</td>\n",
              "      <td>1</td>\n",
              "      <td>2022-12-01</td>\n",
              "    </tr>\n",
              "    <tr>\n",
              "      <th>83731</th>\n",
              "      <td>강남구</td>\n",
              "      <td>수서-208-02</td>\n",
              "      <td>수서-208-02</td>\n",
              "      <td>37.4902</td>\n",
              "      <td>127.1014</td>\n",
              "      <td>1</td>\n",
              "      <td>2022-12-01</td>\n",
              "    </tr>\n",
              "    <tr>\n",
              "      <th>83732</th>\n",
              "      <td>강남구</td>\n",
              "      <td>대치2-256-03</td>\n",
              "      <td>대치2-256-03</td>\n",
              "      <td>37.5059</td>\n",
              "      <td>127.0589</td>\n",
              "      <td>1</td>\n",
              "      <td>2022-12-01</td>\n",
              "    </tr>\n",
              "    <tr>\n",
              "      <th>83733</th>\n",
              "      <td>강남구</td>\n",
              "      <td>수서-208-03</td>\n",
              "      <td>수서-208-03</td>\n",
              "      <td>37.4902</td>\n",
              "      <td>127.1014</td>\n",
              "      <td>1</td>\n",
              "      <td>2022-12-01</td>\n",
              "    </tr>\n",
              "  </tbody>\n",
              "</table>\n",
              "<p>83734 rows × 7 columns</p>\n",
              "</div>\n",
              "      <button class=\"colab-df-convert\" onclick=\"convertToInteractive('df-d8e7934e-9f2c-4886-a362-4d07ec5ab973')\"\n",
              "              title=\"Convert this dataframe to an interactive table.\"\n",
              "              style=\"display:none;\">\n",
              "        \n",
              "  <svg xmlns=\"http://www.w3.org/2000/svg\" height=\"24px\"viewBox=\"0 0 24 24\"\n",
              "       width=\"24px\">\n",
              "    <path d=\"M0 0h24v24H0V0z\" fill=\"none\"/>\n",
              "    <path d=\"M18.56 5.44l.94 2.06.94-2.06 2.06-.94-2.06-.94-.94-2.06-.94 2.06-2.06.94zm-11 1L8.5 8.5l.94-2.06 2.06-.94-2.06-.94L8.5 2.5l-.94 2.06-2.06.94zm10 10l.94 2.06.94-2.06 2.06-.94-2.06-.94-.94-2.06-.94 2.06-2.06.94z\"/><path d=\"M17.41 7.96l-1.37-1.37c-.4-.4-.92-.59-1.43-.59-.52 0-1.04.2-1.43.59L10.3 9.45l-7.72 7.72c-.78.78-.78 2.05 0 2.83L4 21.41c.39.39.9.59 1.41.59.51 0 1.02-.2 1.41-.59l7.78-7.78 2.81-2.81c.8-.78.8-2.07 0-2.86zM5.41 20L4 18.59l7.72-7.72 1.47 1.35L5.41 20z\"/>\n",
              "  </svg>\n",
              "      </button>\n",
              "      \n",
              "  <style>\n",
              "    .colab-df-container {\n",
              "      display:flex;\n",
              "      flex-wrap:wrap;\n",
              "      gap: 12px;\n",
              "    }\n",
              "\n",
              "    .colab-df-convert {\n",
              "      background-color: #E8F0FE;\n",
              "      border: none;\n",
              "      border-radius: 50%;\n",
              "      cursor: pointer;\n",
              "      display: none;\n",
              "      fill: #1967D2;\n",
              "      height: 32px;\n",
              "      padding: 0 0 0 0;\n",
              "      width: 32px;\n",
              "    }\n",
              "\n",
              "    .colab-df-convert:hover {\n",
              "      background-color: #E2EBFA;\n",
              "      box-shadow: 0px 1px 2px rgba(60, 64, 67, 0.3), 0px 1px 3px 1px rgba(60, 64, 67, 0.15);\n",
              "      fill: #174EA6;\n",
              "    }\n",
              "\n",
              "    [theme=dark] .colab-df-convert {\n",
              "      background-color: #3B4455;\n",
              "      fill: #D2E3FC;\n",
              "    }\n",
              "\n",
              "    [theme=dark] .colab-df-convert:hover {\n",
              "      background-color: #434B5C;\n",
              "      box-shadow: 0px 1px 3px 1px rgba(0, 0, 0, 0.15);\n",
              "      filter: drop-shadow(0px 1px 2px rgba(0, 0, 0, 0.3));\n",
              "      fill: #FFFFFF;\n",
              "    }\n",
              "  </style>\n",
              "\n",
              "      <script>\n",
              "        const buttonEl =\n",
              "          document.querySelector('#df-d8e7934e-9f2c-4886-a362-4d07ec5ab973 button.colab-df-convert');\n",
              "        buttonEl.style.display =\n",
              "          google.colab.kernel.accessAllowed ? 'block' : 'none';\n",
              "\n",
              "        async function convertToInteractive(key) {\n",
              "          const element = document.querySelector('#df-d8e7934e-9f2c-4886-a362-4d07ec5ab973');\n",
              "          const dataTable =\n",
              "            await google.colab.kernel.invokeFunction('convertToInteractive',\n",
              "                                                     [key], {});\n",
              "          if (!dataTable) return;\n",
              "\n",
              "          const docLinkHtml = 'Like what you see? Visit the ' +\n",
              "            '<a target=\"_blank\" href=https://colab.research.google.com/notebooks/data_table.ipynb>data table notebook</a>'\n",
              "            + ' to learn more about interactive tables.';\n",
              "          element.innerHTML = '';\n",
              "          dataTable['output_type'] = 'display_data';\n",
              "          await google.colab.output.renderOutput(dataTable, element);\n",
              "          const docLink = document.createElement('div');\n",
              "          docLink.innerHTML = docLinkHtml;\n",
              "          element.appendChild(docLink);\n",
              "        }\n",
              "      </script>\n",
              "    </div>\n",
              "  </div>\n",
              "  "
            ]
          },
          "metadata": {},
          "execution_count": 22
        }
      ]
    },
    {
      "cell_type": "markdown",
      "source": [
        "- 그룹바이"
      ],
      "metadata": {
        "id": "LqX3eh-He8pI"
      }
    },
    {
      "cell_type": "code",
      "source": [
        "cctv = pd.DataFrame(cctv.groupby('자치구').sum()['CCTV 수량'])\n",
        "cctv.reset_index(inplace=True)"
      ],
      "metadata": {
        "id": "rOTmpqamkzhw"
      },
      "execution_count": null,
      "outputs": []
    },
    {
      "cell_type": "code",
      "source": [
        "# cctv.to_csv('cctv 수량.csv')"
      ],
      "metadata": {
        "id": "d1khE0EUlkwl"
      },
      "execution_count": null,
      "outputs": []
    },
    {
      "cell_type": "code",
      "source": [
        "#유흥업소\n",
        "trash=pd.read_csv('/content/drive/MyDrive/cp1 1인가구/서울시 유흥주점영업 인허가 정보.csv',encoding = 'CP949', engine='python')\n",
        "trash"
      ],
      "metadata": {
        "id": "Y8xMc2ZsnkiL",
        "colab": {
          "base_uri": "https://localhost:8080/",
          "height": 676
        },
        "outputId": "f775de43-5a21-4909-b912-a82b7b0b7dc2"
      },
      "execution_count": null,
      "outputs": [
        {
          "output_type": "execute_result",
          "data": {
            "text/plain": [
              "      영업상태명 상세영업상태명                                      지번주소 업태구분명  \\\n",
              "0        폐업      폐업              서울특별시 마포구 합정동 382-22번지 지하1층    룸살롱   \n",
              "1        폐업      폐업               서울특별시 강남구 논현동 164-0번지 지상3?    룸살롱   \n",
              "2        폐업      폐업              서울특별시 강남구 청담동 132-17번지 지하1층    룸살롱   \n",
              "3        폐업      폐업             서울특별시 서초구 서초동 1337-23번지 지상4층    룸살롱   \n",
              "4        폐업      폐업             서울특별시 서초구 서초동 1337-23번지 지상3층    룸살롱   \n",
              "...     ...     ...                                       ...   ...   \n",
              "4898  영업/정상      영업             서울특별시 서초구 잠원동 21-3 4호 (지하 1층)   카바레   \n",
              "4899  영업/정상      영업  서울특별시 영등포구 여의도동 44-32 에리트빌팅 지하101102103호   룸살롱   \n",
              "4900     폐업      폐업                     서울특별시 강동구 길동 415-7 2층   룸살롱   \n",
              "4901     폐업      폐업                        서울특별시 강동구 길동 415-7   룸살롱   \n",
              "4902     폐업      폐업                     서울특별시 강동구 길동 415-7 지층   룸살롱   \n",
              "\n",
              "          좌표정보(X)      좌표정보(Y)  \n",
              "0             NaN          NaN  \n",
              "1     201962.8388  445158.3120  \n",
              "2     204964.3781  446579.7147  \n",
              "3             NaN          NaN  \n",
              "4             NaN          NaN  \n",
              "...           ...          ...  \n",
              "4898  201630.6141  445872.9412  \n",
              "4899  193745.6434  446380.2546  \n",
              "4900  212067.7983  448341.0615  \n",
              "4901  212067.7983  448341.0615  \n",
              "4902  212067.7983  448341.0615  \n",
              "\n",
              "[4903 rows x 6 columns]"
            ],
            "text/html": [
              "\n",
              "  <div id=\"df-3046eda1-0e01-4641-8318-f28c8af5b86a\">\n",
              "    <div class=\"colab-df-container\">\n",
              "      <div>\n",
              "<style scoped>\n",
              "    .dataframe tbody tr th:only-of-type {\n",
              "        vertical-align: middle;\n",
              "    }\n",
              "\n",
              "    .dataframe tbody tr th {\n",
              "        vertical-align: top;\n",
              "    }\n",
              "\n",
              "    .dataframe thead th {\n",
              "        text-align: right;\n",
              "    }\n",
              "</style>\n",
              "<table border=\"1\" class=\"dataframe\">\n",
              "  <thead>\n",
              "    <tr style=\"text-align: right;\">\n",
              "      <th></th>\n",
              "      <th>영업상태명</th>\n",
              "      <th>상세영업상태명</th>\n",
              "      <th>지번주소</th>\n",
              "      <th>업태구분명</th>\n",
              "      <th>좌표정보(X)</th>\n",
              "      <th>좌표정보(Y)</th>\n",
              "    </tr>\n",
              "  </thead>\n",
              "  <tbody>\n",
              "    <tr>\n",
              "      <th>0</th>\n",
              "      <td>폐업</td>\n",
              "      <td>폐업</td>\n",
              "      <td>서울특별시 마포구 합정동 382-22번지 지하1층</td>\n",
              "      <td>룸살롱</td>\n",
              "      <td>NaN</td>\n",
              "      <td>NaN</td>\n",
              "    </tr>\n",
              "    <tr>\n",
              "      <th>1</th>\n",
              "      <td>폐업</td>\n",
              "      <td>폐업</td>\n",
              "      <td>서울특별시 강남구 논현동 164-0번지 지상3?</td>\n",
              "      <td>룸살롱</td>\n",
              "      <td>201962.8388</td>\n",
              "      <td>445158.3120</td>\n",
              "    </tr>\n",
              "    <tr>\n",
              "      <th>2</th>\n",
              "      <td>폐업</td>\n",
              "      <td>폐업</td>\n",
              "      <td>서울특별시 강남구 청담동 132-17번지 지하1층</td>\n",
              "      <td>룸살롱</td>\n",
              "      <td>204964.3781</td>\n",
              "      <td>446579.7147</td>\n",
              "    </tr>\n",
              "    <tr>\n",
              "      <th>3</th>\n",
              "      <td>폐업</td>\n",
              "      <td>폐업</td>\n",
              "      <td>서울특별시 서초구 서초동 1337-23번지 지상4층</td>\n",
              "      <td>룸살롱</td>\n",
              "      <td>NaN</td>\n",
              "      <td>NaN</td>\n",
              "    </tr>\n",
              "    <tr>\n",
              "      <th>4</th>\n",
              "      <td>폐업</td>\n",
              "      <td>폐업</td>\n",
              "      <td>서울특별시 서초구 서초동 1337-23번지 지상3층</td>\n",
              "      <td>룸살롱</td>\n",
              "      <td>NaN</td>\n",
              "      <td>NaN</td>\n",
              "    </tr>\n",
              "    <tr>\n",
              "      <th>...</th>\n",
              "      <td>...</td>\n",
              "      <td>...</td>\n",
              "      <td>...</td>\n",
              "      <td>...</td>\n",
              "      <td>...</td>\n",
              "      <td>...</td>\n",
              "    </tr>\n",
              "    <tr>\n",
              "      <th>4898</th>\n",
              "      <td>영업/정상</td>\n",
              "      <td>영업</td>\n",
              "      <td>서울특별시 서초구 잠원동 21-3 4호 (지하 1층)</td>\n",
              "      <td>카바레</td>\n",
              "      <td>201630.6141</td>\n",
              "      <td>445872.9412</td>\n",
              "    </tr>\n",
              "    <tr>\n",
              "      <th>4899</th>\n",
              "      <td>영업/정상</td>\n",
              "      <td>영업</td>\n",
              "      <td>서울특별시 영등포구 여의도동 44-32 에리트빌팅 지하101102103호</td>\n",
              "      <td>룸살롱</td>\n",
              "      <td>193745.6434</td>\n",
              "      <td>446380.2546</td>\n",
              "    </tr>\n",
              "    <tr>\n",
              "      <th>4900</th>\n",
              "      <td>폐업</td>\n",
              "      <td>폐업</td>\n",
              "      <td>서울특별시 강동구 길동 415-7 2층</td>\n",
              "      <td>룸살롱</td>\n",
              "      <td>212067.7983</td>\n",
              "      <td>448341.0615</td>\n",
              "    </tr>\n",
              "    <tr>\n",
              "      <th>4901</th>\n",
              "      <td>폐업</td>\n",
              "      <td>폐업</td>\n",
              "      <td>서울특별시 강동구 길동 415-7</td>\n",
              "      <td>룸살롱</td>\n",
              "      <td>212067.7983</td>\n",
              "      <td>448341.0615</td>\n",
              "    </tr>\n",
              "    <tr>\n",
              "      <th>4902</th>\n",
              "      <td>폐업</td>\n",
              "      <td>폐업</td>\n",
              "      <td>서울특별시 강동구 길동 415-7 지층</td>\n",
              "      <td>룸살롱</td>\n",
              "      <td>212067.7983</td>\n",
              "      <td>448341.0615</td>\n",
              "    </tr>\n",
              "  </tbody>\n",
              "</table>\n",
              "<p>4903 rows × 6 columns</p>\n",
              "</div>\n",
              "      <button class=\"colab-df-convert\" onclick=\"convertToInteractive('df-3046eda1-0e01-4641-8318-f28c8af5b86a')\"\n",
              "              title=\"Convert this dataframe to an interactive table.\"\n",
              "              style=\"display:none;\">\n",
              "        \n",
              "  <svg xmlns=\"http://www.w3.org/2000/svg\" height=\"24px\"viewBox=\"0 0 24 24\"\n",
              "       width=\"24px\">\n",
              "    <path d=\"M0 0h24v24H0V0z\" fill=\"none\"/>\n",
              "    <path d=\"M18.56 5.44l.94 2.06.94-2.06 2.06-.94-2.06-.94-.94-2.06-.94 2.06-2.06.94zm-11 1L8.5 8.5l.94-2.06 2.06-.94-2.06-.94L8.5 2.5l-.94 2.06-2.06.94zm10 10l.94 2.06.94-2.06 2.06-.94-2.06-.94-.94-2.06-.94 2.06-2.06.94z\"/><path d=\"M17.41 7.96l-1.37-1.37c-.4-.4-.92-.59-1.43-.59-.52 0-1.04.2-1.43.59L10.3 9.45l-7.72 7.72c-.78.78-.78 2.05 0 2.83L4 21.41c.39.39.9.59 1.41.59.51 0 1.02-.2 1.41-.59l7.78-7.78 2.81-2.81c.8-.78.8-2.07 0-2.86zM5.41 20L4 18.59l7.72-7.72 1.47 1.35L5.41 20z\"/>\n",
              "  </svg>\n",
              "      </button>\n",
              "      \n",
              "  <style>\n",
              "    .colab-df-container {\n",
              "      display:flex;\n",
              "      flex-wrap:wrap;\n",
              "      gap: 12px;\n",
              "    }\n",
              "\n",
              "    .colab-df-convert {\n",
              "      background-color: #E8F0FE;\n",
              "      border: none;\n",
              "      border-radius: 50%;\n",
              "      cursor: pointer;\n",
              "      display: none;\n",
              "      fill: #1967D2;\n",
              "      height: 32px;\n",
              "      padding: 0 0 0 0;\n",
              "      width: 32px;\n",
              "    }\n",
              "\n",
              "    .colab-df-convert:hover {\n",
              "      background-color: #E2EBFA;\n",
              "      box-shadow: 0px 1px 2px rgba(60, 64, 67, 0.3), 0px 1px 3px 1px rgba(60, 64, 67, 0.15);\n",
              "      fill: #174EA6;\n",
              "    }\n",
              "\n",
              "    [theme=dark] .colab-df-convert {\n",
              "      background-color: #3B4455;\n",
              "      fill: #D2E3FC;\n",
              "    }\n",
              "\n",
              "    [theme=dark] .colab-df-convert:hover {\n",
              "      background-color: #434B5C;\n",
              "      box-shadow: 0px 1px 3px 1px rgba(0, 0, 0, 0.15);\n",
              "      filter: drop-shadow(0px 1px 2px rgba(0, 0, 0, 0.3));\n",
              "      fill: #FFFFFF;\n",
              "    }\n",
              "  </style>\n",
              "\n",
              "      <script>\n",
              "        const buttonEl =\n",
              "          document.querySelector('#df-3046eda1-0e01-4641-8318-f28c8af5b86a button.colab-df-convert');\n",
              "        buttonEl.style.display =\n",
              "          google.colab.kernel.accessAllowed ? 'block' : 'none';\n",
              "\n",
              "        async function convertToInteractive(key) {\n",
              "          const element = document.querySelector('#df-3046eda1-0e01-4641-8318-f28c8af5b86a');\n",
              "          const dataTable =\n",
              "            await google.colab.kernel.invokeFunction('convertToInteractive',\n",
              "                                                     [key], {});\n",
              "          if (!dataTable) return;\n",
              "\n",
              "          const docLinkHtml = 'Like what you see? Visit the ' +\n",
              "            '<a target=\"_blank\" href=https://colab.research.google.com/notebooks/data_table.ipynb>data table notebook</a>'\n",
              "            + ' to learn more about interactive tables.';\n",
              "          element.innerHTML = '';\n",
              "          dataTable['output_type'] = 'display_data';\n",
              "          await google.colab.output.renderOutput(dataTable, element);\n",
              "          const docLink = document.createElement('div');\n",
              "          docLink.innerHTML = docLinkHtml;\n",
              "          element.appendChild(docLink);\n",
              "        }\n",
              "      </script>\n",
              "    </div>\n",
              "  </div>\n",
              "  "
            ]
          },
          "metadata": {},
          "execution_count": 3
        }
      ]
    },
    {
      "cell_type": "markdown",
      "source": [
        "- 유흥업소 중 폐업은 삭제해줌"
      ],
      "metadata": {
        "id": "mDIUSKzmfBTl"
      }
    },
    {
      "cell_type": "code",
      "source": [
        "trash_=trash[trash['상세영업상태명']!='폐업']"
      ],
      "metadata": {
        "id": "kUA05vnwchbO"
      },
      "execution_count": null,
      "outputs": []
    },
    {
      "cell_type": "code",
      "source": [
        "trash_.dropna(subset=['지번주소'],inplace=True)"
      ],
      "metadata": {
        "colab": {
          "base_uri": "https://localhost:8080/"
        },
        "id": "8LwodrJpgG9W",
        "outputId": "4fcb9f97-f8c1-4990-87bc-5be68a444969"
      },
      "execution_count": null,
      "outputs": [
        {
          "output_type": "stream",
          "name": "stderr",
          "text": [
            "/usr/local/lib/python3.8/dist-packages/pandas/util/_decorators.py:311: SettingWithCopyWarning: \n",
            "A value is trying to be set on a copy of a slice from a DataFrame\n",
            "\n",
            "See the caveats in the documentation: https://pandas.pydata.org/pandas-docs/stable/user_guide/indexing.html#returning-a-view-versus-a-copy\n",
            "  return func(*args, **kwargs)\n"
          ]
        }
      ]
    },
    {
      "cell_type": "code",
      "source": [
        "trash_.info()"
      ],
      "metadata": {
        "colab": {
          "base_uri": "https://localhost:8080/"
        },
        "id": "IdrFiOb0gd1R",
        "outputId": "677ac1f0-f807-4fd5-a1b9-5477066c6598"
      },
      "execution_count": null,
      "outputs": [
        {
          "output_type": "stream",
          "name": "stdout",
          "text": [
            "<class 'pandas.core.frame.DataFrame'>\n",
            "Int64Index: 1800 entries, 6 to 4899\n",
            "Data columns (total 6 columns):\n",
            " #   Column   Non-Null Count  Dtype  \n",
            "---  ------   --------------  -----  \n",
            " 0   영업상태명    1800 non-null   object \n",
            " 1   상세영업상태명  1800 non-null   object \n",
            " 2   지번주소     1800 non-null   object \n",
            " 3   업태구분명    1800 non-null   object \n",
            " 4   좌표정보(X)  1791 non-null   float64\n",
            " 5   좌표정보(Y)  1791 non-null   float64\n",
            "dtypes: float64(2), object(4)\n",
            "memory usage: 98.4+ KB\n"
          ]
        }
      ]
    },
    {
      "cell_type": "code",
      "source": [
        "a=[]\n",
        "city=['종로구','중구', '용산구','성동구', '광진구', '동대문구','강서구', '양천구', \n",
        "      '영등포구', '구로구', '금천구','관악구', '동작구','중랑구', '성북구', \n",
        "      '강북구', '도봉구', '노원구','은평구', '서대문구', '마포구',\n",
        "      '강남구','강동구','서초구','송파구']\n",
        "\n",
        "for i in trash_['지번주소']:\n",
        "  for j in city:\n",
        "    if j in i:\n",
        "      a.append(j)\n",
        "# a"
      ],
      "metadata": {
        "id": "JwyIRjchdeNN"
      },
      "execution_count": null,
      "outputs": []
    },
    {
      "cell_type": "code",
      "source": [
        "trash_['자치구']=a"
      ],
      "metadata": {
        "colab": {
          "base_uri": "https://localhost:8080/"
        },
        "id": "7IXGaHL-gE8q",
        "outputId": "fb6a0c3d-0724-423d-a862-ccd1cc615924"
      },
      "execution_count": null,
      "outputs": [
        {
          "output_type": "stream",
          "name": "stderr",
          "text": [
            "<ipython-input-10-65a81ed4e818>:1: SettingWithCopyWarning: \n",
            "A value is trying to be set on a copy of a slice from a DataFrame.\n",
            "Try using .loc[row_indexer,col_indexer] = value instead\n",
            "\n",
            "See the caveats in the documentation: https://pandas.pydata.org/pandas-docs/stable/user_guide/indexing.html#returning-a-view-versus-a-copy\n",
            "  trash_['자치구']=a\n"
          ]
        }
      ]
    },
    {
      "cell_type": "code",
      "source": [
        "trash_c=trash_[['상세영업상태명','자치구','업태구분명']]"
      ],
      "metadata": {
        "id": "kuI-4kxfg-gj"
      },
      "execution_count": null,
      "outputs": []
    },
    {
      "cell_type": "code",
      "source": [
        "trash_c.groupby('자치구').count()"
      ],
      "metadata": {
        "colab": {
          "base_uri": "https://localhost:8080/",
          "height": 864
        },
        "id": "K6BWmDa6keta",
        "outputId": "67d4821d-bcee-4de6-a24b-7c9d5dc58abf"
      },
      "execution_count": null,
      "outputs": [
        {
          "output_type": "execute_result",
          "data": {
            "text/plain": [
              "      상세영업상태명  업태구분명\n",
              "자치구                 \n",
              "강남구       177    177\n",
              "강동구       109    109\n",
              "강북구        67     67\n",
              "강서구       127    127\n",
              "관악구       190    190\n",
              "광진구        13     13\n",
              "구로구        31     31\n",
              "금천구        44     44\n",
              "노원구        21     21\n",
              "도봉구        21     21\n",
              "동대문구       62     62\n",
              "동작구        46     46\n",
              "마포구        47     47\n",
              "서대문구       28     28\n",
              "서초구        42     42\n",
              "성동구        22     22\n",
              "성북구         8      8\n",
              "송파구        87     87\n",
              "양천구         4      4\n",
              "영등포구      134    134\n",
              "용산구        23     23\n",
              "은평구        79     79\n",
              "종로구       187    187\n",
              "중구        214    214\n",
              "중랑구        17     17"
            ],
            "text/html": [
              "\n",
              "  <div id=\"df-734e7894-96a4-43d4-b5f2-cf8a1354756a\">\n",
              "    <div class=\"colab-df-container\">\n",
              "      <div>\n",
              "<style scoped>\n",
              "    .dataframe tbody tr th:only-of-type {\n",
              "        vertical-align: middle;\n",
              "    }\n",
              "\n",
              "    .dataframe tbody tr th {\n",
              "        vertical-align: top;\n",
              "    }\n",
              "\n",
              "    .dataframe thead th {\n",
              "        text-align: right;\n",
              "    }\n",
              "</style>\n",
              "<table border=\"1\" class=\"dataframe\">\n",
              "  <thead>\n",
              "    <tr style=\"text-align: right;\">\n",
              "      <th></th>\n",
              "      <th>상세영업상태명</th>\n",
              "      <th>업태구분명</th>\n",
              "    </tr>\n",
              "    <tr>\n",
              "      <th>자치구</th>\n",
              "      <th></th>\n",
              "      <th></th>\n",
              "    </tr>\n",
              "  </thead>\n",
              "  <tbody>\n",
              "    <tr>\n",
              "      <th>강남구</th>\n",
              "      <td>177</td>\n",
              "      <td>177</td>\n",
              "    </tr>\n",
              "    <tr>\n",
              "      <th>강동구</th>\n",
              "      <td>109</td>\n",
              "      <td>109</td>\n",
              "    </tr>\n",
              "    <tr>\n",
              "      <th>강북구</th>\n",
              "      <td>67</td>\n",
              "      <td>67</td>\n",
              "    </tr>\n",
              "    <tr>\n",
              "      <th>강서구</th>\n",
              "      <td>127</td>\n",
              "      <td>127</td>\n",
              "    </tr>\n",
              "    <tr>\n",
              "      <th>관악구</th>\n",
              "      <td>190</td>\n",
              "      <td>190</td>\n",
              "    </tr>\n",
              "    <tr>\n",
              "      <th>광진구</th>\n",
              "      <td>13</td>\n",
              "      <td>13</td>\n",
              "    </tr>\n",
              "    <tr>\n",
              "      <th>구로구</th>\n",
              "      <td>31</td>\n",
              "      <td>31</td>\n",
              "    </tr>\n",
              "    <tr>\n",
              "      <th>금천구</th>\n",
              "      <td>44</td>\n",
              "      <td>44</td>\n",
              "    </tr>\n",
              "    <tr>\n",
              "      <th>노원구</th>\n",
              "      <td>21</td>\n",
              "      <td>21</td>\n",
              "    </tr>\n",
              "    <tr>\n",
              "      <th>도봉구</th>\n",
              "      <td>21</td>\n",
              "      <td>21</td>\n",
              "    </tr>\n",
              "    <tr>\n",
              "      <th>동대문구</th>\n",
              "      <td>62</td>\n",
              "      <td>62</td>\n",
              "    </tr>\n",
              "    <tr>\n",
              "      <th>동작구</th>\n",
              "      <td>46</td>\n",
              "      <td>46</td>\n",
              "    </tr>\n",
              "    <tr>\n",
              "      <th>마포구</th>\n",
              "      <td>47</td>\n",
              "      <td>47</td>\n",
              "    </tr>\n",
              "    <tr>\n",
              "      <th>서대문구</th>\n",
              "      <td>28</td>\n",
              "      <td>28</td>\n",
              "    </tr>\n",
              "    <tr>\n",
              "      <th>서초구</th>\n",
              "      <td>42</td>\n",
              "      <td>42</td>\n",
              "    </tr>\n",
              "    <tr>\n",
              "      <th>성동구</th>\n",
              "      <td>22</td>\n",
              "      <td>22</td>\n",
              "    </tr>\n",
              "    <tr>\n",
              "      <th>성북구</th>\n",
              "      <td>8</td>\n",
              "      <td>8</td>\n",
              "    </tr>\n",
              "    <tr>\n",
              "      <th>송파구</th>\n",
              "      <td>87</td>\n",
              "      <td>87</td>\n",
              "    </tr>\n",
              "    <tr>\n",
              "      <th>양천구</th>\n",
              "      <td>4</td>\n",
              "      <td>4</td>\n",
              "    </tr>\n",
              "    <tr>\n",
              "      <th>영등포구</th>\n",
              "      <td>134</td>\n",
              "      <td>134</td>\n",
              "    </tr>\n",
              "    <tr>\n",
              "      <th>용산구</th>\n",
              "      <td>23</td>\n",
              "      <td>23</td>\n",
              "    </tr>\n",
              "    <tr>\n",
              "      <th>은평구</th>\n",
              "      <td>79</td>\n",
              "      <td>79</td>\n",
              "    </tr>\n",
              "    <tr>\n",
              "      <th>종로구</th>\n",
              "      <td>187</td>\n",
              "      <td>187</td>\n",
              "    </tr>\n",
              "    <tr>\n",
              "      <th>중구</th>\n",
              "      <td>214</td>\n",
              "      <td>214</td>\n",
              "    </tr>\n",
              "    <tr>\n",
              "      <th>중랑구</th>\n",
              "      <td>17</td>\n",
              "      <td>17</td>\n",
              "    </tr>\n",
              "  </tbody>\n",
              "</table>\n",
              "</div>\n",
              "      <button class=\"colab-df-convert\" onclick=\"convertToInteractive('df-734e7894-96a4-43d4-b5f2-cf8a1354756a')\"\n",
              "              title=\"Convert this dataframe to an interactive table.\"\n",
              "              style=\"display:none;\">\n",
              "        \n",
              "  <svg xmlns=\"http://www.w3.org/2000/svg\" height=\"24px\"viewBox=\"0 0 24 24\"\n",
              "       width=\"24px\">\n",
              "    <path d=\"M0 0h24v24H0V0z\" fill=\"none\"/>\n",
              "    <path d=\"M18.56 5.44l.94 2.06.94-2.06 2.06-.94-2.06-.94-.94-2.06-.94 2.06-2.06.94zm-11 1L8.5 8.5l.94-2.06 2.06-.94-2.06-.94L8.5 2.5l-.94 2.06-2.06.94zm10 10l.94 2.06.94-2.06 2.06-.94-2.06-.94-.94-2.06-.94 2.06-2.06.94z\"/><path d=\"M17.41 7.96l-1.37-1.37c-.4-.4-.92-.59-1.43-.59-.52 0-1.04.2-1.43.59L10.3 9.45l-7.72 7.72c-.78.78-.78 2.05 0 2.83L4 21.41c.39.39.9.59 1.41.59.51 0 1.02-.2 1.41-.59l7.78-7.78 2.81-2.81c.8-.78.8-2.07 0-2.86zM5.41 20L4 18.59l7.72-7.72 1.47 1.35L5.41 20z\"/>\n",
              "  </svg>\n",
              "      </button>\n",
              "      \n",
              "  <style>\n",
              "    .colab-df-container {\n",
              "      display:flex;\n",
              "      flex-wrap:wrap;\n",
              "      gap: 12px;\n",
              "    }\n",
              "\n",
              "    .colab-df-convert {\n",
              "      background-color: #E8F0FE;\n",
              "      border: none;\n",
              "      border-radius: 50%;\n",
              "      cursor: pointer;\n",
              "      display: none;\n",
              "      fill: #1967D2;\n",
              "      height: 32px;\n",
              "      padding: 0 0 0 0;\n",
              "      width: 32px;\n",
              "    }\n",
              "\n",
              "    .colab-df-convert:hover {\n",
              "      background-color: #E2EBFA;\n",
              "      box-shadow: 0px 1px 2px rgba(60, 64, 67, 0.3), 0px 1px 3px 1px rgba(60, 64, 67, 0.15);\n",
              "      fill: #174EA6;\n",
              "    }\n",
              "\n",
              "    [theme=dark] .colab-df-convert {\n",
              "      background-color: #3B4455;\n",
              "      fill: #D2E3FC;\n",
              "    }\n",
              "\n",
              "    [theme=dark] .colab-df-convert:hover {\n",
              "      background-color: #434B5C;\n",
              "      box-shadow: 0px 1px 3px 1px rgba(0, 0, 0, 0.15);\n",
              "      filter: drop-shadow(0px 1px 2px rgba(0, 0, 0, 0.3));\n",
              "      fill: #FFFFFF;\n",
              "    }\n",
              "  </style>\n",
              "\n",
              "      <script>\n",
              "        const buttonEl =\n",
              "          document.querySelector('#df-734e7894-96a4-43d4-b5f2-cf8a1354756a button.colab-df-convert');\n",
              "        buttonEl.style.display =\n",
              "          google.colab.kernel.accessAllowed ? 'block' : 'none';\n",
              "\n",
              "        async function convertToInteractive(key) {\n",
              "          const element = document.querySelector('#df-734e7894-96a4-43d4-b5f2-cf8a1354756a');\n",
              "          const dataTable =\n",
              "            await google.colab.kernel.invokeFunction('convertToInteractive',\n",
              "                                                     [key], {});\n",
              "          if (!dataTable) return;\n",
              "\n",
              "          const docLinkHtml = 'Like what you see? Visit the ' +\n",
              "            '<a target=\"_blank\" href=https://colab.research.google.com/notebooks/data_table.ipynb>data table notebook</a>'\n",
              "            + ' to learn more about interactive tables.';\n",
              "          element.innerHTML = '';\n",
              "          dataTable['output_type'] = 'display_data';\n",
              "          await google.colab.output.renderOutput(dataTable, element);\n",
              "          const docLink = document.createElement('div');\n",
              "          docLink.innerHTML = docLinkHtml;\n",
              "          element.appendChild(docLink);\n",
              "        }\n",
              "      </script>\n",
              "    </div>\n",
              "  </div>\n",
              "  "
            ]
          },
          "metadata": {},
          "execution_count": 12
        }
      ]
    },
    {
      "cell_type": "code",
      "source": [
        "trash_c.to_csv('자치구별 유흥업소.csv')"
      ],
      "metadata": {
        "id": "Nc8RhKgoiBZv"
      },
      "execution_count": null,
      "outputs": []
    },
    {
      "cell_type": "markdown",
      "source": [
        "## 가설\n",
        "\n"
      ],
      "metadata": {
        "id": "F6XmHIdxCQxL"
      }
    },
    {
      "cell_type": "markdown",
      "source": [
        "### 유흥업소가 많은 곳은 범죄발생수가 높다\n",
        "  - 상관관계 확인: 0.513614\n",
        "  - 0.5이상으로 상관관계가 있다고 볼 수 있다."
      ],
      "metadata": {
        "id": "zO948mRNXFoJ"
      }
    },
    {
      "cell_type": "code",
      "source": [
        "tra=trash_c.groupby('자치구').count()\n",
        "tra.reset_index(inplace=True)"
      ],
      "metadata": {
        "id": "cFW93Z8Zlvh7"
      },
      "execution_count": null,
      "outputs": []
    },
    {
      "cell_type": "code",
      "source": [
        "df_crime.set_index('자치구별',inplace=True)\n",
        "df_crime.drop('소계', axis=0,inplace=True)"
      ],
      "metadata": {
        "id": "ZQe8rHzqDY1b"
      },
      "execution_count": null,
      "outputs": []
    },
    {
      "cell_type": "code",
      "source": [
        "cri=df_crime.query(\"범죄별=='소계'\").reset_index()\n",
        "cri.rename(columns={'자치구별':'자치구'},inplace=True)\n",
        "cri"
      ],
      "metadata": {
        "id": "ZUJ1iY9SCK1y",
        "colab": {
          "base_uri": "https://localhost:8080/",
          "height": 833
        },
        "outputId": "38f86c2d-f0a3-426e-c97e-cac4ea16ed19"
      },
      "execution_count": null,
      "outputs": [
        {
          "output_type": "execute_result",
          "data": {
            "text/plain": [
              "     자치구 범죄별    발생    검거\n",
              "0    종로구  소계  2712  2755\n",
              "1     중구  소계  2861  2072\n",
              "2    용산구  소계  2381  1659\n",
              "3    성동구  소계  2112  1510\n",
              "4    광진구  소계  3087  2202\n",
              "5   동대문구  소계  2959  2113\n",
              "6    중랑구  소계  3210  2405\n",
              "7    성북구  소계  2411  1787\n",
              "8    강북구  소계  2301  1912\n",
              "9    도봉구  소계  1860  1294\n",
              "10   노원구  소계  3425  2302\n",
              "11   은평구  소계  3244  2423\n",
              "12  서대문구  소계  2278  1594\n",
              "13   마포구  소계  3540  2379\n",
              "14   양천구  소계  3015  2085\n",
              "15   강서구  소계  3896  3044\n",
              "16   구로구  소계  3486  2431\n",
              "17   금천구  소계  2439  1741\n",
              "18  영등포구  소계  4179  2777\n",
              "19   동작구  소계  2631  1829\n",
              "20   관악구  소계  4444  3134\n",
              "21   서초구  소계  3656  2439\n",
              "22   강남구  소계  6146  4397\n",
              "23   송파구  소계  4714  3266\n",
              "24   강동구  소계  3458  2462"
            ],
            "text/html": [
              "\n",
              "  <div id=\"df-330b9d3d-a66c-4db6-9785-a4a7ffab9379\">\n",
              "    <div class=\"colab-df-container\">\n",
              "      <div>\n",
              "<style scoped>\n",
              "    .dataframe tbody tr th:only-of-type {\n",
              "        vertical-align: middle;\n",
              "    }\n",
              "\n",
              "    .dataframe tbody tr th {\n",
              "        vertical-align: top;\n",
              "    }\n",
              "\n",
              "    .dataframe thead th {\n",
              "        text-align: right;\n",
              "    }\n",
              "</style>\n",
              "<table border=\"1\" class=\"dataframe\">\n",
              "  <thead>\n",
              "    <tr style=\"text-align: right;\">\n",
              "      <th></th>\n",
              "      <th>자치구</th>\n",
              "      <th>범죄별</th>\n",
              "      <th>발생</th>\n",
              "      <th>검거</th>\n",
              "    </tr>\n",
              "  </thead>\n",
              "  <tbody>\n",
              "    <tr>\n",
              "      <th>0</th>\n",
              "      <td>종로구</td>\n",
              "      <td>소계</td>\n",
              "      <td>2712</td>\n",
              "      <td>2755</td>\n",
              "    </tr>\n",
              "    <tr>\n",
              "      <th>1</th>\n",
              "      <td>중구</td>\n",
              "      <td>소계</td>\n",
              "      <td>2861</td>\n",
              "      <td>2072</td>\n",
              "    </tr>\n",
              "    <tr>\n",
              "      <th>2</th>\n",
              "      <td>용산구</td>\n",
              "      <td>소계</td>\n",
              "      <td>2381</td>\n",
              "      <td>1659</td>\n",
              "    </tr>\n",
              "    <tr>\n",
              "      <th>3</th>\n",
              "      <td>성동구</td>\n",
              "      <td>소계</td>\n",
              "      <td>2112</td>\n",
              "      <td>1510</td>\n",
              "    </tr>\n",
              "    <tr>\n",
              "      <th>4</th>\n",
              "      <td>광진구</td>\n",
              "      <td>소계</td>\n",
              "      <td>3087</td>\n",
              "      <td>2202</td>\n",
              "    </tr>\n",
              "    <tr>\n",
              "      <th>5</th>\n",
              "      <td>동대문구</td>\n",
              "      <td>소계</td>\n",
              "      <td>2959</td>\n",
              "      <td>2113</td>\n",
              "    </tr>\n",
              "    <tr>\n",
              "      <th>6</th>\n",
              "      <td>중랑구</td>\n",
              "      <td>소계</td>\n",
              "      <td>3210</td>\n",
              "      <td>2405</td>\n",
              "    </tr>\n",
              "    <tr>\n",
              "      <th>7</th>\n",
              "      <td>성북구</td>\n",
              "      <td>소계</td>\n",
              "      <td>2411</td>\n",
              "      <td>1787</td>\n",
              "    </tr>\n",
              "    <tr>\n",
              "      <th>8</th>\n",
              "      <td>강북구</td>\n",
              "      <td>소계</td>\n",
              "      <td>2301</td>\n",
              "      <td>1912</td>\n",
              "    </tr>\n",
              "    <tr>\n",
              "      <th>9</th>\n",
              "      <td>도봉구</td>\n",
              "      <td>소계</td>\n",
              "      <td>1860</td>\n",
              "      <td>1294</td>\n",
              "    </tr>\n",
              "    <tr>\n",
              "      <th>10</th>\n",
              "      <td>노원구</td>\n",
              "      <td>소계</td>\n",
              "      <td>3425</td>\n",
              "      <td>2302</td>\n",
              "    </tr>\n",
              "    <tr>\n",
              "      <th>11</th>\n",
              "      <td>은평구</td>\n",
              "      <td>소계</td>\n",
              "      <td>3244</td>\n",
              "      <td>2423</td>\n",
              "    </tr>\n",
              "    <tr>\n",
              "      <th>12</th>\n",
              "      <td>서대문구</td>\n",
              "      <td>소계</td>\n",
              "      <td>2278</td>\n",
              "      <td>1594</td>\n",
              "    </tr>\n",
              "    <tr>\n",
              "      <th>13</th>\n",
              "      <td>마포구</td>\n",
              "      <td>소계</td>\n",
              "      <td>3540</td>\n",
              "      <td>2379</td>\n",
              "    </tr>\n",
              "    <tr>\n",
              "      <th>14</th>\n",
              "      <td>양천구</td>\n",
              "      <td>소계</td>\n",
              "      <td>3015</td>\n",
              "      <td>2085</td>\n",
              "    </tr>\n",
              "    <tr>\n",
              "      <th>15</th>\n",
              "      <td>강서구</td>\n",
              "      <td>소계</td>\n",
              "      <td>3896</td>\n",
              "      <td>3044</td>\n",
              "    </tr>\n",
              "    <tr>\n",
              "      <th>16</th>\n",
              "      <td>구로구</td>\n",
              "      <td>소계</td>\n",
              "      <td>3486</td>\n",
              "      <td>2431</td>\n",
              "    </tr>\n",
              "    <tr>\n",
              "      <th>17</th>\n",
              "      <td>금천구</td>\n",
              "      <td>소계</td>\n",
              "      <td>2439</td>\n",
              "      <td>1741</td>\n",
              "    </tr>\n",
              "    <tr>\n",
              "      <th>18</th>\n",
              "      <td>영등포구</td>\n",
              "      <td>소계</td>\n",
              "      <td>4179</td>\n",
              "      <td>2777</td>\n",
              "    </tr>\n",
              "    <tr>\n",
              "      <th>19</th>\n",
              "      <td>동작구</td>\n",
              "      <td>소계</td>\n",
              "      <td>2631</td>\n",
              "      <td>1829</td>\n",
              "    </tr>\n",
              "    <tr>\n",
              "      <th>20</th>\n",
              "      <td>관악구</td>\n",
              "      <td>소계</td>\n",
              "      <td>4444</td>\n",
              "      <td>3134</td>\n",
              "    </tr>\n",
              "    <tr>\n",
              "      <th>21</th>\n",
              "      <td>서초구</td>\n",
              "      <td>소계</td>\n",
              "      <td>3656</td>\n",
              "      <td>2439</td>\n",
              "    </tr>\n",
              "    <tr>\n",
              "      <th>22</th>\n",
              "      <td>강남구</td>\n",
              "      <td>소계</td>\n",
              "      <td>6146</td>\n",
              "      <td>4397</td>\n",
              "    </tr>\n",
              "    <tr>\n",
              "      <th>23</th>\n",
              "      <td>송파구</td>\n",
              "      <td>소계</td>\n",
              "      <td>4714</td>\n",
              "      <td>3266</td>\n",
              "    </tr>\n",
              "    <tr>\n",
              "      <th>24</th>\n",
              "      <td>강동구</td>\n",
              "      <td>소계</td>\n",
              "      <td>3458</td>\n",
              "      <td>2462</td>\n",
              "    </tr>\n",
              "  </tbody>\n",
              "</table>\n",
              "</div>\n",
              "      <button class=\"colab-df-convert\" onclick=\"convertToInteractive('df-330b9d3d-a66c-4db6-9785-a4a7ffab9379')\"\n",
              "              title=\"Convert this dataframe to an interactive table.\"\n",
              "              style=\"display:none;\">\n",
              "        \n",
              "  <svg xmlns=\"http://www.w3.org/2000/svg\" height=\"24px\"viewBox=\"0 0 24 24\"\n",
              "       width=\"24px\">\n",
              "    <path d=\"M0 0h24v24H0V0z\" fill=\"none\"/>\n",
              "    <path d=\"M18.56 5.44l.94 2.06.94-2.06 2.06-.94-2.06-.94-.94-2.06-.94 2.06-2.06.94zm-11 1L8.5 8.5l.94-2.06 2.06-.94-2.06-.94L8.5 2.5l-.94 2.06-2.06.94zm10 10l.94 2.06.94-2.06 2.06-.94-2.06-.94-.94-2.06-.94 2.06-2.06.94z\"/><path d=\"M17.41 7.96l-1.37-1.37c-.4-.4-.92-.59-1.43-.59-.52 0-1.04.2-1.43.59L10.3 9.45l-7.72 7.72c-.78.78-.78 2.05 0 2.83L4 21.41c.39.39.9.59 1.41.59.51 0 1.02-.2 1.41-.59l7.78-7.78 2.81-2.81c.8-.78.8-2.07 0-2.86zM5.41 20L4 18.59l7.72-7.72 1.47 1.35L5.41 20z\"/>\n",
              "  </svg>\n",
              "      </button>\n",
              "      \n",
              "  <style>\n",
              "    .colab-df-container {\n",
              "      display:flex;\n",
              "      flex-wrap:wrap;\n",
              "      gap: 12px;\n",
              "    }\n",
              "\n",
              "    .colab-df-convert {\n",
              "      background-color: #E8F0FE;\n",
              "      border: none;\n",
              "      border-radius: 50%;\n",
              "      cursor: pointer;\n",
              "      display: none;\n",
              "      fill: #1967D2;\n",
              "      height: 32px;\n",
              "      padding: 0 0 0 0;\n",
              "      width: 32px;\n",
              "    }\n",
              "\n",
              "    .colab-df-convert:hover {\n",
              "      background-color: #E2EBFA;\n",
              "      box-shadow: 0px 1px 2px rgba(60, 64, 67, 0.3), 0px 1px 3px 1px rgba(60, 64, 67, 0.15);\n",
              "      fill: #174EA6;\n",
              "    }\n",
              "\n",
              "    [theme=dark] .colab-df-convert {\n",
              "      background-color: #3B4455;\n",
              "      fill: #D2E3FC;\n",
              "    }\n",
              "\n",
              "    [theme=dark] .colab-df-convert:hover {\n",
              "      background-color: #434B5C;\n",
              "      box-shadow: 0px 1px 3px 1px rgba(0, 0, 0, 0.15);\n",
              "      filter: drop-shadow(0px 1px 2px rgba(0, 0, 0, 0.3));\n",
              "      fill: #FFFFFF;\n",
              "    }\n",
              "  </style>\n",
              "\n",
              "      <script>\n",
              "        const buttonEl =\n",
              "          document.querySelector('#df-330b9d3d-a66c-4db6-9785-a4a7ffab9379 button.colab-df-convert');\n",
              "        buttonEl.style.display =\n",
              "          google.colab.kernel.accessAllowed ? 'block' : 'none';\n",
              "\n",
              "        async function convertToInteractive(key) {\n",
              "          const element = document.querySelector('#df-330b9d3d-a66c-4db6-9785-a4a7ffab9379');\n",
              "          const dataTable =\n",
              "            await google.colab.kernel.invokeFunction('convertToInteractive',\n",
              "                                                     [key], {});\n",
              "          if (!dataTable) return;\n",
              "\n",
              "          const docLinkHtml = 'Like what you see? Visit the ' +\n",
              "            '<a target=\"_blank\" href=https://colab.research.google.com/notebooks/data_table.ipynb>data table notebook</a>'\n",
              "            + ' to learn more about interactive tables.';\n",
              "          element.innerHTML = '';\n",
              "          dataTable['output_type'] = 'display_data';\n",
              "          await google.colab.output.renderOutput(dataTable, element);\n",
              "          const docLink = document.createElement('div');\n",
              "          docLink.innerHTML = docLinkHtml;\n",
              "          element.appendChild(docLink);\n",
              "        }\n",
              "      </script>\n",
              "    </div>\n",
              "  </div>\n",
              "  "
            ]
          },
          "metadata": {},
          "execution_count": 26
        }
      ]
    },
    {
      "cell_type": "code",
      "source": [
        "tra_cri = pd.merge(left=tra,right=cri,on='자치구',how='left')\n",
        "tra_cri.rename(columns={'상세영업상태명':'유흥업소','발생':'범죄발생수'},inplace=True)"
      ],
      "metadata": {
        "id": "DHrnKAGLDLA8"
      },
      "execution_count": null,
      "outputs": []
    },
    {
      "cell_type": "code",
      "source": [
        "tra_cri[['유흥업소','범죄발생수']].corr()"
      ],
      "metadata": {
        "colab": {
          "base_uri": "https://localhost:8080/",
          "height": 112
        },
        "id": "xyJaLryeLOkO",
        "outputId": "fcc22f1a-b38a-4e60-b3b8-c426778e24e9"
      },
      "execution_count": null,
      "outputs": [
        {
          "output_type": "execute_result",
          "data": {
            "text/plain": [
              "           유흥업소     범죄발생수\n",
              "유흥업소   1.000000  0.513614\n",
              "범죄발생수  0.513614  1.000000"
            ],
            "text/html": [
              "\n",
              "  <div id=\"df-d765090c-576d-4cff-bf61-02cadfc4ac39\">\n",
              "    <div class=\"colab-df-container\">\n",
              "      <div>\n",
              "<style scoped>\n",
              "    .dataframe tbody tr th:only-of-type {\n",
              "        vertical-align: middle;\n",
              "    }\n",
              "\n",
              "    .dataframe tbody tr th {\n",
              "        vertical-align: top;\n",
              "    }\n",
              "\n",
              "    .dataframe thead th {\n",
              "        text-align: right;\n",
              "    }\n",
              "</style>\n",
              "<table border=\"1\" class=\"dataframe\">\n",
              "  <thead>\n",
              "    <tr style=\"text-align: right;\">\n",
              "      <th></th>\n",
              "      <th>유흥업소</th>\n",
              "      <th>범죄발생수</th>\n",
              "    </tr>\n",
              "  </thead>\n",
              "  <tbody>\n",
              "    <tr>\n",
              "      <th>유흥업소</th>\n",
              "      <td>1.000000</td>\n",
              "      <td>0.513614</td>\n",
              "    </tr>\n",
              "    <tr>\n",
              "      <th>범죄발생수</th>\n",
              "      <td>0.513614</td>\n",
              "      <td>1.000000</td>\n",
              "    </tr>\n",
              "  </tbody>\n",
              "</table>\n",
              "</div>\n",
              "      <button class=\"colab-df-convert\" onclick=\"convertToInteractive('df-d765090c-576d-4cff-bf61-02cadfc4ac39')\"\n",
              "              title=\"Convert this dataframe to an interactive table.\"\n",
              "              style=\"display:none;\">\n",
              "        \n",
              "  <svg xmlns=\"http://www.w3.org/2000/svg\" height=\"24px\"viewBox=\"0 0 24 24\"\n",
              "       width=\"24px\">\n",
              "    <path d=\"M0 0h24v24H0V0z\" fill=\"none\"/>\n",
              "    <path d=\"M18.56 5.44l.94 2.06.94-2.06 2.06-.94-2.06-.94-.94-2.06-.94 2.06-2.06.94zm-11 1L8.5 8.5l.94-2.06 2.06-.94-2.06-.94L8.5 2.5l-.94 2.06-2.06.94zm10 10l.94 2.06.94-2.06 2.06-.94-2.06-.94-.94-2.06-.94 2.06-2.06.94z\"/><path d=\"M17.41 7.96l-1.37-1.37c-.4-.4-.92-.59-1.43-.59-.52 0-1.04.2-1.43.59L10.3 9.45l-7.72 7.72c-.78.78-.78 2.05 0 2.83L4 21.41c.39.39.9.59 1.41.59.51 0 1.02-.2 1.41-.59l7.78-7.78 2.81-2.81c.8-.78.8-2.07 0-2.86zM5.41 20L4 18.59l7.72-7.72 1.47 1.35L5.41 20z\"/>\n",
              "  </svg>\n",
              "      </button>\n",
              "      \n",
              "  <style>\n",
              "    .colab-df-container {\n",
              "      display:flex;\n",
              "      flex-wrap:wrap;\n",
              "      gap: 12px;\n",
              "    }\n",
              "\n",
              "    .colab-df-convert {\n",
              "      background-color: #E8F0FE;\n",
              "      border: none;\n",
              "      border-radius: 50%;\n",
              "      cursor: pointer;\n",
              "      display: none;\n",
              "      fill: #1967D2;\n",
              "      height: 32px;\n",
              "      padding: 0 0 0 0;\n",
              "      width: 32px;\n",
              "    }\n",
              "\n",
              "    .colab-df-convert:hover {\n",
              "      background-color: #E2EBFA;\n",
              "      box-shadow: 0px 1px 2px rgba(60, 64, 67, 0.3), 0px 1px 3px 1px rgba(60, 64, 67, 0.15);\n",
              "      fill: #174EA6;\n",
              "    }\n",
              "\n",
              "    [theme=dark] .colab-df-convert {\n",
              "      background-color: #3B4455;\n",
              "      fill: #D2E3FC;\n",
              "    }\n",
              "\n",
              "    [theme=dark] .colab-df-convert:hover {\n",
              "      background-color: #434B5C;\n",
              "      box-shadow: 0px 1px 3px 1px rgba(0, 0, 0, 0.15);\n",
              "      filter: drop-shadow(0px 1px 2px rgba(0, 0, 0, 0.3));\n",
              "      fill: #FFFFFF;\n",
              "    }\n",
              "  </style>\n",
              "\n",
              "      <script>\n",
              "        const buttonEl =\n",
              "          document.querySelector('#df-d765090c-576d-4cff-bf61-02cadfc4ac39 button.colab-df-convert');\n",
              "        buttonEl.style.display =\n",
              "          google.colab.kernel.accessAllowed ? 'block' : 'none';\n",
              "\n",
              "        async function convertToInteractive(key) {\n",
              "          const element = document.querySelector('#df-d765090c-576d-4cff-bf61-02cadfc4ac39');\n",
              "          const dataTable =\n",
              "            await google.colab.kernel.invokeFunction('convertToInteractive',\n",
              "                                                     [key], {});\n",
              "          if (!dataTable) return;\n",
              "\n",
              "          const docLinkHtml = 'Like what you see? Visit the ' +\n",
              "            '<a target=\"_blank\" href=https://colab.research.google.com/notebooks/data_table.ipynb>data table notebook</a>'\n",
              "            + ' to learn more about interactive tables.';\n",
              "          element.innerHTML = '';\n",
              "          dataTable['output_type'] = 'display_data';\n",
              "          await google.colab.output.renderOutput(dataTable, element);\n",
              "          const docLink = document.createElement('div');\n",
              "          docLink.innerHTML = docLinkHtml;\n",
              "          element.appendChild(docLink);\n",
              "        }\n",
              "      </script>\n",
              "    </div>\n",
              "  </div>\n",
              "  "
            ]
          },
          "metadata": {},
          "execution_count": 124
        }
      ]
    },
    {
      "cell_type": "markdown",
      "source": [
        "### cctv와 범죄발생율\n",
        "- 상관관계 확인: 0.647535\n",
        "  - cctv 증가하면 범죄발생율이 올라간다는 뜻\n",
        "  - 또는 범죄발생이 증가하면 cctv도 증가한다는 뜻\n",
        "  - cctv와 범죄발생율은 양적 상관관계를 따른다\n",
        "  - cctv가 많다해서 범죄발생이 줄어들지 않는것으로 결론 지을 수 있다."
      ],
      "metadata": {
        "id": "ssxTdyNYUelt"
      }
    },
    {
      "cell_type": "code",
      "source": [
        "cctv_cri = pd.merge(left=cctv,right=cri,on='자치구',how='left')\n",
        "cctv_cri[['CCTV 수량','발생']].corr()"
      ],
      "metadata": {
        "colab": {
          "base_uri": "https://localhost:8080/",
          "height": 112
        },
        "id": "efE99-jhL7nE",
        "outputId": "0b65c9ba-ec5e-4e80-d2cd-359ede7049c7"
      },
      "execution_count": null,
      "outputs": [
        {
          "output_type": "execute_result",
          "data": {
            "text/plain": [
              "          CCTV 수량        발생\n",
              "CCTV 수량  1.000000  0.647535\n",
              "발생       0.647535  1.000000"
            ],
            "text/html": [
              "\n",
              "  <div id=\"df-ba465ef6-6c2a-4647-9602-6ad310a73038\">\n",
              "    <div class=\"colab-df-container\">\n",
              "      <div>\n",
              "<style scoped>\n",
              "    .dataframe tbody tr th:only-of-type {\n",
              "        vertical-align: middle;\n",
              "    }\n",
              "\n",
              "    .dataframe tbody tr th {\n",
              "        vertical-align: top;\n",
              "    }\n",
              "\n",
              "    .dataframe thead th {\n",
              "        text-align: right;\n",
              "    }\n",
              "</style>\n",
              "<table border=\"1\" class=\"dataframe\">\n",
              "  <thead>\n",
              "    <tr style=\"text-align: right;\">\n",
              "      <th></th>\n",
              "      <th>CCTV 수량</th>\n",
              "      <th>발생</th>\n",
              "    </tr>\n",
              "  </thead>\n",
              "  <tbody>\n",
              "    <tr>\n",
              "      <th>CCTV 수량</th>\n",
              "      <td>1.000000</td>\n",
              "      <td>0.647535</td>\n",
              "    </tr>\n",
              "    <tr>\n",
              "      <th>발생</th>\n",
              "      <td>0.647535</td>\n",
              "      <td>1.000000</td>\n",
              "    </tr>\n",
              "  </tbody>\n",
              "</table>\n",
              "</div>\n",
              "      <button class=\"colab-df-convert\" onclick=\"convertToInteractive('df-ba465ef6-6c2a-4647-9602-6ad310a73038')\"\n",
              "              title=\"Convert this dataframe to an interactive table.\"\n",
              "              style=\"display:none;\">\n",
              "        \n",
              "  <svg xmlns=\"http://www.w3.org/2000/svg\" height=\"24px\"viewBox=\"0 0 24 24\"\n",
              "       width=\"24px\">\n",
              "    <path d=\"M0 0h24v24H0V0z\" fill=\"none\"/>\n",
              "    <path d=\"M18.56 5.44l.94 2.06.94-2.06 2.06-.94-2.06-.94-.94-2.06-.94 2.06-2.06.94zm-11 1L8.5 8.5l.94-2.06 2.06-.94-2.06-.94L8.5 2.5l-.94 2.06-2.06.94zm10 10l.94 2.06.94-2.06 2.06-.94-2.06-.94-.94-2.06-.94 2.06-2.06.94z\"/><path d=\"M17.41 7.96l-1.37-1.37c-.4-.4-.92-.59-1.43-.59-.52 0-1.04.2-1.43.59L10.3 9.45l-7.72 7.72c-.78.78-.78 2.05 0 2.83L4 21.41c.39.39.9.59 1.41.59.51 0 1.02-.2 1.41-.59l7.78-7.78 2.81-2.81c.8-.78.8-2.07 0-2.86zM5.41 20L4 18.59l7.72-7.72 1.47 1.35L5.41 20z\"/>\n",
              "  </svg>\n",
              "      </button>\n",
              "      \n",
              "  <style>\n",
              "    .colab-df-container {\n",
              "      display:flex;\n",
              "      flex-wrap:wrap;\n",
              "      gap: 12px;\n",
              "    }\n",
              "\n",
              "    .colab-df-convert {\n",
              "      background-color: #E8F0FE;\n",
              "      border: none;\n",
              "      border-radius: 50%;\n",
              "      cursor: pointer;\n",
              "      display: none;\n",
              "      fill: #1967D2;\n",
              "      height: 32px;\n",
              "      padding: 0 0 0 0;\n",
              "      width: 32px;\n",
              "    }\n",
              "\n",
              "    .colab-df-convert:hover {\n",
              "      background-color: #E2EBFA;\n",
              "      box-shadow: 0px 1px 2px rgba(60, 64, 67, 0.3), 0px 1px 3px 1px rgba(60, 64, 67, 0.15);\n",
              "      fill: #174EA6;\n",
              "    }\n",
              "\n",
              "    [theme=dark] .colab-df-convert {\n",
              "      background-color: #3B4455;\n",
              "      fill: #D2E3FC;\n",
              "    }\n",
              "\n",
              "    [theme=dark] .colab-df-convert:hover {\n",
              "      background-color: #434B5C;\n",
              "      box-shadow: 0px 1px 3px 1px rgba(0, 0, 0, 0.15);\n",
              "      filter: drop-shadow(0px 1px 2px rgba(0, 0, 0, 0.3));\n",
              "      fill: #FFFFFF;\n",
              "    }\n",
              "  </style>\n",
              "\n",
              "      <script>\n",
              "        const buttonEl =\n",
              "          document.querySelector('#df-ba465ef6-6c2a-4647-9602-6ad310a73038 button.colab-df-convert');\n",
              "        buttonEl.style.display =\n",
              "          google.colab.kernel.accessAllowed ? 'block' : 'none';\n",
              "\n",
              "        async function convertToInteractive(key) {\n",
              "          const element = document.querySelector('#df-ba465ef6-6c2a-4647-9602-6ad310a73038');\n",
              "          const dataTable =\n",
              "            await google.colab.kernel.invokeFunction('convertToInteractive',\n",
              "                                                     [key], {});\n",
              "          if (!dataTable) return;\n",
              "\n",
              "          const docLinkHtml = 'Like what you see? Visit the ' +\n",
              "            '<a target=\"_blank\" href=https://colab.research.google.com/notebooks/data_table.ipynb>data table notebook</a>'\n",
              "            + ' to learn more about interactive tables.';\n",
              "          element.innerHTML = '';\n",
              "          dataTable['output_type'] = 'display_data';\n",
              "          await google.colab.output.renderOutput(dataTable, element);\n",
              "          const docLink = document.createElement('div');\n",
              "          docLink.innerHTML = docLinkHtml;\n",
              "          element.appendChild(docLink);\n",
              "        }\n",
              "      </script>\n",
              "    </div>\n",
              "  </div>\n",
              "  "
            ]
          },
          "metadata": {},
          "execution_count": 129
        }
      ]
    },
    {
      "cell_type": "markdown",
      "source": [
        "### 범죄발생수와 안전도\n",
        "- 상관관계확인: -0.20249\n",
        "  - -0.2이기 때문에 상관관계가 거의 없다고 본다."
      ],
      "metadata": {
        "id": "D-LbSN4dXIHg"
      }
    },
    {
      "cell_type": "code",
      "source": [
        "a_city=['종로구', '중구', '용산구']\n",
        "b_city=['성동구', '광진구', '동대문구', '중랑구', '성북구', '강북구', '도봉구', '노원구']\n",
        "c_city=['은평구', '서대문구', '마포구']\n",
        "d_city=['강서구', '양천구', '영등포구', '구로구', '금천구', '관악구', '동작구']\n",
        "e_city=['강남구','강동구','서초구','송파구']\n",
        "total=[]\n",
        "for i in cri['자치구']:\n",
        "  if i in a_city:\n",
        "    total.append('도심권')\n",
        "  elif i in b_city:\n",
        "    total.append('동북권')\n",
        "  elif i in c_city :\n",
        "    total.append('서북권')\n",
        "  elif i in d_city:\n",
        "    total.append('서남권')\n",
        "  else:\n",
        "    total.append('동남권')"
      ],
      "metadata": {
        "id": "xs8ez0ecb4SJ"
      },
      "execution_count": null,
      "outputs": []
    },
    {
      "cell_type": "code",
      "source": [
        "cri['권역별']=total\n",
        "cri.drop(['범죄별','검거'],inplace=True,axis=1)"
      ],
      "metadata": {
        "id": "xexYt2M0ddUJ"
      },
      "execution_count": null,
      "outputs": []
    },
    {
      "cell_type": "code",
      "source": [
        "#안전도\n",
        "safe=pd.read_csv('/content/drive/MyDrive/cp1 1인가구/주변환경+안전도_20230105164039.csv',encoding = 'CP949', engine='python')"
      ],
      "metadata": {
        "id": "GuCiULulZ6BC"
      },
      "execution_count": null,
      "outputs": []
    },
    {
      "cell_type": "code",
      "source": [
        "safe_=safe.iloc[1:6,:]"
      ],
      "metadata": {
        "id": "d0yE_nM_arMd"
      },
      "execution_count": null,
      "outputs": []
    },
    {
      "cell_type": "code",
      "source": [
        "safe_=safe_[['특성별(2)','5점 평균 (점)']].reset_index(drop=True)"
      ],
      "metadata": {
        "id": "Z3hZTDKdbKHV"
      },
      "execution_count": null,
      "outputs": []
    },
    {
      "cell_type": "code",
      "source": [
        "safe_.rename(columns={'특성별(2)':'권역별'},inplace=True)"
      ],
      "metadata": {
        "id": "R_KznUmFf9r6"
      },
      "execution_count": null,
      "outputs": []
    },
    {
      "cell_type": "code",
      "source": [
        "a_cri=cri.groupby('권역별').sum().reset_index()\n",
        "a_cri"
      ],
      "metadata": {
        "colab": {
          "base_uri": "https://localhost:8080/",
          "height": 206
        },
        "id": "M3cxZgvmexSF",
        "outputId": "b23fd313-f113-4945-8bcd-a3b514ea7d8d"
      },
      "execution_count": null,
      "outputs": [
        {
          "output_type": "execute_result",
          "data": {
            "text/plain": [
              "   권역별     발생\n",
              "0  도심권   7954\n",
              "1  동남권  17974\n",
              "2  동북권  21365\n",
              "3  서남권  24090\n",
              "4  서북권   9062"
            ],
            "text/html": [
              "\n",
              "  <div id=\"df-ed15dec8-b87a-4054-88af-705f021f7b47\">\n",
              "    <div class=\"colab-df-container\">\n",
              "      <div>\n",
              "<style scoped>\n",
              "    .dataframe tbody tr th:only-of-type {\n",
              "        vertical-align: middle;\n",
              "    }\n",
              "\n",
              "    .dataframe tbody tr th {\n",
              "        vertical-align: top;\n",
              "    }\n",
              "\n",
              "    .dataframe thead th {\n",
              "        text-align: right;\n",
              "    }\n",
              "</style>\n",
              "<table border=\"1\" class=\"dataframe\">\n",
              "  <thead>\n",
              "    <tr style=\"text-align: right;\">\n",
              "      <th></th>\n",
              "      <th>권역별</th>\n",
              "      <th>발생</th>\n",
              "    </tr>\n",
              "  </thead>\n",
              "  <tbody>\n",
              "    <tr>\n",
              "      <th>0</th>\n",
              "      <td>도심권</td>\n",
              "      <td>7954</td>\n",
              "    </tr>\n",
              "    <tr>\n",
              "      <th>1</th>\n",
              "      <td>동남권</td>\n",
              "      <td>17974</td>\n",
              "    </tr>\n",
              "    <tr>\n",
              "      <th>2</th>\n",
              "      <td>동북권</td>\n",
              "      <td>21365</td>\n",
              "    </tr>\n",
              "    <tr>\n",
              "      <th>3</th>\n",
              "      <td>서남권</td>\n",
              "      <td>24090</td>\n",
              "    </tr>\n",
              "    <tr>\n",
              "      <th>4</th>\n",
              "      <td>서북권</td>\n",
              "      <td>9062</td>\n",
              "    </tr>\n",
              "  </tbody>\n",
              "</table>\n",
              "</div>\n",
              "      <button class=\"colab-df-convert\" onclick=\"convertToInteractive('df-ed15dec8-b87a-4054-88af-705f021f7b47')\"\n",
              "              title=\"Convert this dataframe to an interactive table.\"\n",
              "              style=\"display:none;\">\n",
              "        \n",
              "  <svg xmlns=\"http://www.w3.org/2000/svg\" height=\"24px\"viewBox=\"0 0 24 24\"\n",
              "       width=\"24px\">\n",
              "    <path d=\"M0 0h24v24H0V0z\" fill=\"none\"/>\n",
              "    <path d=\"M18.56 5.44l.94 2.06.94-2.06 2.06-.94-2.06-.94-.94-2.06-.94 2.06-2.06.94zm-11 1L8.5 8.5l.94-2.06 2.06-.94-2.06-.94L8.5 2.5l-.94 2.06-2.06.94zm10 10l.94 2.06.94-2.06 2.06-.94-2.06-.94-.94-2.06-.94 2.06-2.06.94z\"/><path d=\"M17.41 7.96l-1.37-1.37c-.4-.4-.92-.59-1.43-.59-.52 0-1.04.2-1.43.59L10.3 9.45l-7.72 7.72c-.78.78-.78 2.05 0 2.83L4 21.41c.39.39.9.59 1.41.59.51 0 1.02-.2 1.41-.59l7.78-7.78 2.81-2.81c.8-.78.8-2.07 0-2.86zM5.41 20L4 18.59l7.72-7.72 1.47 1.35L5.41 20z\"/>\n",
              "  </svg>\n",
              "      </button>\n",
              "      \n",
              "  <style>\n",
              "    .colab-df-container {\n",
              "      display:flex;\n",
              "      flex-wrap:wrap;\n",
              "      gap: 12px;\n",
              "    }\n",
              "\n",
              "    .colab-df-convert {\n",
              "      background-color: #E8F0FE;\n",
              "      border: none;\n",
              "      border-radius: 50%;\n",
              "      cursor: pointer;\n",
              "      display: none;\n",
              "      fill: #1967D2;\n",
              "      height: 32px;\n",
              "      padding: 0 0 0 0;\n",
              "      width: 32px;\n",
              "    }\n",
              "\n",
              "    .colab-df-convert:hover {\n",
              "      background-color: #E2EBFA;\n",
              "      box-shadow: 0px 1px 2px rgba(60, 64, 67, 0.3), 0px 1px 3px 1px rgba(60, 64, 67, 0.15);\n",
              "      fill: #174EA6;\n",
              "    }\n",
              "\n",
              "    [theme=dark] .colab-df-convert {\n",
              "      background-color: #3B4455;\n",
              "      fill: #D2E3FC;\n",
              "    }\n",
              "\n",
              "    [theme=dark] .colab-df-convert:hover {\n",
              "      background-color: #434B5C;\n",
              "      box-shadow: 0px 1px 3px 1px rgba(0, 0, 0, 0.15);\n",
              "      filter: drop-shadow(0px 1px 2px rgba(0, 0, 0, 0.3));\n",
              "      fill: #FFFFFF;\n",
              "    }\n",
              "  </style>\n",
              "\n",
              "      <script>\n",
              "        const buttonEl =\n",
              "          document.querySelector('#df-ed15dec8-b87a-4054-88af-705f021f7b47 button.colab-df-convert');\n",
              "        buttonEl.style.display =\n",
              "          google.colab.kernel.accessAllowed ? 'block' : 'none';\n",
              "\n",
              "        async function convertToInteractive(key) {\n",
              "          const element = document.querySelector('#df-ed15dec8-b87a-4054-88af-705f021f7b47');\n",
              "          const dataTable =\n",
              "            await google.colab.kernel.invokeFunction('convertToInteractive',\n",
              "                                                     [key], {});\n",
              "          if (!dataTable) return;\n",
              "\n",
              "          const docLinkHtml = 'Like what you see? Visit the ' +\n",
              "            '<a target=\"_blank\" href=https://colab.research.google.com/notebooks/data_table.ipynb>data table notebook</a>'\n",
              "            + ' to learn more about interactive tables.';\n",
              "          element.innerHTML = '';\n",
              "          dataTable['output_type'] = 'display_data';\n",
              "          await google.colab.output.renderOutput(dataTable, element);\n",
              "          const docLink = document.createElement('div');\n",
              "          docLink.innerHTML = docLinkHtml;\n",
              "          element.appendChild(docLink);\n",
              "        }\n",
              "      </script>\n",
              "    </div>\n",
              "  </div>\n",
              "  "
            ]
          },
          "metadata": {},
          "execution_count": 68
        }
      ]
    },
    {
      "cell_type": "code",
      "source": [
        "safe_cri = pd.merge(left=safe_,right=a_cri,on='권역별',how='left')\n",
        "safe_cri.corr()"
      ],
      "metadata": {
        "colab": {
          "base_uri": "https://localhost:8080/",
          "height": 112
        },
        "id": "akD1JOaOfavn",
        "outputId": "f879fcb2-553c-4a88-db4a-7ba35b310607"
      },
      "execution_count": null,
      "outputs": [
        {
          "output_type": "execute_result",
          "data": {
            "text/plain": [
              "           5점 평균 (점)       발생\n",
              "5점 평균 (점)    1.00000 -0.20249\n",
              "발생          -0.20249  1.00000"
            ],
            "text/html": [
              "\n",
              "  <div id=\"df-e976611e-703c-4ab2-b469-c74de78f3822\">\n",
              "    <div class=\"colab-df-container\">\n",
              "      <div>\n",
              "<style scoped>\n",
              "    .dataframe tbody tr th:only-of-type {\n",
              "        vertical-align: middle;\n",
              "    }\n",
              "\n",
              "    .dataframe tbody tr th {\n",
              "        vertical-align: top;\n",
              "    }\n",
              "\n",
              "    .dataframe thead th {\n",
              "        text-align: right;\n",
              "    }\n",
              "</style>\n",
              "<table border=\"1\" class=\"dataframe\">\n",
              "  <thead>\n",
              "    <tr style=\"text-align: right;\">\n",
              "      <th></th>\n",
              "      <th>5점 평균 (점)</th>\n",
              "      <th>발생</th>\n",
              "    </tr>\n",
              "  </thead>\n",
              "  <tbody>\n",
              "    <tr>\n",
              "      <th>5점 평균 (점)</th>\n",
              "      <td>1.00000</td>\n",
              "      <td>-0.20249</td>\n",
              "    </tr>\n",
              "    <tr>\n",
              "      <th>발생</th>\n",
              "      <td>-0.20249</td>\n",
              "      <td>1.00000</td>\n",
              "    </tr>\n",
              "  </tbody>\n",
              "</table>\n",
              "</div>\n",
              "      <button class=\"colab-df-convert\" onclick=\"convertToInteractive('df-e976611e-703c-4ab2-b469-c74de78f3822')\"\n",
              "              title=\"Convert this dataframe to an interactive table.\"\n",
              "              style=\"display:none;\">\n",
              "        \n",
              "  <svg xmlns=\"http://www.w3.org/2000/svg\" height=\"24px\"viewBox=\"0 0 24 24\"\n",
              "       width=\"24px\">\n",
              "    <path d=\"M0 0h24v24H0V0z\" fill=\"none\"/>\n",
              "    <path d=\"M18.56 5.44l.94 2.06.94-2.06 2.06-.94-2.06-.94-.94-2.06-.94 2.06-2.06.94zm-11 1L8.5 8.5l.94-2.06 2.06-.94-2.06-.94L8.5 2.5l-.94 2.06-2.06.94zm10 10l.94 2.06.94-2.06 2.06-.94-2.06-.94-.94-2.06-.94 2.06-2.06.94z\"/><path d=\"M17.41 7.96l-1.37-1.37c-.4-.4-.92-.59-1.43-.59-.52 0-1.04.2-1.43.59L10.3 9.45l-7.72 7.72c-.78.78-.78 2.05 0 2.83L4 21.41c.39.39.9.59 1.41.59.51 0 1.02-.2 1.41-.59l7.78-7.78 2.81-2.81c.8-.78.8-2.07 0-2.86zM5.41 20L4 18.59l7.72-7.72 1.47 1.35L5.41 20z\"/>\n",
              "  </svg>\n",
              "      </button>\n",
              "      \n",
              "  <style>\n",
              "    .colab-df-container {\n",
              "      display:flex;\n",
              "      flex-wrap:wrap;\n",
              "      gap: 12px;\n",
              "    }\n",
              "\n",
              "    .colab-df-convert {\n",
              "      background-color: #E8F0FE;\n",
              "      border: none;\n",
              "      border-radius: 50%;\n",
              "      cursor: pointer;\n",
              "      display: none;\n",
              "      fill: #1967D2;\n",
              "      height: 32px;\n",
              "      padding: 0 0 0 0;\n",
              "      width: 32px;\n",
              "    }\n",
              "\n",
              "    .colab-df-convert:hover {\n",
              "      background-color: #E2EBFA;\n",
              "      box-shadow: 0px 1px 2px rgba(60, 64, 67, 0.3), 0px 1px 3px 1px rgba(60, 64, 67, 0.15);\n",
              "      fill: #174EA6;\n",
              "    }\n",
              "\n",
              "    [theme=dark] .colab-df-convert {\n",
              "      background-color: #3B4455;\n",
              "      fill: #D2E3FC;\n",
              "    }\n",
              "\n",
              "    [theme=dark] .colab-df-convert:hover {\n",
              "      background-color: #434B5C;\n",
              "      box-shadow: 0px 1px 3px 1px rgba(0, 0, 0, 0.15);\n",
              "      filter: drop-shadow(0px 1px 2px rgba(0, 0, 0, 0.3));\n",
              "      fill: #FFFFFF;\n",
              "    }\n",
              "  </style>\n",
              "\n",
              "      <script>\n",
              "        const buttonEl =\n",
              "          document.querySelector('#df-e976611e-703c-4ab2-b469-c74de78f3822 button.colab-df-convert');\n",
              "        buttonEl.style.display =\n",
              "          google.colab.kernel.accessAllowed ? 'block' : 'none';\n",
              "\n",
              "        async function convertToInteractive(key) {\n",
              "          const element = document.querySelector('#df-e976611e-703c-4ab2-b469-c74de78f3822');\n",
              "          const dataTable =\n",
              "            await google.colab.kernel.invokeFunction('convertToInteractive',\n",
              "                                                     [key], {});\n",
              "          if (!dataTable) return;\n",
              "\n",
              "          const docLinkHtml = 'Like what you see? Visit the ' +\n",
              "            '<a target=\"_blank\" href=https://colab.research.google.com/notebooks/data_table.ipynb>data table notebook</a>'\n",
              "            + ' to learn more about interactive tables.';\n",
              "          element.innerHTML = '';\n",
              "          dataTable['output_type'] = 'display_data';\n",
              "          await google.colab.output.renderOutput(dataTable, element);\n",
              "          const docLink = document.createElement('div');\n",
              "          docLink.innerHTML = docLinkHtml;\n",
              "          element.appendChild(docLink);\n",
              "        }\n",
              "      </script>\n",
              "    </div>\n",
              "  </div>\n",
              "  "
            ]
          },
          "metadata": {},
          "execution_count": 69
        }
      ]
    },
    {
      "cell_type": "markdown",
      "source": [
        "### cctv와 안전도 관계\n",
        "- -0.087033\n",
        "- 상관관계가 거의 없다고 보면 된다.\n",
        "- cctv가 많다해서 1인가구는 안전하다고 느끼지는 못한다."
      ],
      "metadata": {
        "id": "-fZqQTxfh8uZ"
      }
    },
    {
      "cell_type": "code",
      "source": [
        "a_city=['종로구', '중구', '용산구']\n",
        "b_city=['성동구', '광진구', '동대문구', '중랑구', '성북구', '강북구', '도봉구', '노원구']\n",
        "c_city=['은평구', '서대문구', '마포구']\n",
        "d_city=['강서구', '양천구', '영등포구', '구로구', '금천구', '관악구', '동작구']\n",
        "e_city=['강남구','강동구','서초구','송파구']\n",
        "total=[]\n",
        "for i in cctv['자치구']:\n",
        "  if i in a_city:\n",
        "    total.append('도심권')\n",
        "  elif i in b_city:\n",
        "    total.append('동북권')\n",
        "  elif i in c_city :\n",
        "    total.append('서북권')\n",
        "  elif i in d_city:\n",
        "    total.append('서남권')\n",
        "  else:\n",
        "    total.append('동남권')"
      ],
      "metadata": {
        "id": "WbX4kyOiiBCx"
      },
      "execution_count": null,
      "outputs": []
    },
    {
      "cell_type": "code",
      "source": [
        "cctv['권역별']=total"
      ],
      "metadata": {
        "id": "liJ0kICxiGJ_"
      },
      "execution_count": null,
      "outputs": []
    },
    {
      "cell_type": "code",
      "source": [
        "cctv_ = cctv.groupby('권역별').sum().reset_index()"
      ],
      "metadata": {
        "id": "HVhiUjpRiJY6"
      },
      "execution_count": null,
      "outputs": []
    },
    {
      "cell_type": "code",
      "source": [
        "safe_cctv = pd.merge(left=safe_,right=cctv_,on='권역별',how='left')\n",
        "safe_cctv.corr()"
      ],
      "metadata": {
        "colab": {
          "base_uri": "https://localhost:8080/",
          "height": 112
        },
        "id": "hCIbrYBjiJ6g",
        "outputId": "76c98a8e-41c4-41d4-8b8f-789c1784b34d"
      },
      "execution_count": null,
      "outputs": [
        {
          "output_type": "execute_result",
          "data": {
            "text/plain": [
              "           5점 평균 (점)   CCTV 수량\n",
              "5점 평균 (점)   1.000000 -0.087033\n",
              "CCTV 수량    -0.087033  1.000000"
            ],
            "text/html": [
              "\n",
              "  <div id=\"df-e9fe8e47-e346-4b62-bfcb-71ab62579909\">\n",
              "    <div class=\"colab-df-container\">\n",
              "      <div>\n",
              "<style scoped>\n",
              "    .dataframe tbody tr th:only-of-type {\n",
              "        vertical-align: middle;\n",
              "    }\n",
              "\n",
              "    .dataframe tbody tr th {\n",
              "        vertical-align: top;\n",
              "    }\n",
              "\n",
              "    .dataframe thead th {\n",
              "        text-align: right;\n",
              "    }\n",
              "</style>\n",
              "<table border=\"1\" class=\"dataframe\">\n",
              "  <thead>\n",
              "    <tr style=\"text-align: right;\">\n",
              "      <th></th>\n",
              "      <th>5점 평균 (점)</th>\n",
              "      <th>CCTV 수량</th>\n",
              "    </tr>\n",
              "  </thead>\n",
              "  <tbody>\n",
              "    <tr>\n",
              "      <th>5점 평균 (점)</th>\n",
              "      <td>1.000000</td>\n",
              "      <td>-0.087033</td>\n",
              "    </tr>\n",
              "    <tr>\n",
              "      <th>CCTV 수량</th>\n",
              "      <td>-0.087033</td>\n",
              "      <td>1.000000</td>\n",
              "    </tr>\n",
              "  </tbody>\n",
              "</table>\n",
              "</div>\n",
              "      <button class=\"colab-df-convert\" onclick=\"convertToInteractive('df-e9fe8e47-e346-4b62-bfcb-71ab62579909')\"\n",
              "              title=\"Convert this dataframe to an interactive table.\"\n",
              "              style=\"display:none;\">\n",
              "        \n",
              "  <svg xmlns=\"http://www.w3.org/2000/svg\" height=\"24px\"viewBox=\"0 0 24 24\"\n",
              "       width=\"24px\">\n",
              "    <path d=\"M0 0h24v24H0V0z\" fill=\"none\"/>\n",
              "    <path d=\"M18.56 5.44l.94 2.06.94-2.06 2.06-.94-2.06-.94-.94-2.06-.94 2.06-2.06.94zm-11 1L8.5 8.5l.94-2.06 2.06-.94-2.06-.94L8.5 2.5l-.94 2.06-2.06.94zm10 10l.94 2.06.94-2.06 2.06-.94-2.06-.94-.94-2.06-.94 2.06-2.06.94z\"/><path d=\"M17.41 7.96l-1.37-1.37c-.4-.4-.92-.59-1.43-.59-.52 0-1.04.2-1.43.59L10.3 9.45l-7.72 7.72c-.78.78-.78 2.05 0 2.83L4 21.41c.39.39.9.59 1.41.59.51 0 1.02-.2 1.41-.59l7.78-7.78 2.81-2.81c.8-.78.8-2.07 0-2.86zM5.41 20L4 18.59l7.72-7.72 1.47 1.35L5.41 20z\"/>\n",
              "  </svg>\n",
              "      </button>\n",
              "      \n",
              "  <style>\n",
              "    .colab-df-container {\n",
              "      display:flex;\n",
              "      flex-wrap:wrap;\n",
              "      gap: 12px;\n",
              "    }\n",
              "\n",
              "    .colab-df-convert {\n",
              "      background-color: #E8F0FE;\n",
              "      border: none;\n",
              "      border-radius: 50%;\n",
              "      cursor: pointer;\n",
              "      display: none;\n",
              "      fill: #1967D2;\n",
              "      height: 32px;\n",
              "      padding: 0 0 0 0;\n",
              "      width: 32px;\n",
              "    }\n",
              "\n",
              "    .colab-df-convert:hover {\n",
              "      background-color: #E2EBFA;\n",
              "      box-shadow: 0px 1px 2px rgba(60, 64, 67, 0.3), 0px 1px 3px 1px rgba(60, 64, 67, 0.15);\n",
              "      fill: #174EA6;\n",
              "    }\n",
              "\n",
              "    [theme=dark] .colab-df-convert {\n",
              "      background-color: #3B4455;\n",
              "      fill: #D2E3FC;\n",
              "    }\n",
              "\n",
              "    [theme=dark] .colab-df-convert:hover {\n",
              "      background-color: #434B5C;\n",
              "      box-shadow: 0px 1px 3px 1px rgba(0, 0, 0, 0.15);\n",
              "      filter: drop-shadow(0px 1px 2px rgba(0, 0, 0, 0.3));\n",
              "      fill: #FFFFFF;\n",
              "    }\n",
              "  </style>\n",
              "\n",
              "      <script>\n",
              "        const buttonEl =\n",
              "          document.querySelector('#df-e9fe8e47-e346-4b62-bfcb-71ab62579909 button.colab-df-convert');\n",
              "        buttonEl.style.display =\n",
              "          google.colab.kernel.accessAllowed ? 'block' : 'none';\n",
              "\n",
              "        async function convertToInteractive(key) {\n",
              "          const element = document.querySelector('#df-e9fe8e47-e346-4b62-bfcb-71ab62579909');\n",
              "          const dataTable =\n",
              "            await google.colab.kernel.invokeFunction('convertToInteractive',\n",
              "                                                     [key], {});\n",
              "          if (!dataTable) return;\n",
              "\n",
              "          const docLinkHtml = 'Like what you see? Visit the ' +\n",
              "            '<a target=\"_blank\" href=https://colab.research.google.com/notebooks/data_table.ipynb>data table notebook</a>'\n",
              "            + ' to learn more about interactive tables.';\n",
              "          element.innerHTML = '';\n",
              "          dataTable['output_type'] = 'display_data';\n",
              "          await google.colab.output.renderOutput(dataTable, element);\n",
              "          const docLink = document.createElement('div');\n",
              "          docLink.innerHTML = docLinkHtml;\n",
              "          element.appendChild(docLink);\n",
              "        }\n",
              "      </script>\n",
              "    </div>\n",
              "  </div>\n",
              "  "
            ]
          },
          "metadata": {},
          "execution_count": 179
        }
      ]
    },
    {
      "cell_type": "markdown",
      "source": [
        "### 총 상관관계"
      ],
      "metadata": {
        "id": "RffWWa8SQpEo"
      }
    },
    {
      "cell_type": "code",
      "source": [
        "person_=pd.read_csv('/content/drive/MyDrive/cp1 1인가구/1인가구(연령별)_20230105232448.csv')"
      ],
      "metadata": {
        "id": "TK8lrlnrQr9A"
      },
      "execution_count": null,
      "outputs": []
    },
    {
      "cell_type": "code",
      "source": [
        "one=person_[person_['성별(1)']==\"계\"]\n",
        "one_=one[one['연령별(2)']=='소계']\n",
        "one_per=one_[['자치구별(2)','2021']][1:]\n",
        "one_per.rename(columns={'자치구별(2)':'자치구','2021':'인구수'},inplace=True)"
      ],
      "metadata": {
        "id": "N4jiCiFHQ_Mc"
      },
      "execution_count": null,
      "outputs": []
    },
    {
      "cell_type": "code",
      "source": [
        "df_ch = pd.merge(one_per,cri,how='inner')\n",
        "df_ch1 = pd.merge(df_ch,cctv,how='inner')\n",
        "df_ch2 = pd.merge(df_ch1,tra,how='inner')\n",
        "ch = df_ch2[['자치구','인구수','발생','CCTV 수량','상세영업상태명']]\n",
        "ch.rename(columns={'상세영업상태명':'유흥업소'},inplace=True)"
      ],
      "metadata": {
        "colab": {
          "base_uri": "https://localhost:8080/"
        },
        "id": "m9EwR6anT4Td",
        "outputId": "b0137f56-9d96-4ed4-e26b-6a82e8e7036e"
      },
      "execution_count": null,
      "outputs": [
        {
          "output_type": "stream",
          "name": "stderr",
          "text": [
            "/usr/local/lib/python3.8/dist-packages/pandas/core/frame.py:5039: SettingWithCopyWarning: \n",
            "A value is trying to be set on a copy of a slice from a DataFrame\n",
            "\n",
            "See the caveats in the documentation: https://pandas.pydata.org/pandas-docs/stable/user_guide/indexing.html#returning-a-view-versus-a-copy\n",
            "  return super().rename(\n"
          ]
        }
      ]
    },
    {
      "cell_type": "code",
      "source": [
        "ch.to_csv('서울시 1인 범죄.csv')"
      ],
      "metadata": {
        "id": "lTS8SOQPVJVP"
      },
      "execution_count": null,
      "outputs": []
    },
    {
      "cell_type": "code",
      "source": [
        "ch=pd.read_csv('/content/drive/MyDrive/cp1 1인가구/서울시 1인 범죄.csv')\n",
        "ch.drop('Unnamed: 0',axis=1,inplace=True)"
      ],
      "metadata": {
        "id": "dLvHf6y_VlQC"
      },
      "execution_count": null,
      "outputs": []
    },
    {
      "cell_type": "code",
      "source": [
        "ch.corr()"
      ],
      "metadata": {
        "colab": {
          "base_uri": "https://localhost:8080/",
          "height": 175
        },
        "id": "0QfCQsYwVrNG",
        "outputId": "c53d95e2-b8fc-4e68-c1aa-3147cbc9e408"
      },
      "execution_count": null,
      "outputs": [
        {
          "output_type": "execute_result",
          "data": {
            "text/plain": [
              "              인구수        발생   CCTV 수량      유흥업소\n",
              "인구수      1.000000  0.578308  0.480892  0.241924\n",
              "발생       0.578308  1.000000  0.647535  0.513614\n",
              "CCTV 수량  0.480892  0.647535  1.000000  0.187657\n",
              "유흥업소     0.241924  0.513614  0.187657  1.000000"
            ],
            "text/html": [
              "\n",
              "  <div id=\"df-24db5a4e-c78a-4f74-b6ae-2451b9c27ba5\">\n",
              "    <div class=\"colab-df-container\">\n",
              "      <div>\n",
              "<style scoped>\n",
              "    .dataframe tbody tr th:only-of-type {\n",
              "        vertical-align: middle;\n",
              "    }\n",
              "\n",
              "    .dataframe tbody tr th {\n",
              "        vertical-align: top;\n",
              "    }\n",
              "\n",
              "    .dataframe thead th {\n",
              "        text-align: right;\n",
              "    }\n",
              "</style>\n",
              "<table border=\"1\" class=\"dataframe\">\n",
              "  <thead>\n",
              "    <tr style=\"text-align: right;\">\n",
              "      <th></th>\n",
              "      <th>인구수</th>\n",
              "      <th>발생</th>\n",
              "      <th>CCTV 수량</th>\n",
              "      <th>유흥업소</th>\n",
              "    </tr>\n",
              "  </thead>\n",
              "  <tbody>\n",
              "    <tr>\n",
              "      <th>인구수</th>\n",
              "      <td>1.000000</td>\n",
              "      <td>0.578308</td>\n",
              "      <td>0.480892</td>\n",
              "      <td>0.241924</td>\n",
              "    </tr>\n",
              "    <tr>\n",
              "      <th>발생</th>\n",
              "      <td>0.578308</td>\n",
              "      <td>1.000000</td>\n",
              "      <td>0.647535</td>\n",
              "      <td>0.513614</td>\n",
              "    </tr>\n",
              "    <tr>\n",
              "      <th>CCTV 수량</th>\n",
              "      <td>0.480892</td>\n",
              "      <td>0.647535</td>\n",
              "      <td>1.000000</td>\n",
              "      <td>0.187657</td>\n",
              "    </tr>\n",
              "    <tr>\n",
              "      <th>유흥업소</th>\n",
              "      <td>0.241924</td>\n",
              "      <td>0.513614</td>\n",
              "      <td>0.187657</td>\n",
              "      <td>1.000000</td>\n",
              "    </tr>\n",
              "  </tbody>\n",
              "</table>\n",
              "</div>\n",
              "      <button class=\"colab-df-convert\" onclick=\"convertToInteractive('df-24db5a4e-c78a-4f74-b6ae-2451b9c27ba5')\"\n",
              "              title=\"Convert this dataframe to an interactive table.\"\n",
              "              style=\"display:none;\">\n",
              "        \n",
              "  <svg xmlns=\"http://www.w3.org/2000/svg\" height=\"24px\"viewBox=\"0 0 24 24\"\n",
              "       width=\"24px\">\n",
              "    <path d=\"M0 0h24v24H0V0z\" fill=\"none\"/>\n",
              "    <path d=\"M18.56 5.44l.94 2.06.94-2.06 2.06-.94-2.06-.94-.94-2.06-.94 2.06-2.06.94zm-11 1L8.5 8.5l.94-2.06 2.06-.94-2.06-.94L8.5 2.5l-.94 2.06-2.06.94zm10 10l.94 2.06.94-2.06 2.06-.94-2.06-.94-.94-2.06-.94 2.06-2.06.94z\"/><path d=\"M17.41 7.96l-1.37-1.37c-.4-.4-.92-.59-1.43-.59-.52 0-1.04.2-1.43.59L10.3 9.45l-7.72 7.72c-.78.78-.78 2.05 0 2.83L4 21.41c.39.39.9.59 1.41.59.51 0 1.02-.2 1.41-.59l7.78-7.78 2.81-2.81c.8-.78.8-2.07 0-2.86zM5.41 20L4 18.59l7.72-7.72 1.47 1.35L5.41 20z\"/>\n",
              "  </svg>\n",
              "      </button>\n",
              "      \n",
              "  <style>\n",
              "    .colab-df-container {\n",
              "      display:flex;\n",
              "      flex-wrap:wrap;\n",
              "      gap: 12px;\n",
              "    }\n",
              "\n",
              "    .colab-df-convert {\n",
              "      background-color: #E8F0FE;\n",
              "      border: none;\n",
              "      border-radius: 50%;\n",
              "      cursor: pointer;\n",
              "      display: none;\n",
              "      fill: #1967D2;\n",
              "      height: 32px;\n",
              "      padding: 0 0 0 0;\n",
              "      width: 32px;\n",
              "    }\n",
              "\n",
              "    .colab-df-convert:hover {\n",
              "      background-color: #E2EBFA;\n",
              "      box-shadow: 0px 1px 2px rgba(60, 64, 67, 0.3), 0px 1px 3px 1px rgba(60, 64, 67, 0.15);\n",
              "      fill: #174EA6;\n",
              "    }\n",
              "\n",
              "    [theme=dark] .colab-df-convert {\n",
              "      background-color: #3B4455;\n",
              "      fill: #D2E3FC;\n",
              "    }\n",
              "\n",
              "    [theme=dark] .colab-df-convert:hover {\n",
              "      background-color: #434B5C;\n",
              "      box-shadow: 0px 1px 3px 1px rgba(0, 0, 0, 0.15);\n",
              "      filter: drop-shadow(0px 1px 2px rgba(0, 0, 0, 0.3));\n",
              "      fill: #FFFFFF;\n",
              "    }\n",
              "  </style>\n",
              "\n",
              "      <script>\n",
              "        const buttonEl =\n",
              "          document.querySelector('#df-24db5a4e-c78a-4f74-b6ae-2451b9c27ba5 button.colab-df-convert');\n",
              "        buttonEl.style.display =\n",
              "          google.colab.kernel.accessAllowed ? 'block' : 'none';\n",
              "\n",
              "        async function convertToInteractive(key) {\n",
              "          const element = document.querySelector('#df-24db5a4e-c78a-4f74-b6ae-2451b9c27ba5');\n",
              "          const dataTable =\n",
              "            await google.colab.kernel.invokeFunction('convertToInteractive',\n",
              "                                                     [key], {});\n",
              "          if (!dataTable) return;\n",
              "\n",
              "          const docLinkHtml = 'Like what you see? Visit the ' +\n",
              "            '<a target=\"_blank\" href=https://colab.research.google.com/notebooks/data_table.ipynb>data table notebook</a>'\n",
              "            + ' to learn more about interactive tables.';\n",
              "          element.innerHTML = '';\n",
              "          dataTable['output_type'] = 'display_data';\n",
              "          await google.colab.output.renderOutput(dataTable, element);\n",
              "          const docLink = document.createElement('div');\n",
              "          docLink.innerHTML = docLinkHtml;\n",
              "          element.appendChild(docLink);\n",
              "        }\n",
              "      </script>\n",
              "    </div>\n",
              "  </div>\n",
              "  "
            ]
          },
          "metadata": {},
          "execution_count": 56
        }
      ]
    },
    {
      "cell_type": "markdown",
      "source": [
        "## 데이터 크롤링"
      ],
      "metadata": {
        "id": "gCjRzAZzB8YE"
      }
    },
    {
      "cell_type": "code",
      "source": [
        "!pip install geohash2"
      ],
      "metadata": {
        "colab": {
          "base_uri": "https://localhost:8080/"
        },
        "id": "POqIF6ttCT6e",
        "outputId": "9d5d7174-e800-44c6-cb28-afd63c44dd88"
      },
      "execution_count": null,
      "outputs": [
        {
          "output_type": "stream",
          "name": "stdout",
          "text": [
            "Looking in indexes: https://pypi.org/simple, https://us-python.pkg.dev/colab-wheels/public/simple/\n",
            "Collecting geohash2\n",
            "  Downloading geohash2-1.1.tar.gz (15 kB)\n",
            "  Preparing metadata (setup.py) ... \u001b[?25l\u001b[?25hdone\n",
            "Requirement already satisfied: docutils>=0.3 in /usr/local/lib/python3.8/dist-packages (from geohash2) (0.17.1)\n",
            "Building wheels for collected packages: geohash2\n",
            "  Building wheel for geohash2 (setup.py) ... \u001b[?25l\u001b[?25hdone\n",
            "  Created wheel for geohash2: filename=geohash2-1.1-py3-none-any.whl size=15562 sha256=923667523b92ec4e07ed042daf5883bb4ae62b4065b27a618452aea2ee6a2058\n",
            "  Stored in directory: /root/.cache/pip/wheels/2d/0c/66/dcd768c9e7c26fc81ec59bfe24af9d780fc9dbdf7f90b0cf00\n",
            "Successfully built geohash2\n",
            "Installing collected packages: geohash2\n",
            "Successfully installed geohash2-1.1\n"
          ]
        }
      ]
    },
    {
      "cell_type": "code",
      "source": [
        "import requests\n",
        "import pprint\n",
        "import geohash2\n",
        "# 실시간 데이터라서 할 때마다 값이 변경되니 조심!\n",
        "\n",
        "city=['종로구','중구', '용산구','성동구', '광진구', '동대문구','강서구', '양천구', \n",
        "      '영등포구', '구로구', '금천구','관악구', '동작구','중랑구', '성북구', \n",
        "      '강북구', '도봉구', '노원구','은평구', '서대문구', '마포구',\n",
        "      '강남구','강동구','서초구','송파구']\n",
        "\n",
        "# 강남구 / 종로구/ 중구/용산구/성동구/광진구\n",
        "# keyword = \"광진구\"\n",
        "add=[] #주소\n",
        "dep=[] #보증금\n",
        "ren=[] #월세\n",
        "size=[] #사이즈\n",
        "t_floor=[] #전체층 building_floor\n",
        "floor_h=[] #매물층 floor\n",
        "\n",
        "for city_ in city:\n",
        "\n",
        "\n",
        "\n",
        "  url = \"https://apis.zigbang.com/search?q={}\".format(city_)\n",
        "\n",
        "  req = requests.get(url)\n",
        "\n",
        "\n",
        "  _json = req.json()\n",
        "\n",
        "  # api 상태코드가 200인 경우가 오류없이 동작되었다는 의미입니다.\n",
        "  if _json.get(\"code\") == \"200\":\n",
        "      data = _json.get(\"items\")[0]\n",
        "      _description = data.get(\"description\")\n",
        "      _id = data.get(\"id\")\n",
        "      _lat = data.get(\"lat\")\n",
        "      _lng = data.get(\"lng\")\n",
        "      _zoom = data.get(\"zoom\")\n",
        "\n",
        "      geohash = geohash2.encode(_lat, _lng, precision=5)\n",
        "\n",
        "      \n",
        "      url = \"https://apis.zigbang.com/v2/items?deposit_gteq=0&domain=zigbang&geohash={}&rent_gteq=0&sales_type_in=월세&service_type_eq=원룸\".format(geohash)\n",
        "\n",
        "\n",
        "      _req_items = requests.get(url).json()\n",
        "\n",
        "      _items = _req_items.get(\"items\")\n",
        "\n",
        "      item_ids = []\n",
        "      for item in _items:\n",
        "          item_ids.append(item.get(\"item_id\"))\n",
        "\n",
        "      items = {\"item_ids\": item_ids[:1000]}\n",
        "\n",
        "      _results = requests.post('https://apis.zigbang.com/v2/items/list', data=items).json()\n",
        "\n",
        "      datas = _results.get(\"items\")\n",
        "\n",
        "      for d in datas:\n",
        "          _address = \"{} {}\".format(d.get(\"address1\"), d.get(\"address2\"))\n",
        "          if d.get(\"address3\") is not None:\n",
        "              _address += \" {}\".format(d.get(\"address3\"))\n",
        "          \n",
        "          address = d.get('_address')\n",
        "          building_floor = d.get(\"building_floor\")\n",
        "          floor = d.get(\"floor\")\n",
        "          thumbnail = d.get(\"images_thumbnail\")\n",
        "          item_id = d.get(\"item_id\")\n",
        "          reg_date = d.get(\"reg_date\")\n",
        "          sales_type = d.get(\"sales_type\")\n",
        "          service_type = d.get(\"service_type\")\n",
        "          size_m2 = d.get(\"size_m2\")\n",
        "          title = d.get(\"title\")\n",
        "          deposit = d.get(\"deposit\")\n",
        "          rent = d.get(\"rent\")\n",
        "\n",
        "          add.append(city_)\n",
        "          dep.append(deposit)\n",
        "          ren.append(rent)\n",
        "          size.append(size_m2)\n",
        "          t_floor.append(building_floor)\n",
        "          floor_h.append(floor)\n",
        "        "
      ],
      "metadata": {
        "id": "fbNwatA0idCy"
      },
      "execution_count": null,
      "outputs": []
    },
    {
      "cell_type": "code",
      "source": [
        "home=pd.DataFrame()\n",
        "home['자치구']=add\n",
        "home['보증금']=dep\n",
        "home['월세']=ren\n",
        "home['평수(m^2)']=size\n",
        "home['건물층'] = t_floor\n",
        "home['매물층'] = floor_h"
      ],
      "metadata": {
        "id": "FifsBZKNC7XG"
      },
      "execution_count": null,
      "outputs": []
    },
    {
      "cell_type": "code",
      "source": [
        "home.info()"
      ],
      "metadata": {
        "colab": {
          "base_uri": "https://localhost:8080/"
        },
        "id": "f9Qr9zwJ8FK5",
        "outputId": "03b0d88b-b0f6-47ff-c201-19ee927752fa"
      },
      "execution_count": null,
      "outputs": [
        {
          "output_type": "stream",
          "name": "stdout",
          "text": [
            "<class 'pandas.core.frame.DataFrame'>\n",
            "RangeIndex: 14347 entries, 0 to 14346\n",
            "Data columns (total 6 columns):\n",
            " #   Column   Non-Null Count  Dtype  \n",
            "---  ------   --------------  -----  \n",
            " 0   자치구      14347 non-null  object \n",
            " 1   보증금      14347 non-null  int64  \n",
            " 2   월세       14347 non-null  int64  \n",
            " 3   평수(m^2)  14347 non-null  float64\n",
            " 4   건물층      14347 non-null  object \n",
            " 5   매물층      14347 non-null  object \n",
            "dtypes: float64(1), int64(2), object(3)\n",
            "memory usage: 672.6+ KB\n"
          ]
        }
      ]
    },
    {
      "cell_type": "code",
      "source": [
        "home['건물층'].unique()"
      ],
      "metadata": {
        "colab": {
          "base_uri": "https://localhost:8080/"
        },
        "id": "RV5UXM0d8HmY",
        "outputId": "3c885bcc-0d80-4ca9-933e-ddd0062d00b7"
      },
      "execution_count": null,
      "outputs": [
        {
          "output_type": "execute_result",
          "data": {
            "text/plain": [
              "array(['2', '3', '18', '15', '9', '6', '5', '33', '4', '37', '14', '20',\n",
              "       '1', '19', '7', '11', '30', '17', '13', '26', '10', '16', '8',\n",
              "       '12', '21', '24', '25', '40', '22', '28', '29', '39', '23', '35',\n",
              "       '46'], dtype=object)"
            ]
          },
          "metadata": {},
          "execution_count": 115
        }
      ]
    },
    {
      "cell_type": "code",
      "source": [
        "#건물층 int변경 매물층 int변경\n",
        "home['건물층']=home['건물층'].astype(int)"
      ],
      "metadata": {
        "id": "z7J5Q3FQ5-kA"
      },
      "execution_count": null,
      "outputs": []
    },
    {
      "cell_type": "code",
      "source": [
        "home['매물층'].unique()"
      ],
      "metadata": {
        "colab": {
          "base_uri": "https://localhost:8080/"
        },
        "id": "7D1enirJDdyX",
        "outputId": "a5b01d3e-d321-474d-c7ed-880db8f7439d"
      },
      "execution_count": null,
      "outputs": [
        {
          "output_type": "execute_result",
          "data": {
            "text/plain": [
              "array(['2', '반지하', '1', '저', '고', '중', '3', '5', '옥탑방', '4', '7', '6',\n",
              "       '18', '9', '10', '8', '11', '12', '13', '17', '14', '15', '-'],\n",
              "      dtype=object)"
            ]
          },
          "metadata": {},
          "execution_count": 117
        }
      ]
    },
    {
      "cell_type": "code",
      "source": [
        "# #drop - \n",
        "home[home['매물층']=='-']"
      ],
      "metadata": {
        "colab": {
          "base_uri": "https://localhost:8080/",
          "height": 81
        },
        "id": "YhcDBTZN7nKF",
        "outputId": "0220fdc0-4594-4c21-a9de-2cfdd067458f"
      },
      "execution_count": null,
      "outputs": [
        {
          "output_type": "execute_result",
          "data": {
            "text/plain": [
              "       자치구   보증금   월세  평수(m^2)  건물층 매물층\n",
              "12603  마포구  5000  105    44.04   14   -"
            ],
            "text/html": [
              "\n",
              "  <div id=\"df-3fdeae67-d570-4c05-a280-5508c053d4e2\">\n",
              "    <div class=\"colab-df-container\">\n",
              "      <div>\n",
              "<style scoped>\n",
              "    .dataframe tbody tr th:only-of-type {\n",
              "        vertical-align: middle;\n",
              "    }\n",
              "\n",
              "    .dataframe tbody tr th {\n",
              "        vertical-align: top;\n",
              "    }\n",
              "\n",
              "    .dataframe thead th {\n",
              "        text-align: right;\n",
              "    }\n",
              "</style>\n",
              "<table border=\"1\" class=\"dataframe\">\n",
              "  <thead>\n",
              "    <tr style=\"text-align: right;\">\n",
              "      <th></th>\n",
              "      <th>자치구</th>\n",
              "      <th>보증금</th>\n",
              "      <th>월세</th>\n",
              "      <th>평수(m^2)</th>\n",
              "      <th>건물층</th>\n",
              "      <th>매물층</th>\n",
              "    </tr>\n",
              "  </thead>\n",
              "  <tbody>\n",
              "    <tr>\n",
              "      <th>12603</th>\n",
              "      <td>마포구</td>\n",
              "      <td>5000</td>\n",
              "      <td>105</td>\n",
              "      <td>44.04</td>\n",
              "      <td>14</td>\n",
              "      <td>-</td>\n",
              "    </tr>\n",
              "  </tbody>\n",
              "</table>\n",
              "</div>\n",
              "      <button class=\"colab-df-convert\" onclick=\"convertToInteractive('df-3fdeae67-d570-4c05-a280-5508c053d4e2')\"\n",
              "              title=\"Convert this dataframe to an interactive table.\"\n",
              "              style=\"display:none;\">\n",
              "        \n",
              "  <svg xmlns=\"http://www.w3.org/2000/svg\" height=\"24px\"viewBox=\"0 0 24 24\"\n",
              "       width=\"24px\">\n",
              "    <path d=\"M0 0h24v24H0V0z\" fill=\"none\"/>\n",
              "    <path d=\"M18.56 5.44l.94 2.06.94-2.06 2.06-.94-2.06-.94-.94-2.06-.94 2.06-2.06.94zm-11 1L8.5 8.5l.94-2.06 2.06-.94-2.06-.94L8.5 2.5l-.94 2.06-2.06.94zm10 10l.94 2.06.94-2.06 2.06-.94-2.06-.94-.94-2.06-.94 2.06-2.06.94z\"/><path d=\"M17.41 7.96l-1.37-1.37c-.4-.4-.92-.59-1.43-.59-.52 0-1.04.2-1.43.59L10.3 9.45l-7.72 7.72c-.78.78-.78 2.05 0 2.83L4 21.41c.39.39.9.59 1.41.59.51 0 1.02-.2 1.41-.59l7.78-7.78 2.81-2.81c.8-.78.8-2.07 0-2.86zM5.41 20L4 18.59l7.72-7.72 1.47 1.35L5.41 20z\"/>\n",
              "  </svg>\n",
              "      </button>\n",
              "      \n",
              "  <style>\n",
              "    .colab-df-container {\n",
              "      display:flex;\n",
              "      flex-wrap:wrap;\n",
              "      gap: 12px;\n",
              "    }\n",
              "\n",
              "    .colab-df-convert {\n",
              "      background-color: #E8F0FE;\n",
              "      border: none;\n",
              "      border-radius: 50%;\n",
              "      cursor: pointer;\n",
              "      display: none;\n",
              "      fill: #1967D2;\n",
              "      height: 32px;\n",
              "      padding: 0 0 0 0;\n",
              "      width: 32px;\n",
              "    }\n",
              "\n",
              "    .colab-df-convert:hover {\n",
              "      background-color: #E2EBFA;\n",
              "      box-shadow: 0px 1px 2px rgba(60, 64, 67, 0.3), 0px 1px 3px 1px rgba(60, 64, 67, 0.15);\n",
              "      fill: #174EA6;\n",
              "    }\n",
              "\n",
              "    [theme=dark] .colab-df-convert {\n",
              "      background-color: #3B4455;\n",
              "      fill: #D2E3FC;\n",
              "    }\n",
              "\n",
              "    [theme=dark] .colab-df-convert:hover {\n",
              "      background-color: #434B5C;\n",
              "      box-shadow: 0px 1px 3px 1px rgba(0, 0, 0, 0.15);\n",
              "      filter: drop-shadow(0px 1px 2px rgba(0, 0, 0, 0.3));\n",
              "      fill: #FFFFFF;\n",
              "    }\n",
              "  </style>\n",
              "\n",
              "      <script>\n",
              "        const buttonEl =\n",
              "          document.querySelector('#df-3fdeae67-d570-4c05-a280-5508c053d4e2 button.colab-df-convert');\n",
              "        buttonEl.style.display =\n",
              "          google.colab.kernel.accessAllowed ? 'block' : 'none';\n",
              "\n",
              "        async function convertToInteractive(key) {\n",
              "          const element = document.querySelector('#df-3fdeae67-d570-4c05-a280-5508c053d4e2');\n",
              "          const dataTable =\n",
              "            await google.colab.kernel.invokeFunction('convertToInteractive',\n",
              "                                                     [key], {});\n",
              "          if (!dataTable) return;\n",
              "\n",
              "          const docLinkHtml = 'Like what you see? Visit the ' +\n",
              "            '<a target=\"_blank\" href=https://colab.research.google.com/notebooks/data_table.ipynb>data table notebook</a>'\n",
              "            + ' to learn more about interactive tables.';\n",
              "          element.innerHTML = '';\n",
              "          dataTable['output_type'] = 'display_data';\n",
              "          await google.colab.output.renderOutput(dataTable, element);\n",
              "          const docLink = document.createElement('div');\n",
              "          docLink.innerHTML = docLinkHtml;\n",
              "          element.appendChild(docLink);\n",
              "        }\n",
              "      </script>\n",
              "    </div>\n",
              "  </div>\n",
              "  "
            ]
          },
          "metadata": {},
          "execution_count": 118
        }
      ]
    },
    {
      "cell_type": "code",
      "source": [
        "home.drop([12603],inplace=True)\n",
        "home['매물층'].unique()"
      ],
      "metadata": {
        "colab": {
          "base_uri": "https://localhost:8080/"
        },
        "id": "koOhUk6y7409",
        "outputId": "b487bd0b-ff03-43cc-a3e1-969db295cb7a"
      },
      "execution_count": null,
      "outputs": [
        {
          "output_type": "execute_result",
          "data": {
            "text/plain": [
              "array(['2', '반지하', '1', '저', '고', '중', '3', '5', '옥탑방', '4', '7', '6',\n",
              "       '18', '9', '10', '8', '11', '12', '13', '17', '14', '15'],\n",
              "      dtype=object)"
            ]
          },
          "metadata": {},
          "execution_count": 119
        }
      ]
    },
    {
      "cell_type": "code",
      "source": [
        "home.reset_index(inplace=True, drop=True)"
      ],
      "metadata": {
        "id": "OdtBt9Ks_QT-"
      },
      "execution_count": null,
      "outputs": []
    },
    {
      "cell_type": "markdown",
      "source": [
        "- 건물층과 매물층을 이용해 반지하, 저, 고, 중, 옥탑방으로 분류"
      ],
      "metadata": {
        "id": "QTy78UcZbnOa"
      }
    },
    {
      "cell_type": "code",
      "source": [
        "a = ['반지하','저','고','중','옥탑방']\n",
        "total_floor=[]\n",
        "for i in range(len(home)):\n",
        "    if home['매물층'][i] in a:\n",
        "      total_floor.append(home['매물층'][i])\n",
        "    \n",
        "    elif int(home['매물층'][i])/int(home['건물층'][i])<=0.4:\n",
        "      total_floor.append('저')\n",
        "        \n",
        "    elif  int(home['매물층'][i])/int(home['건물층'][i])>=2/3:\n",
        "      total_floor.append('고')\n",
        "        \n",
        "    else:\n",
        "      total_floor.append('중')"
      ],
      "metadata": {
        "id": "F6Di78gBHXkV"
      },
      "execution_count": null,
      "outputs": []
    },
    {
      "cell_type": "code",
      "source": [
        "home['분류']=total_floor"
      ],
      "metadata": {
        "id": "dqWlRKR5Hx3G"
      },
      "execution_count": null,
      "outputs": []
    },
    {
      "cell_type": "code",
      "source": [
        "# home.to_csv('자치구별 월세 및 평수.csv')"
      ],
      "metadata": {
        "id": "rSjwbd8EDzDn"
      },
      "execution_count": null,
      "outputs": []
    },
    {
      "cell_type": "code",
      "source": [
        "home_=pd.read_csv('/content/drive/MyDrive/cp1 1인가구/자치구별 월세 및 평수.csv')"
      ],
      "metadata": {
        "id": "pctefYNtD9jc"
      },
      "execution_count": null,
      "outputs": []
    },
    {
      "cell_type": "code",
      "source": [
        "home_.columns"
      ],
      "metadata": {
        "colab": {
          "base_uri": "https://localhost:8080/"
        },
        "id": "Y7m6OJZx1GX_",
        "outputId": "1eafe724-a00a-4e90-a99b-dac9954fb6dd"
      },
      "execution_count": null,
      "outputs": [
        {
          "output_type": "execute_result",
          "data": {
            "text/plain": [
              "Index(['Unnamed: 0', '자치구', '보증금', '월세', '평수(m^2)', '건물층', '매물층', '분류'], dtype='object')"
            ]
          },
          "metadata": {},
          "execution_count": 50
        }
      ]
    },
    {
      "cell_type": "code",
      "source": [
        "home_.drop(['Unnamed: 0'],axis=1,inplace=True)\n",
        "home_"
      ],
      "metadata": {
        "colab": {
          "base_uri": "https://localhost:8080/",
          "height": 424
        },
        "id": "ePY-mvYnKlVw",
        "outputId": "61ba909e-cfcd-40e2-8aae-dfeacd6b7ed7"
      },
      "execution_count": null,
      "outputs": [
        {
          "output_type": "execute_result",
          "data": {
            "text/plain": [
              "       자치구    보증금  월세  평수(m^2)  건물층  매물층   분류  평수(평)\n",
              "0      종로구   1000  60    39.67    2    2    고   12.0\n",
              "1      종로구    500  35    30.28    2  반지하  반지하    9.0\n",
              "2      종로구    500  40    19.83    3    2    고    6.0\n",
              "3      종로구    500  40    23.50    3    1    저    7.0\n",
              "4      종로구    500  38    29.75    2  반지하  반지하    9.0\n",
              "...    ...    ...  ..      ...  ...  ...  ...    ...\n",
              "14341  송파구  15000  50    37.43    5    2    저   11.0\n",
              "14342  송파구   5000  70    62.81    4    3    고   19.0\n",
              "14343  송파구   4000  37    26.45    5    4    고    8.0\n",
              "14344  송파구    500  30    23.14    3  반지하  반지하    7.0\n",
              "14345  송파구    120  40    13.22    5    2    저    4.0\n",
              "\n",
              "[14346 rows x 8 columns]"
            ],
            "text/html": [
              "\n",
              "  <div id=\"df-bd78e330-3b2e-4645-94c3-000b8f8007be\">\n",
              "    <div class=\"colab-df-container\">\n",
              "      <div>\n",
              "<style scoped>\n",
              "    .dataframe tbody tr th:only-of-type {\n",
              "        vertical-align: middle;\n",
              "    }\n",
              "\n",
              "    .dataframe tbody tr th {\n",
              "        vertical-align: top;\n",
              "    }\n",
              "\n",
              "    .dataframe thead th {\n",
              "        text-align: right;\n",
              "    }\n",
              "</style>\n",
              "<table border=\"1\" class=\"dataframe\">\n",
              "  <thead>\n",
              "    <tr style=\"text-align: right;\">\n",
              "      <th></th>\n",
              "      <th>자치구</th>\n",
              "      <th>보증금</th>\n",
              "      <th>월세</th>\n",
              "      <th>평수(m^2)</th>\n",
              "      <th>건물층</th>\n",
              "      <th>매물층</th>\n",
              "      <th>분류</th>\n",
              "      <th>평수(평)</th>\n",
              "    </tr>\n",
              "  </thead>\n",
              "  <tbody>\n",
              "    <tr>\n",
              "      <th>0</th>\n",
              "      <td>종로구</td>\n",
              "      <td>1000</td>\n",
              "      <td>60</td>\n",
              "      <td>39.67</td>\n",
              "      <td>2</td>\n",
              "      <td>2</td>\n",
              "      <td>고</td>\n",
              "      <td>12.0</td>\n",
              "    </tr>\n",
              "    <tr>\n",
              "      <th>1</th>\n",
              "      <td>종로구</td>\n",
              "      <td>500</td>\n",
              "      <td>35</td>\n",
              "      <td>30.28</td>\n",
              "      <td>2</td>\n",
              "      <td>반지하</td>\n",
              "      <td>반지하</td>\n",
              "      <td>9.0</td>\n",
              "    </tr>\n",
              "    <tr>\n",
              "      <th>2</th>\n",
              "      <td>종로구</td>\n",
              "      <td>500</td>\n",
              "      <td>40</td>\n",
              "      <td>19.83</td>\n",
              "      <td>3</td>\n",
              "      <td>2</td>\n",
              "      <td>고</td>\n",
              "      <td>6.0</td>\n",
              "    </tr>\n",
              "    <tr>\n",
              "      <th>3</th>\n",
              "      <td>종로구</td>\n",
              "      <td>500</td>\n",
              "      <td>40</td>\n",
              "      <td>23.50</td>\n",
              "      <td>3</td>\n",
              "      <td>1</td>\n",
              "      <td>저</td>\n",
              "      <td>7.0</td>\n",
              "    </tr>\n",
              "    <tr>\n",
              "      <th>4</th>\n",
              "      <td>종로구</td>\n",
              "      <td>500</td>\n",
              "      <td>38</td>\n",
              "      <td>29.75</td>\n",
              "      <td>2</td>\n",
              "      <td>반지하</td>\n",
              "      <td>반지하</td>\n",
              "      <td>9.0</td>\n",
              "    </tr>\n",
              "    <tr>\n",
              "      <th>...</th>\n",
              "      <td>...</td>\n",
              "      <td>...</td>\n",
              "      <td>...</td>\n",
              "      <td>...</td>\n",
              "      <td>...</td>\n",
              "      <td>...</td>\n",
              "      <td>...</td>\n",
              "      <td>...</td>\n",
              "    </tr>\n",
              "    <tr>\n",
              "      <th>14341</th>\n",
              "      <td>송파구</td>\n",
              "      <td>15000</td>\n",
              "      <td>50</td>\n",
              "      <td>37.43</td>\n",
              "      <td>5</td>\n",
              "      <td>2</td>\n",
              "      <td>저</td>\n",
              "      <td>11.0</td>\n",
              "    </tr>\n",
              "    <tr>\n",
              "      <th>14342</th>\n",
              "      <td>송파구</td>\n",
              "      <td>5000</td>\n",
              "      <td>70</td>\n",
              "      <td>62.81</td>\n",
              "      <td>4</td>\n",
              "      <td>3</td>\n",
              "      <td>고</td>\n",
              "      <td>19.0</td>\n",
              "    </tr>\n",
              "    <tr>\n",
              "      <th>14343</th>\n",
              "      <td>송파구</td>\n",
              "      <td>4000</td>\n",
              "      <td>37</td>\n",
              "      <td>26.45</td>\n",
              "      <td>5</td>\n",
              "      <td>4</td>\n",
              "      <td>고</td>\n",
              "      <td>8.0</td>\n",
              "    </tr>\n",
              "    <tr>\n",
              "      <th>14344</th>\n",
              "      <td>송파구</td>\n",
              "      <td>500</td>\n",
              "      <td>30</td>\n",
              "      <td>23.14</td>\n",
              "      <td>3</td>\n",
              "      <td>반지하</td>\n",
              "      <td>반지하</td>\n",
              "      <td>7.0</td>\n",
              "    </tr>\n",
              "    <tr>\n",
              "      <th>14345</th>\n",
              "      <td>송파구</td>\n",
              "      <td>120</td>\n",
              "      <td>40</td>\n",
              "      <td>13.22</td>\n",
              "      <td>5</td>\n",
              "      <td>2</td>\n",
              "      <td>저</td>\n",
              "      <td>4.0</td>\n",
              "    </tr>\n",
              "  </tbody>\n",
              "</table>\n",
              "<p>14346 rows × 8 columns</p>\n",
              "</div>\n",
              "      <button class=\"colab-df-convert\" onclick=\"convertToInteractive('df-bd78e330-3b2e-4645-94c3-000b8f8007be')\"\n",
              "              title=\"Convert this dataframe to an interactive table.\"\n",
              "              style=\"display:none;\">\n",
              "        \n",
              "  <svg xmlns=\"http://www.w3.org/2000/svg\" height=\"24px\"viewBox=\"0 0 24 24\"\n",
              "       width=\"24px\">\n",
              "    <path d=\"M0 0h24v24H0V0z\" fill=\"none\"/>\n",
              "    <path d=\"M18.56 5.44l.94 2.06.94-2.06 2.06-.94-2.06-.94-.94-2.06-.94 2.06-2.06.94zm-11 1L8.5 8.5l.94-2.06 2.06-.94-2.06-.94L8.5 2.5l-.94 2.06-2.06.94zm10 10l.94 2.06.94-2.06 2.06-.94-2.06-.94-.94-2.06-.94 2.06-2.06.94z\"/><path d=\"M17.41 7.96l-1.37-1.37c-.4-.4-.92-.59-1.43-.59-.52 0-1.04.2-1.43.59L10.3 9.45l-7.72 7.72c-.78.78-.78 2.05 0 2.83L4 21.41c.39.39.9.59 1.41.59.51 0 1.02-.2 1.41-.59l7.78-7.78 2.81-2.81c.8-.78.8-2.07 0-2.86zM5.41 20L4 18.59l7.72-7.72 1.47 1.35L5.41 20z\"/>\n",
              "  </svg>\n",
              "      </button>\n",
              "      \n",
              "  <style>\n",
              "    .colab-df-container {\n",
              "      display:flex;\n",
              "      flex-wrap:wrap;\n",
              "      gap: 12px;\n",
              "    }\n",
              "\n",
              "    .colab-df-convert {\n",
              "      background-color: #E8F0FE;\n",
              "      border: none;\n",
              "      border-radius: 50%;\n",
              "      cursor: pointer;\n",
              "      display: none;\n",
              "      fill: #1967D2;\n",
              "      height: 32px;\n",
              "      padding: 0 0 0 0;\n",
              "      width: 32px;\n",
              "    }\n",
              "\n",
              "    .colab-df-convert:hover {\n",
              "      background-color: #E2EBFA;\n",
              "      box-shadow: 0px 1px 2px rgba(60, 64, 67, 0.3), 0px 1px 3px 1px rgba(60, 64, 67, 0.15);\n",
              "      fill: #174EA6;\n",
              "    }\n",
              "\n",
              "    [theme=dark] .colab-df-convert {\n",
              "      background-color: #3B4455;\n",
              "      fill: #D2E3FC;\n",
              "    }\n",
              "\n",
              "    [theme=dark] .colab-df-convert:hover {\n",
              "      background-color: #434B5C;\n",
              "      box-shadow: 0px 1px 3px 1px rgba(0, 0, 0, 0.15);\n",
              "      filter: drop-shadow(0px 1px 2px rgba(0, 0, 0, 0.3));\n",
              "      fill: #FFFFFF;\n",
              "    }\n",
              "  </style>\n",
              "\n",
              "      <script>\n",
              "        const buttonEl =\n",
              "          document.querySelector('#df-bd78e330-3b2e-4645-94c3-000b8f8007be button.colab-df-convert');\n",
              "        buttonEl.style.display =\n",
              "          google.colab.kernel.accessAllowed ? 'block' : 'none';\n",
              "\n",
              "        async function convertToInteractive(key) {\n",
              "          const element = document.querySelector('#df-bd78e330-3b2e-4645-94c3-000b8f8007be');\n",
              "          const dataTable =\n",
              "            await google.colab.kernel.invokeFunction('convertToInteractive',\n",
              "                                                     [key], {});\n",
              "          if (!dataTable) return;\n",
              "\n",
              "          const docLinkHtml = 'Like what you see? Visit the ' +\n",
              "            '<a target=\"_blank\" href=https://colab.research.google.com/notebooks/data_table.ipynb>data table notebook</a>'\n",
              "            + ' to learn more about interactive tables.';\n",
              "          element.innerHTML = '';\n",
              "          dataTable['output_type'] = 'display_data';\n",
              "          await google.colab.output.renderOutput(dataTable, element);\n",
              "          const docLink = document.createElement('div');\n",
              "          docLink.innerHTML = docLinkHtml;\n",
              "          element.appendChild(docLink);\n",
              "        }\n",
              "      </script>\n",
              "    </div>\n",
              "  </div>\n",
              "  "
            ]
          },
          "metadata": {},
          "execution_count": 53
        }
      ]
    },
    {
      "cell_type": "markdown",
      "source": [
        "- 평수(m^2)을 3.3058로 나눠 대부분이 아는 평수(평)로 만들어줬다."
      ],
      "metadata": {
        "id": "VliJDc49b2Hy"
      }
    },
    {
      "cell_type": "code",
      "source": [
        "#평수 구해주기\n",
        "home_['평수(평)']=round(home_['평수(m^2)']/3.3058,0)"
      ],
      "metadata": {
        "id": "sfHSwUTeKvAY"
      },
      "execution_count": null,
      "outputs": []
    },
    {
      "cell_type": "code",
      "source": [
        "home_['평수(평)']=home_['평수(평)'].astype('int')\n",
        "home_"
      ],
      "metadata": {
        "colab": {
          "base_uri": "https://localhost:8080/",
          "height": 424
        },
        "id": "WPCfGrpDLOec",
        "outputId": "57340d82-2649-4324-f4d8-b0037462e066"
      },
      "execution_count": null,
      "outputs": [
        {
          "output_type": "execute_result",
          "data": {
            "text/plain": [
              "       자치구    보증금  월세  평수(m^2)  건물층  매물층   분류  평수(평)\n",
              "0      종로구   1000  60    39.67    2    2    고     12\n",
              "1      종로구    500  35    30.28    2  반지하  반지하      9\n",
              "2      종로구    500  40    19.83    3    2    고      6\n",
              "3      종로구    500  40    23.50    3    1    저      7\n",
              "4      종로구    500  38    29.75    2  반지하  반지하      9\n",
              "...    ...    ...  ..      ...  ...  ...  ...    ...\n",
              "14341  송파구  15000  50    37.43    5    2    저     11\n",
              "14342  송파구   5000  70    62.81    4    3    고     19\n",
              "14343  송파구   4000  37    26.45    5    4    고      8\n",
              "14344  송파구    500  30    23.14    3  반지하  반지하      7\n",
              "14345  송파구    120  40    13.22    5    2    저      4\n",
              "\n",
              "[14346 rows x 8 columns]"
            ],
            "text/html": [
              "\n",
              "  <div id=\"df-aa42a6bd-ac63-4f6b-a2ed-d87e3ee40816\">\n",
              "    <div class=\"colab-df-container\">\n",
              "      <div>\n",
              "<style scoped>\n",
              "    .dataframe tbody tr th:only-of-type {\n",
              "        vertical-align: middle;\n",
              "    }\n",
              "\n",
              "    .dataframe tbody tr th {\n",
              "        vertical-align: top;\n",
              "    }\n",
              "\n",
              "    .dataframe thead th {\n",
              "        text-align: right;\n",
              "    }\n",
              "</style>\n",
              "<table border=\"1\" class=\"dataframe\">\n",
              "  <thead>\n",
              "    <tr style=\"text-align: right;\">\n",
              "      <th></th>\n",
              "      <th>자치구</th>\n",
              "      <th>보증금</th>\n",
              "      <th>월세</th>\n",
              "      <th>평수(m^2)</th>\n",
              "      <th>건물층</th>\n",
              "      <th>매물층</th>\n",
              "      <th>분류</th>\n",
              "      <th>평수(평)</th>\n",
              "    </tr>\n",
              "  </thead>\n",
              "  <tbody>\n",
              "    <tr>\n",
              "      <th>0</th>\n",
              "      <td>종로구</td>\n",
              "      <td>1000</td>\n",
              "      <td>60</td>\n",
              "      <td>39.67</td>\n",
              "      <td>2</td>\n",
              "      <td>2</td>\n",
              "      <td>고</td>\n",
              "      <td>12</td>\n",
              "    </tr>\n",
              "    <tr>\n",
              "      <th>1</th>\n",
              "      <td>종로구</td>\n",
              "      <td>500</td>\n",
              "      <td>35</td>\n",
              "      <td>30.28</td>\n",
              "      <td>2</td>\n",
              "      <td>반지하</td>\n",
              "      <td>반지하</td>\n",
              "      <td>9</td>\n",
              "    </tr>\n",
              "    <tr>\n",
              "      <th>2</th>\n",
              "      <td>종로구</td>\n",
              "      <td>500</td>\n",
              "      <td>40</td>\n",
              "      <td>19.83</td>\n",
              "      <td>3</td>\n",
              "      <td>2</td>\n",
              "      <td>고</td>\n",
              "      <td>6</td>\n",
              "    </tr>\n",
              "    <tr>\n",
              "      <th>3</th>\n",
              "      <td>종로구</td>\n",
              "      <td>500</td>\n",
              "      <td>40</td>\n",
              "      <td>23.50</td>\n",
              "      <td>3</td>\n",
              "      <td>1</td>\n",
              "      <td>저</td>\n",
              "      <td>7</td>\n",
              "    </tr>\n",
              "    <tr>\n",
              "      <th>4</th>\n",
              "      <td>종로구</td>\n",
              "      <td>500</td>\n",
              "      <td>38</td>\n",
              "      <td>29.75</td>\n",
              "      <td>2</td>\n",
              "      <td>반지하</td>\n",
              "      <td>반지하</td>\n",
              "      <td>9</td>\n",
              "    </tr>\n",
              "    <tr>\n",
              "      <th>...</th>\n",
              "      <td>...</td>\n",
              "      <td>...</td>\n",
              "      <td>...</td>\n",
              "      <td>...</td>\n",
              "      <td>...</td>\n",
              "      <td>...</td>\n",
              "      <td>...</td>\n",
              "      <td>...</td>\n",
              "    </tr>\n",
              "    <tr>\n",
              "      <th>14341</th>\n",
              "      <td>송파구</td>\n",
              "      <td>15000</td>\n",
              "      <td>50</td>\n",
              "      <td>37.43</td>\n",
              "      <td>5</td>\n",
              "      <td>2</td>\n",
              "      <td>저</td>\n",
              "      <td>11</td>\n",
              "    </tr>\n",
              "    <tr>\n",
              "      <th>14342</th>\n",
              "      <td>송파구</td>\n",
              "      <td>5000</td>\n",
              "      <td>70</td>\n",
              "      <td>62.81</td>\n",
              "      <td>4</td>\n",
              "      <td>3</td>\n",
              "      <td>고</td>\n",
              "      <td>19</td>\n",
              "    </tr>\n",
              "    <tr>\n",
              "      <th>14343</th>\n",
              "      <td>송파구</td>\n",
              "      <td>4000</td>\n",
              "      <td>37</td>\n",
              "      <td>26.45</td>\n",
              "      <td>5</td>\n",
              "      <td>4</td>\n",
              "      <td>고</td>\n",
              "      <td>8</td>\n",
              "    </tr>\n",
              "    <tr>\n",
              "      <th>14344</th>\n",
              "      <td>송파구</td>\n",
              "      <td>500</td>\n",
              "      <td>30</td>\n",
              "      <td>23.14</td>\n",
              "      <td>3</td>\n",
              "      <td>반지하</td>\n",
              "      <td>반지하</td>\n",
              "      <td>7</td>\n",
              "    </tr>\n",
              "    <tr>\n",
              "      <th>14345</th>\n",
              "      <td>송파구</td>\n",
              "      <td>120</td>\n",
              "      <td>40</td>\n",
              "      <td>13.22</td>\n",
              "      <td>5</td>\n",
              "      <td>2</td>\n",
              "      <td>저</td>\n",
              "      <td>4</td>\n",
              "    </tr>\n",
              "  </tbody>\n",
              "</table>\n",
              "<p>14346 rows × 8 columns</p>\n",
              "</div>\n",
              "      <button class=\"colab-df-convert\" onclick=\"convertToInteractive('df-aa42a6bd-ac63-4f6b-a2ed-d87e3ee40816')\"\n",
              "              title=\"Convert this dataframe to an interactive table.\"\n",
              "              style=\"display:none;\">\n",
              "        \n",
              "  <svg xmlns=\"http://www.w3.org/2000/svg\" height=\"24px\"viewBox=\"0 0 24 24\"\n",
              "       width=\"24px\">\n",
              "    <path d=\"M0 0h24v24H0V0z\" fill=\"none\"/>\n",
              "    <path d=\"M18.56 5.44l.94 2.06.94-2.06 2.06-.94-2.06-.94-.94-2.06-.94 2.06-2.06.94zm-11 1L8.5 8.5l.94-2.06 2.06-.94-2.06-.94L8.5 2.5l-.94 2.06-2.06.94zm10 10l.94 2.06.94-2.06 2.06-.94-2.06-.94-.94-2.06-.94 2.06-2.06.94z\"/><path d=\"M17.41 7.96l-1.37-1.37c-.4-.4-.92-.59-1.43-.59-.52 0-1.04.2-1.43.59L10.3 9.45l-7.72 7.72c-.78.78-.78 2.05 0 2.83L4 21.41c.39.39.9.59 1.41.59.51 0 1.02-.2 1.41-.59l7.78-7.78 2.81-2.81c.8-.78.8-2.07 0-2.86zM5.41 20L4 18.59l7.72-7.72 1.47 1.35L5.41 20z\"/>\n",
              "  </svg>\n",
              "      </button>\n",
              "      \n",
              "  <style>\n",
              "    .colab-df-container {\n",
              "      display:flex;\n",
              "      flex-wrap:wrap;\n",
              "      gap: 12px;\n",
              "    }\n",
              "\n",
              "    .colab-df-convert {\n",
              "      background-color: #E8F0FE;\n",
              "      border: none;\n",
              "      border-radius: 50%;\n",
              "      cursor: pointer;\n",
              "      display: none;\n",
              "      fill: #1967D2;\n",
              "      height: 32px;\n",
              "      padding: 0 0 0 0;\n",
              "      width: 32px;\n",
              "    }\n",
              "\n",
              "    .colab-df-convert:hover {\n",
              "      background-color: #E2EBFA;\n",
              "      box-shadow: 0px 1px 2px rgba(60, 64, 67, 0.3), 0px 1px 3px 1px rgba(60, 64, 67, 0.15);\n",
              "      fill: #174EA6;\n",
              "    }\n",
              "\n",
              "    [theme=dark] .colab-df-convert {\n",
              "      background-color: #3B4455;\n",
              "      fill: #D2E3FC;\n",
              "    }\n",
              "\n",
              "    [theme=dark] .colab-df-convert:hover {\n",
              "      background-color: #434B5C;\n",
              "      box-shadow: 0px 1px 3px 1px rgba(0, 0, 0, 0.15);\n",
              "      filter: drop-shadow(0px 1px 2px rgba(0, 0, 0, 0.3));\n",
              "      fill: #FFFFFF;\n",
              "    }\n",
              "  </style>\n",
              "\n",
              "      <script>\n",
              "        const buttonEl =\n",
              "          document.querySelector('#df-aa42a6bd-ac63-4f6b-a2ed-d87e3ee40816 button.colab-df-convert');\n",
              "        buttonEl.style.display =\n",
              "          google.colab.kernel.accessAllowed ? 'block' : 'none';\n",
              "\n",
              "        async function convertToInteractive(key) {\n",
              "          const element = document.querySelector('#df-aa42a6bd-ac63-4f6b-a2ed-d87e3ee40816');\n",
              "          const dataTable =\n",
              "            await google.colab.kernel.invokeFunction('convertToInteractive',\n",
              "                                                     [key], {});\n",
              "          if (!dataTable) return;\n",
              "\n",
              "          const docLinkHtml = 'Like what you see? Visit the ' +\n",
              "            '<a target=\"_blank\" href=https://colab.research.google.com/notebooks/data_table.ipynb>data table notebook</a>'\n",
              "            + ' to learn more about interactive tables.';\n",
              "          element.innerHTML = '';\n",
              "          dataTable['output_type'] = 'display_data';\n",
              "          await google.colab.output.renderOutput(dataTable, element);\n",
              "          const docLink = document.createElement('div');\n",
              "          docLink.innerHTML = docLinkHtml;\n",
              "          element.appendChild(docLink);\n",
              "        }\n",
              "      </script>\n",
              "    </div>\n",
              "  </div>\n",
              "  "
            ]
          },
          "metadata": {},
          "execution_count": 55
        }
      ]
    },
    {
      "cell_type": "code",
      "source": [
        "home_['자치구'].value_counts()"
      ],
      "metadata": {
        "colab": {
          "base_uri": "https://localhost:8080/"
        },
        "id": "MHvUKB11MjrL",
        "outputId": "2a12c74d-2a24-4fdb-9915-9a75c7ec4343"
      },
      "execution_count": null,
      "outputs": [
        {
          "output_type": "execute_result",
          "data": {
            "text/plain": [
              "동작구     1000\n",
              "강북구     1000\n",
              "성북구     1000\n",
              "동대문구    1000\n",
              "관악구     1000\n",
              "광진구      949\n",
              "영등포구     887\n",
              "구로구      887\n",
              "금천구      759\n",
              "강서구      721\n",
              "송파구      609\n",
              "강남구      581\n",
              "성동구      472\n",
              "노원구      406\n",
              "중구       387\n",
              "용산구      387\n",
              "종로구      387\n",
              "은평구      370\n",
              "서대문구     370\n",
              "마포구      288\n",
              "양천구      285\n",
              "강동구      254\n",
              "중랑구      211\n",
              "서초구      113\n",
              "도봉구       23\n",
              "Name: 자치구, dtype: int64"
            ]
          },
          "metadata": {},
          "execution_count": 18
        }
      ]
    },
    {
      "cell_type": "code",
      "source": [
        "home_.describe()"
      ],
      "metadata": {
        "colab": {
          "base_uri": "https://localhost:8080/",
          "height": 300
        },
        "id": "NhyHjxGlV4KV",
        "outputId": "55cc298b-e1fa-42a5-d44d-0d1c4fbe9972"
      },
      "execution_count": null,
      "outputs": [
        {
          "output_type": "execute_result",
          "data": {
            "text/plain": [
              "                보증금            월세       평수(m^2)           건물층         평수(평)\n",
              "count  14346.000000  14346.000000  14346.000000  14346.000000  14346.000000\n",
              "mean    3419.915517     63.174265     33.347456      7.200753     10.090966\n",
              "std     5193.187627     45.911663     20.857093      5.233494      6.316671\n",
              "min        1.000000      1.000000      4.000000      1.000000      1.000000\n",
              "25%      500.000000     38.000000     19.830000      4.000000      6.000000\n",
              "50%     1000.000000     50.000000     26.440000      5.000000      8.000000\n",
              "75%     4500.000000     80.000000     42.900000      9.000000     13.000000\n",
              "max    70000.000000   1250.000000    489.260000     46.000000    148.000000"
            ],
            "text/html": [
              "\n",
              "  <div id=\"df-f19a0515-8a2e-4951-89e5-644d1f17c451\">\n",
              "    <div class=\"colab-df-container\">\n",
              "      <div>\n",
              "<style scoped>\n",
              "    .dataframe tbody tr th:only-of-type {\n",
              "        vertical-align: middle;\n",
              "    }\n",
              "\n",
              "    .dataframe tbody tr th {\n",
              "        vertical-align: top;\n",
              "    }\n",
              "\n",
              "    .dataframe thead th {\n",
              "        text-align: right;\n",
              "    }\n",
              "</style>\n",
              "<table border=\"1\" class=\"dataframe\">\n",
              "  <thead>\n",
              "    <tr style=\"text-align: right;\">\n",
              "      <th></th>\n",
              "      <th>보증금</th>\n",
              "      <th>월세</th>\n",
              "      <th>평수(m^2)</th>\n",
              "      <th>건물층</th>\n",
              "      <th>평수(평)</th>\n",
              "    </tr>\n",
              "  </thead>\n",
              "  <tbody>\n",
              "    <tr>\n",
              "      <th>count</th>\n",
              "      <td>14346.000000</td>\n",
              "      <td>14346.000000</td>\n",
              "      <td>14346.000000</td>\n",
              "      <td>14346.000000</td>\n",
              "      <td>14346.000000</td>\n",
              "    </tr>\n",
              "    <tr>\n",
              "      <th>mean</th>\n",
              "      <td>3419.915517</td>\n",
              "      <td>63.174265</td>\n",
              "      <td>33.347456</td>\n",
              "      <td>7.200753</td>\n",
              "      <td>10.090966</td>\n",
              "    </tr>\n",
              "    <tr>\n",
              "      <th>std</th>\n",
              "      <td>5193.187627</td>\n",
              "      <td>45.911663</td>\n",
              "      <td>20.857093</td>\n",
              "      <td>5.233494</td>\n",
              "      <td>6.316671</td>\n",
              "    </tr>\n",
              "    <tr>\n",
              "      <th>min</th>\n",
              "      <td>1.000000</td>\n",
              "      <td>1.000000</td>\n",
              "      <td>4.000000</td>\n",
              "      <td>1.000000</td>\n",
              "      <td>1.000000</td>\n",
              "    </tr>\n",
              "    <tr>\n",
              "      <th>25%</th>\n",
              "      <td>500.000000</td>\n",
              "      <td>38.000000</td>\n",
              "      <td>19.830000</td>\n",
              "      <td>4.000000</td>\n",
              "      <td>6.000000</td>\n",
              "    </tr>\n",
              "    <tr>\n",
              "      <th>50%</th>\n",
              "      <td>1000.000000</td>\n",
              "      <td>50.000000</td>\n",
              "      <td>26.440000</td>\n",
              "      <td>5.000000</td>\n",
              "      <td>8.000000</td>\n",
              "    </tr>\n",
              "    <tr>\n",
              "      <th>75%</th>\n",
              "      <td>4500.000000</td>\n",
              "      <td>80.000000</td>\n",
              "      <td>42.900000</td>\n",
              "      <td>9.000000</td>\n",
              "      <td>13.000000</td>\n",
              "    </tr>\n",
              "    <tr>\n",
              "      <th>max</th>\n",
              "      <td>70000.000000</td>\n",
              "      <td>1250.000000</td>\n",
              "      <td>489.260000</td>\n",
              "      <td>46.000000</td>\n",
              "      <td>148.000000</td>\n",
              "    </tr>\n",
              "  </tbody>\n",
              "</table>\n",
              "</div>\n",
              "      <button class=\"colab-df-convert\" onclick=\"convertToInteractive('df-f19a0515-8a2e-4951-89e5-644d1f17c451')\"\n",
              "              title=\"Convert this dataframe to an interactive table.\"\n",
              "              style=\"display:none;\">\n",
              "        \n",
              "  <svg xmlns=\"http://www.w3.org/2000/svg\" height=\"24px\"viewBox=\"0 0 24 24\"\n",
              "       width=\"24px\">\n",
              "    <path d=\"M0 0h24v24H0V0z\" fill=\"none\"/>\n",
              "    <path d=\"M18.56 5.44l.94 2.06.94-2.06 2.06-.94-2.06-.94-.94-2.06-.94 2.06-2.06.94zm-11 1L8.5 8.5l.94-2.06 2.06-.94-2.06-.94L8.5 2.5l-.94 2.06-2.06.94zm10 10l.94 2.06.94-2.06 2.06-.94-2.06-.94-.94-2.06-.94 2.06-2.06.94z\"/><path d=\"M17.41 7.96l-1.37-1.37c-.4-.4-.92-.59-1.43-.59-.52 0-1.04.2-1.43.59L10.3 9.45l-7.72 7.72c-.78.78-.78 2.05 0 2.83L4 21.41c.39.39.9.59 1.41.59.51 0 1.02-.2 1.41-.59l7.78-7.78 2.81-2.81c.8-.78.8-2.07 0-2.86zM5.41 20L4 18.59l7.72-7.72 1.47 1.35L5.41 20z\"/>\n",
              "  </svg>\n",
              "      </button>\n",
              "      \n",
              "  <style>\n",
              "    .colab-df-container {\n",
              "      display:flex;\n",
              "      flex-wrap:wrap;\n",
              "      gap: 12px;\n",
              "    }\n",
              "\n",
              "    .colab-df-convert {\n",
              "      background-color: #E8F0FE;\n",
              "      border: none;\n",
              "      border-radius: 50%;\n",
              "      cursor: pointer;\n",
              "      display: none;\n",
              "      fill: #1967D2;\n",
              "      height: 32px;\n",
              "      padding: 0 0 0 0;\n",
              "      width: 32px;\n",
              "    }\n",
              "\n",
              "    .colab-df-convert:hover {\n",
              "      background-color: #E2EBFA;\n",
              "      box-shadow: 0px 1px 2px rgba(60, 64, 67, 0.3), 0px 1px 3px 1px rgba(60, 64, 67, 0.15);\n",
              "      fill: #174EA6;\n",
              "    }\n",
              "\n",
              "    [theme=dark] .colab-df-convert {\n",
              "      background-color: #3B4455;\n",
              "      fill: #D2E3FC;\n",
              "    }\n",
              "\n",
              "    [theme=dark] .colab-df-convert:hover {\n",
              "      background-color: #434B5C;\n",
              "      box-shadow: 0px 1px 3px 1px rgba(0, 0, 0, 0.15);\n",
              "      filter: drop-shadow(0px 1px 2px rgba(0, 0, 0, 0.3));\n",
              "      fill: #FFFFFF;\n",
              "    }\n",
              "  </style>\n",
              "\n",
              "      <script>\n",
              "        const buttonEl =\n",
              "          document.querySelector('#df-f19a0515-8a2e-4951-89e5-644d1f17c451 button.colab-df-convert');\n",
              "        buttonEl.style.display =\n",
              "          google.colab.kernel.accessAllowed ? 'block' : 'none';\n",
              "\n",
              "        async function convertToInteractive(key) {\n",
              "          const element = document.querySelector('#df-f19a0515-8a2e-4951-89e5-644d1f17c451');\n",
              "          const dataTable =\n",
              "            await google.colab.kernel.invokeFunction('convertToInteractive',\n",
              "                                                     [key], {});\n",
              "          if (!dataTable) return;\n",
              "\n",
              "          const docLinkHtml = 'Like what you see? Visit the ' +\n",
              "            '<a target=\"_blank\" href=https://colab.research.google.com/notebooks/data_table.ipynb>data table notebook</a>'\n",
              "            + ' to learn more about interactive tables.';\n",
              "          element.innerHTML = '';\n",
              "          dataTable['output_type'] = 'display_data';\n",
              "          await google.colab.output.renderOutput(dataTable, element);\n",
              "          const docLink = document.createElement('div');\n",
              "          docLink.innerHTML = docLinkHtml;\n",
              "          element.appendChild(docLink);\n",
              "        }\n",
              "      </script>\n",
              "    </div>\n",
              "  </div>\n",
              "  "
            ]
          },
          "metadata": {},
          "execution_count": 56
        }
      ]
    },
    {
      "cell_type": "markdown",
      "source": [
        "- 보증금, 평수, 월세의 범위 조정"
      ],
      "metadata": {
        "id": "cKPODIlAcICC"
      }
    },
    {
      "cell_type": "code",
      "source": [
        "home_ = home_[home_['보증금']>=50]"
      ],
      "metadata": {
        "id": "sNs30cDYayOp"
      },
      "execution_count": null,
      "outputs": []
    },
    {
      "cell_type": "code",
      "source": [
        "home_ = home_[home_['평수(평)']<=30]"
      ],
      "metadata": {
        "id": "e1Bt3_LF_IUF"
      },
      "execution_count": null,
      "outputs": []
    },
    {
      "cell_type": "code",
      "source": [
        "home_=home_[home_['월세']<=250]"
      ],
      "metadata": {
        "id": "mBHsFej3lEfS"
      },
      "execution_count": null,
      "outputs": []
    },
    {
      "cell_type": "code",
      "source": [
        "home_=home_[home_['보증금']<=20000]"
      ],
      "metadata": {
        "id": "FOGQK_0sBsvv"
      },
      "execution_count": null,
      "outputs": []
    },
    {
      "cell_type": "code",
      "source": [
        "home_.describe()"
      ],
      "metadata": {
        "colab": {
          "base_uri": "https://localhost:8080/",
          "height": 300
        },
        "id": "zJ3IcWWplVnT",
        "outputId": "c50709fa-cc1f-449f-f07a-f04a17e4922a"
      },
      "execution_count": null,
      "outputs": [
        {
          "output_type": "execute_result",
          "data": {
            "text/plain": [
              "                보증금            월세       평수(m^2)           건물층         평수(평)\n",
              "count  13872.000000  13872.000000  13872.000000  13872.000000  13872.000000\n",
              "mean    3010.957901     60.863033     31.652662      7.071078      9.579224\n",
              "std     4072.612516     35.046575     16.711768      5.029879      5.066389\n",
              "min       50.000000      1.000000      4.000000      1.000000      1.000000\n",
              "25%      500.000000     39.000000     19.830000      4.000000      6.000000\n",
              "50%     1000.000000     50.000000     24.790000      5.000000      7.000000\n",
              "75%     3700.000000     75.000000     40.000000      9.000000     12.000000\n",
              "max    20000.000000    250.000000    100.600000     40.000000     30.000000"
            ],
            "text/html": [
              "\n",
              "  <div id=\"df-9a06ea7c-ce28-4f17-a166-c5f347e8c9f0\">\n",
              "    <div class=\"colab-df-container\">\n",
              "      <div>\n",
              "<style scoped>\n",
              "    .dataframe tbody tr th:only-of-type {\n",
              "        vertical-align: middle;\n",
              "    }\n",
              "\n",
              "    .dataframe tbody tr th {\n",
              "        vertical-align: top;\n",
              "    }\n",
              "\n",
              "    .dataframe thead th {\n",
              "        text-align: right;\n",
              "    }\n",
              "</style>\n",
              "<table border=\"1\" class=\"dataframe\">\n",
              "  <thead>\n",
              "    <tr style=\"text-align: right;\">\n",
              "      <th></th>\n",
              "      <th>보증금</th>\n",
              "      <th>월세</th>\n",
              "      <th>평수(m^2)</th>\n",
              "      <th>건물층</th>\n",
              "      <th>평수(평)</th>\n",
              "    </tr>\n",
              "  </thead>\n",
              "  <tbody>\n",
              "    <tr>\n",
              "      <th>count</th>\n",
              "      <td>13872.000000</td>\n",
              "      <td>13872.000000</td>\n",
              "      <td>13872.000000</td>\n",
              "      <td>13872.000000</td>\n",
              "      <td>13872.000000</td>\n",
              "    </tr>\n",
              "    <tr>\n",
              "      <th>mean</th>\n",
              "      <td>3010.957901</td>\n",
              "      <td>60.863033</td>\n",
              "      <td>31.652662</td>\n",
              "      <td>7.071078</td>\n",
              "      <td>9.579224</td>\n",
              "    </tr>\n",
              "    <tr>\n",
              "      <th>std</th>\n",
              "      <td>4072.612516</td>\n",
              "      <td>35.046575</td>\n",
              "      <td>16.711768</td>\n",
              "      <td>5.029879</td>\n",
              "      <td>5.066389</td>\n",
              "    </tr>\n",
              "    <tr>\n",
              "      <th>min</th>\n",
              "      <td>50.000000</td>\n",
              "      <td>1.000000</td>\n",
              "      <td>4.000000</td>\n",
              "      <td>1.000000</td>\n",
              "      <td>1.000000</td>\n",
              "    </tr>\n",
              "    <tr>\n",
              "      <th>25%</th>\n",
              "      <td>500.000000</td>\n",
              "      <td>39.000000</td>\n",
              "      <td>19.830000</td>\n",
              "      <td>4.000000</td>\n",
              "      <td>6.000000</td>\n",
              "    </tr>\n",
              "    <tr>\n",
              "      <th>50%</th>\n",
              "      <td>1000.000000</td>\n",
              "      <td>50.000000</td>\n",
              "      <td>24.790000</td>\n",
              "      <td>5.000000</td>\n",
              "      <td>7.000000</td>\n",
              "    </tr>\n",
              "    <tr>\n",
              "      <th>75%</th>\n",
              "      <td>3700.000000</td>\n",
              "      <td>75.000000</td>\n",
              "      <td>40.000000</td>\n",
              "      <td>9.000000</td>\n",
              "      <td>12.000000</td>\n",
              "    </tr>\n",
              "    <tr>\n",
              "      <th>max</th>\n",
              "      <td>20000.000000</td>\n",
              "      <td>250.000000</td>\n",
              "      <td>100.600000</td>\n",
              "      <td>40.000000</td>\n",
              "      <td>30.000000</td>\n",
              "    </tr>\n",
              "  </tbody>\n",
              "</table>\n",
              "</div>\n",
              "      <button class=\"colab-df-convert\" onclick=\"convertToInteractive('df-9a06ea7c-ce28-4f17-a166-c5f347e8c9f0')\"\n",
              "              title=\"Convert this dataframe to an interactive table.\"\n",
              "              style=\"display:none;\">\n",
              "        \n",
              "  <svg xmlns=\"http://www.w3.org/2000/svg\" height=\"24px\"viewBox=\"0 0 24 24\"\n",
              "       width=\"24px\">\n",
              "    <path d=\"M0 0h24v24H0V0z\" fill=\"none\"/>\n",
              "    <path d=\"M18.56 5.44l.94 2.06.94-2.06 2.06-.94-2.06-.94-.94-2.06-.94 2.06-2.06.94zm-11 1L8.5 8.5l.94-2.06 2.06-.94-2.06-.94L8.5 2.5l-.94 2.06-2.06.94zm10 10l.94 2.06.94-2.06 2.06-.94-2.06-.94-.94-2.06-.94 2.06-2.06.94z\"/><path d=\"M17.41 7.96l-1.37-1.37c-.4-.4-.92-.59-1.43-.59-.52 0-1.04.2-1.43.59L10.3 9.45l-7.72 7.72c-.78.78-.78 2.05 0 2.83L4 21.41c.39.39.9.59 1.41.59.51 0 1.02-.2 1.41-.59l7.78-7.78 2.81-2.81c.8-.78.8-2.07 0-2.86zM5.41 20L4 18.59l7.72-7.72 1.47 1.35L5.41 20z\"/>\n",
              "  </svg>\n",
              "      </button>\n",
              "      \n",
              "  <style>\n",
              "    .colab-df-container {\n",
              "      display:flex;\n",
              "      flex-wrap:wrap;\n",
              "      gap: 12px;\n",
              "    }\n",
              "\n",
              "    .colab-df-convert {\n",
              "      background-color: #E8F0FE;\n",
              "      border: none;\n",
              "      border-radius: 50%;\n",
              "      cursor: pointer;\n",
              "      display: none;\n",
              "      fill: #1967D2;\n",
              "      height: 32px;\n",
              "      padding: 0 0 0 0;\n",
              "      width: 32px;\n",
              "    }\n",
              "\n",
              "    .colab-df-convert:hover {\n",
              "      background-color: #E2EBFA;\n",
              "      box-shadow: 0px 1px 2px rgba(60, 64, 67, 0.3), 0px 1px 3px 1px rgba(60, 64, 67, 0.15);\n",
              "      fill: #174EA6;\n",
              "    }\n",
              "\n",
              "    [theme=dark] .colab-df-convert {\n",
              "      background-color: #3B4455;\n",
              "      fill: #D2E3FC;\n",
              "    }\n",
              "\n",
              "    [theme=dark] .colab-df-convert:hover {\n",
              "      background-color: #434B5C;\n",
              "      box-shadow: 0px 1px 3px 1px rgba(0, 0, 0, 0.15);\n",
              "      filter: drop-shadow(0px 1px 2px rgba(0, 0, 0, 0.3));\n",
              "      fill: #FFFFFF;\n",
              "    }\n",
              "  </style>\n",
              "\n",
              "      <script>\n",
              "        const buttonEl =\n",
              "          document.querySelector('#df-9a06ea7c-ce28-4f17-a166-c5f347e8c9f0 button.colab-df-convert');\n",
              "        buttonEl.style.display =\n",
              "          google.colab.kernel.accessAllowed ? 'block' : 'none';\n",
              "\n",
              "        async function convertToInteractive(key) {\n",
              "          const element = document.querySelector('#df-9a06ea7c-ce28-4f17-a166-c5f347e8c9f0');\n",
              "          const dataTable =\n",
              "            await google.colab.kernel.invokeFunction('convertToInteractive',\n",
              "                                                     [key], {});\n",
              "          if (!dataTable) return;\n",
              "\n",
              "          const docLinkHtml = 'Like what you see? Visit the ' +\n",
              "            '<a target=\"_blank\" href=https://colab.research.google.com/notebooks/data_table.ipynb>data table notebook</a>'\n",
              "            + ' to learn more about interactive tables.';\n",
              "          element.innerHTML = '';\n",
              "          dataTable['output_type'] = 'display_data';\n",
              "          await google.colab.output.renderOutput(dataTable, element);\n",
              "          const docLink = document.createElement('div');\n",
              "          docLink.innerHTML = docLinkHtml;\n",
              "          element.appendChild(docLink);\n",
              "        }\n",
              "      </script>\n",
              "    </div>\n",
              "  </div>\n",
              "  "
            ]
          },
          "metadata": {},
          "execution_count": 74
        }
      ]
    },
    {
      "cell_type": "code",
      "source": [
        "home_.info()"
      ],
      "metadata": {
        "colab": {
          "base_uri": "https://localhost:8080/"
        },
        "id": "onhgF5w3BmDm",
        "outputId": "c7214224-f908-472e-ea63-6cbcb488827c"
      },
      "execution_count": null,
      "outputs": [
        {
          "output_type": "stream",
          "name": "stdout",
          "text": [
            "<class 'pandas.core.frame.DataFrame'>\n",
            "Int64Index: 13872 entries, 0 to 14345\n",
            "Data columns (total 8 columns):\n",
            " #   Column   Non-Null Count  Dtype  \n",
            "---  ------   --------------  -----  \n",
            " 0   자치구      13872 non-null  object \n",
            " 1   보증금      13872 non-null  int64  \n",
            " 2   월세       13872 non-null  int64  \n",
            " 3   평수(m^2)  13872 non-null  float64\n",
            " 4   건물층      13872 non-null  int64  \n",
            " 5   매물층      13872 non-null  object \n",
            " 6   분류       13872 non-null  object \n",
            " 7   평수(평)    13872 non-null  int64  \n",
            "dtypes: float64(1), int64(4), object(3)\n",
            "memory usage: 975.4+ KB\n"
          ]
        }
      ]
    },
    {
      "cell_type": "code",
      "source": [
        "plt.figure(figsize=(8,8))\n",
        "\n",
        "sns.histplot(home_['월세'],bins=50)"
      ],
      "metadata": {
        "colab": {
          "base_uri": "https://localhost:8080/",
          "height": 515
        },
        "id": "oSJ5fTh4mGB5",
        "outputId": "e16cbc0d-baf2-403c-c969-22268d14b9b3"
      },
      "execution_count": null,
      "outputs": [
        {
          "output_type": "execute_result",
          "data": {
            "text/plain": [
              "<matplotlib.axes._subplots.AxesSubplot at 0x7f6afebacd30>"
            ]
          },
          "metadata": {},
          "execution_count": 80
        },
        {
          "output_type": "display_data",
          "data": {
            "text/plain": [
              "<Figure size 576x576 with 1 Axes>"
            ],
            "image/png": "[encoded data removed]"
          },
          "metadata": {
            "needs_background": "light"
          }
        }
      ]
    },
    {
      "cell_type": "code",
      "source": [
        "home_.to_csv('진짜 끝 월세데이터.csv')"
      ],
      "metadata": {
        "id": "Px6c_dZXmeJ8"
      },
      "execution_count": null,
      "outputs": []
    },
    {
      "cell_type": "markdown",
      "source": [
        "## 모델링(예측)"
      ],
      "metadata": {
        "id": "xwAMRP3uFpDW"
      }
    },
    {
      "cell_type": "code",
      "source": [
        "! pip install category_encoders"
      ],
      "metadata": {
        "id": "FJyW9hCVU8m8"
      },
      "execution_count": null,
      "outputs": []
    },
    {
      "cell_type": "code",
      "source": [
        "import pandas as pd\n",
        "import numpy as np\n",
        "import seaborn as sns\n",
        "import matplotlib.pyplot as plt\n",
        "from sklearn.model_selection import cross_val_score\n",
        "from sklearn.ensemble import RandomForestRegressor, GradientBoostingRegressor\n",
        "from sklearn.tree import DecisionTreeRegressor\n",
        "from xgboost.sklearn import XGBRegressor\n",
        "from lightgbm import LGBMRegressor\n",
        "\n",
        "from category_encoders import TargetEncoder, OrdinalEncoder\n",
        "from sklearn.preprocessing import StandardScaler\n",
        "from sklearn.compose import TransformedTargetRegressor\n",
        "\n",
        "from sklearn.linear_model import RidgeCV, LogisticRegression\n",
        "\n",
        "from sklearn.model_selection import train_test_split, RandomizedSearchCV\n",
        "from sklearn.pipeline import make_pipeline\n",
        "from sklearn.metrics import mean_absolute_error, r2_score\n",
        "from scipy.stats import randint, uniform"
      ],
      "metadata": {
        "id": "7z9Kmrp-VBOB"
      },
      "execution_count": 3,
      "outputs": []
    },
    {
      "cell_type": "code",
      "source": [
        "df = pd.read_csv('/content/drive/MyDrive/cp1 1인가구/진짜 끝 월세데이터.csv')\n",
        "df.drop(['Unnamed: 0'], axis=1, inplace=True)\n",
        "df"
      ],
      "metadata": {
        "colab": {
          "base_uri": "https://localhost:8080/",
          "height": 424
        },
        "id": "i8zu5yAHEAOI",
        "outputId": "e3e77d5b-a2f6-490d-ce04-82b24235a567"
      },
      "execution_count": 4,
      "outputs": [
        {
          "output_type": "execute_result",
          "data": {
            "text/plain": [
              "       자치구    보증금  월세  평수(m^2)  건물층  매물층   분류  평수(평)\n",
              "0      종로구   1000  60    39.67    2    2    고     12\n",
              "1      종로구    500  35    30.28    2  반지하  반지하      9\n",
              "2      종로구    500  40    19.83    3    2    고      6\n",
              "3      종로구    500  40    23.50    3    1    저      7\n",
              "4      종로구    500  38    29.75    2  반지하  반지하      9\n",
              "...    ...    ...  ..      ...  ...  ...  ...    ...\n",
              "13867  송파구  15000  50    37.43    5    2    저     11\n",
              "13868  송파구   5000  70    62.81    4    3    고     19\n",
              "13869  송파구   4000  37    26.45    5    4    고      8\n",
              "13870  송파구    500  30    23.14    3  반지하  반지하      7\n",
              "13871  송파구    120  40    13.22    5    2    저      4\n",
              "\n",
              "[13872 rows x 8 columns]"
            ],
            "text/html": [
              "\n",
              "  <div id=\"df-ee584111-37cd-4e2a-b50a-816a7be9da52\">\n",
              "    <div class=\"colab-df-container\">\n",
              "      <div>\n",
              "<style scoped>\n",
              "    .dataframe tbody tr th:only-of-type {\n",
              "        vertical-align: middle;\n",
              "    }\n",
              "\n",
              "    .dataframe tbody tr th {\n",
              "        vertical-align: top;\n",
              "    }\n",
              "\n",
              "    .dataframe thead th {\n",
              "        text-align: right;\n",
              "    }\n",
              "</style>\n",
              "<table border=\"1\" class=\"dataframe\">\n",
              "  <thead>\n",
              "    <tr style=\"text-align: right;\">\n",
              "      <th></th>\n",
              "      <th>자치구</th>\n",
              "      <th>보증금</th>\n",
              "      <th>월세</th>\n",
              "      <th>평수(m^2)</th>\n",
              "      <th>건물층</th>\n",
              "      <th>매물층</th>\n",
              "      <th>분류</th>\n",
              "      <th>평수(평)</th>\n",
              "    </tr>\n",
              "  </thead>\n",
              "  <tbody>\n",
              "    <tr>\n",
              "      <th>0</th>\n",
              "      <td>종로구</td>\n",
              "      <td>1000</td>\n",
              "      <td>60</td>\n",
              "      <td>39.67</td>\n",
              "      <td>2</td>\n",
              "      <td>2</td>\n",
              "      <td>고</td>\n",
              "      <td>12</td>\n",
              "    </tr>\n",
              "    <tr>\n",
              "      <th>1</th>\n",
              "      <td>종로구</td>\n",
              "      <td>500</td>\n",
              "      <td>35</td>\n",
              "      <td>30.28</td>\n",
              "      <td>2</td>\n",
              "      <td>반지하</td>\n",
              "      <td>반지하</td>\n",
              "      <td>9</td>\n",
              "    </tr>\n",
              "    <tr>\n",
              "      <th>2</th>\n",
              "      <td>종로구</td>\n",
              "      <td>500</td>\n",
              "      <td>40</td>\n",
              "      <td>19.83</td>\n",
              "      <td>3</td>\n",
              "      <td>2</td>\n",
              "      <td>고</td>\n",
              "      <td>6</td>\n",
              "    </tr>\n",
              "    <tr>\n",
              "      <th>3</th>\n",
              "      <td>종로구</td>\n",
              "      <td>500</td>\n",
              "      <td>40</td>\n",
              "      <td>23.50</td>\n",
              "      <td>3</td>\n",
              "      <td>1</td>\n",
              "      <td>저</td>\n",
              "      <td>7</td>\n",
              "    </tr>\n",
              "    <tr>\n",
              "      <th>4</th>\n",
              "      <td>종로구</td>\n",
              "      <td>500</td>\n",
              "      <td>38</td>\n",
              "      <td>29.75</td>\n",
              "      <td>2</td>\n",
              "      <td>반지하</td>\n",
              "      <td>반지하</td>\n",
              "      <td>9</td>\n",
              "    </tr>\n",
              "    <tr>\n",
              "      <th>...</th>\n",
              "      <td>...</td>\n",
              "      <td>...</td>\n",
              "      <td>...</td>\n",
              "      <td>...</td>\n",
              "      <td>...</td>\n",
              "      <td>...</td>\n",
              "      <td>...</td>\n",
              "      <td>...</td>\n",
              "    </tr>\n",
              "    <tr>\n",
              "      <th>13867</th>\n",
              "      <td>송파구</td>\n",
              "      <td>15000</td>\n",
              "      <td>50</td>\n",
              "      <td>37.43</td>\n",
              "      <td>5</td>\n",
              "      <td>2</td>\n",
              "      <td>저</td>\n",
              "      <td>11</td>\n",
              "    </tr>\n",
              "    <tr>\n",
              "      <th>13868</th>\n",
              "      <td>송파구</td>\n",
              "      <td>5000</td>\n",
              "      <td>70</td>\n",
              "      <td>62.81</td>\n",
              "      <td>4</td>\n",
              "      <td>3</td>\n",
              "      <td>고</td>\n",
              "      <td>19</td>\n",
              "    </tr>\n",
              "    <tr>\n",
              "      <th>13869</th>\n",
              "      <td>송파구</td>\n",
              "      <td>4000</td>\n",
              "      <td>37</td>\n",
              "      <td>26.45</td>\n",
              "      <td>5</td>\n",
              "      <td>4</td>\n",
              "      <td>고</td>\n",
              "      <td>8</td>\n",
              "    </tr>\n",
              "    <tr>\n",
              "      <th>13870</th>\n",
              "      <td>송파구</td>\n",
              "      <td>500</td>\n",
              "      <td>30</td>\n",
              "      <td>23.14</td>\n",
              "      <td>3</td>\n",
              "      <td>반지하</td>\n",
              "      <td>반지하</td>\n",
              "      <td>7</td>\n",
              "    </tr>\n",
              "    <tr>\n",
              "      <th>13871</th>\n",
              "      <td>송파구</td>\n",
              "      <td>120</td>\n",
              "      <td>40</td>\n",
              "      <td>13.22</td>\n",
              "      <td>5</td>\n",
              "      <td>2</td>\n",
              "      <td>저</td>\n",
              "      <td>4</td>\n",
              "    </tr>\n",
              "  </tbody>\n",
              "</table>\n",
              "<p>13872 rows × 8 columns</p>\n",
              "</div>\n",
              "      <button class=\"colab-df-convert\" onclick=\"convertToInteractive('df-ee584111-37cd-4e2a-b50a-816a7be9da52')\"\n",
              "              title=\"Convert this dataframe to an interactive table.\"\n",
              "              style=\"display:none;\">\n",
              "        \n",
              "  <svg xmlns=\"http://www.w3.org/2000/svg\" height=\"24px\"viewBox=\"0 0 24 24\"\n",
              "       width=\"24px\">\n",
              "    <path d=\"M0 0h24v24H0V0z\" fill=\"none\"/>\n",
              "    <path d=\"M18.56 5.44l.94 2.06.94-2.06 2.06-.94-2.06-.94-.94-2.06-.94 2.06-2.06.94zm-11 1L8.5 8.5l.94-2.06 2.06-.94-2.06-.94L8.5 2.5l-.94 2.06-2.06.94zm10 10l.94 2.06.94-2.06 2.06-.94-2.06-.94-.94-2.06-.94 2.06-2.06.94z\"/><path d=\"M17.41 7.96l-1.37-1.37c-.4-.4-.92-.59-1.43-.59-.52 0-1.04.2-1.43.59L10.3 9.45l-7.72 7.72c-.78.78-.78 2.05 0 2.83L4 21.41c.39.39.9.59 1.41.59.51 0 1.02-.2 1.41-.59l7.78-7.78 2.81-2.81c.8-.78.8-2.07 0-2.86zM5.41 20L4 18.59l7.72-7.72 1.47 1.35L5.41 20z\"/>\n",
              "  </svg>\n",
              "      </button>\n",
              "      \n",
              "  <style>\n",
              "    .colab-df-container {\n",
              "      display:flex;\n",
              "      flex-wrap:wrap;\n",
              "      gap: 12px;\n",
              "    }\n",
              "\n",
              "    .colab-df-convert {\n",
              "      background-color: #E8F0FE;\n",
              "      border: none;\n",
              "      border-radius: 50%;\n",
              "      cursor: pointer;\n",
              "      display: none;\n",
              "      fill: #1967D2;\n",
              "      height: 32px;\n",
              "      padding: 0 0 0 0;\n",
              "      width: 32px;\n",
              "    }\n",
              "\n",
              "    .colab-df-convert:hover {\n",
              "      background-color: #E2EBFA;\n",
              "      box-shadow: 0px 1px 2px rgba(60, 64, 67, 0.3), 0px 1px 3px 1px rgba(60, 64, 67, 0.15);\n",
              "      fill: #174EA6;\n",
              "    }\n",
              "\n",
              "    [theme=dark] .colab-df-convert {\n",
              "      background-color: #3B4455;\n",
              "      fill: #D2E3FC;\n",
              "    }\n",
              "\n",
              "    [theme=dark] .colab-df-convert:hover {\n",
              "      background-color: #434B5C;\n",
              "      box-shadow: 0px 1px 3px 1px rgba(0, 0, 0, 0.15);\n",
              "      filter: drop-shadow(0px 1px 2px rgba(0, 0, 0, 0.3));\n",
              "      fill: #FFFFFF;\n",
              "    }\n",
              "  </style>\n",
              "\n",
              "      <script>\n",
              "        const buttonEl =\n",
              "          document.querySelector('#df-ee584111-37cd-4e2a-b50a-816a7be9da52 button.colab-df-convert');\n",
              "        buttonEl.style.display =\n",
              "          google.colab.kernel.accessAllowed ? 'block' : 'none';\n",
              "\n",
              "        async function convertToInteractive(key) {\n",
              "          const element = document.querySelector('#df-ee584111-37cd-4e2a-b50a-816a7be9da52');\n",
              "          const dataTable =\n",
              "            await google.colab.kernel.invokeFunction('convertToInteractive',\n",
              "                                                     [key], {});\n",
              "          if (!dataTable) return;\n",
              "\n",
              "          const docLinkHtml = 'Like what you see? Visit the ' +\n",
              "            '<a target=\"_blank\" href=https://colab.research.google.com/notebooks/data_table.ipynb>data table notebook</a>'\n",
              "            + ' to learn more about interactive tables.';\n",
              "          element.innerHTML = '';\n",
              "          dataTable['output_type'] = 'display_data';\n",
              "          await google.colab.output.renderOutput(dataTable, element);\n",
              "          const docLink = document.createElement('div');\n",
              "          docLink.innerHTML = docLinkHtml;\n",
              "          element.appendChild(docLink);\n",
              "        }\n",
              "      </script>\n",
              "    </div>\n",
              "  </div>\n",
              "  "
            ]
          },
          "metadata": {},
          "execution_count": 4
        }
      ]
    },
    {
      "cell_type": "code",
      "source": [
        "df.info()"
      ],
      "metadata": {
        "colab": {
          "base_uri": "https://localhost:8080/"
        },
        "id": "wXSdlEPZUN_G",
        "outputId": "1414bdca-4d78-4eef-f15a-3639f85877ca"
      },
      "execution_count": 4,
      "outputs": [
        {
          "output_type": "stream",
          "name": "stdout",
          "text": [
            "<class 'pandas.core.frame.DataFrame'>\n",
            "RangeIndex: 13872 entries, 0 to 13871\n",
            "Data columns (total 8 columns):\n",
            " #   Column   Non-Null Count  Dtype  \n",
            "---  ------   --------------  -----  \n",
            " 0   자치구      13872 non-null  object \n",
            " 1   보증금      13872 non-null  int64  \n",
            " 2   월세       13872 non-null  int64  \n",
            " 3   평수(m^2)  13872 non-null  float64\n",
            " 4   건물층      13872 non-null  int64  \n",
            " 5   매물층      13872 non-null  object \n",
            " 6   분류       13872 non-null  object \n",
            " 7   평수(평)    13872 non-null  int64  \n",
            "dtypes: float64(1), int64(4), object(3)\n",
            "memory usage: 867.1+ KB\n"
          ]
        }
      ]
    },
    {
      "cell_type": "markdown",
      "source": [
        "- 데이터 분리"
      ],
      "metadata": {
        "id": "njZfozbccWqJ"
      }
    },
    {
      "cell_type": "code",
      "source": [
        "from sklearn.model_selection import train_test_split\n",
        "feature = ['자치구','보증금','분류','평수(평)']\n",
        "\n",
        "x_train,x_test,y_train,y_test=train_test_split(df[feature],df['월세'],test_size=0.25,\n",
        "                                               random_state=42) \n",
        "print(x_train.shape, y_test.shape)"
      ],
      "metadata": {
        "colab": {
          "base_uri": "https://localhost:8080/"
        },
        "id": "rRslHacISEyL",
        "outputId": "c53e2e0b-92e3-416e-c081-74602f0303bc"
      },
      "execution_count": 5,
      "outputs": [
        {
          "output_type": "stream",
          "name": "stdout",
          "text": [
            "(10404, 4) (3468,)\n"
          ]
        }
      ]
    },
    {
      "cell_type": "markdown",
      "source": [
        "### 기준 모델"
      ],
      "metadata": {
        "id": "R0prugLPR8rZ"
      }
    },
    {
      "cell_type": "code",
      "source": [
        "from sklearn.metrics import mean_squared_error, r2_score, mean_absolute_error\n",
        "\n",
        "\n",
        "base = [y_train.mean()] * len(y_train)\n",
        "mean_absolute_error(y_train, base)"
      ],
      "metadata": {
        "colab": {
          "base_uri": "https://localhost:8080/"
        },
        "id": "aT3d58RlFP2j",
        "outputId": "c516b1cd-3417-45ce-8421-ab817fcb9759"
      },
      "execution_count": 6,
      "outputs": [
        {
          "output_type": "execute_result",
          "data": {
            "text/plain": [
              "25.99009040899154"
            ]
          },
          "metadata": {},
          "execution_count": 6
        }
      ]
    },
    {
      "cell_type": "code",
      "source": [
        "np.sqrt(mean_squared_error(y_train,base))"
      ],
      "metadata": {
        "colab": {
          "base_uri": "https://localhost:8080/"
        },
        "id": "N4aRF8Tu2K7y",
        "outputId": "e94629a7-fa92-4dba-8320-edbe87194147"
      },
      "execution_count": 7,
      "outputs": [
        {
          "output_type": "execute_result",
          "data": {
            "text/plain": [
              "34.62060582117575"
            ]
          },
          "metadata": {},
          "execution_count": 7
        }
      ]
    },
    {
      "cell_type": "markdown",
      "source": [
        "### 회귀트리"
      ],
      "metadata": {
        "id": "2twLxfBAXu_v"
      }
    },
    {
      "cell_type": "markdown",
      "source": [
        "#### 교차검증 평가지표"
      ],
      "metadata": {
        "id": "Locy8eFdRtl1"
      }
    },
    {
      "cell_type": "code",
      "source": [
        "def get_model_cv_r2(model, x_train,y_train):\n",
        "  r2_scores = cross_val_score(model, x_train, y_train, scoring=\"r2\", cv = 5)\n",
        "  r2_score = np.mean(r2_scores)\n",
        "  print('##### ',model[2] , ' #####')\n",
        "  print(' 5 교차 검증의 평균 R2 : {0:.3f} '.format(r2_score))"
      ],
      "metadata": {
        "id": "zF-HvkiuLKPR"
      },
      "execution_count": 8,
      "outputs": []
    },
    {
      "cell_type": "code",
      "source": [
        "def get_model_cv_mse(model, x_train,y_train):\n",
        "  neg_mse_scores = cross_val_score(model, x_train, y_train, scoring=\"neg_mean_squared_error\", cv = 5)\n",
        "  rmse_scores  = np.sqrt(-1 * neg_mse_scores)\n",
        "  avg_rmse = np.mean(rmse_scores)\n",
        "  print('##### ',model[2] , ' #####')\n",
        "  print(' 5 교차 검증의 평균 RMSE : {0:.3f} '.format(avg_rmse))"
      ],
      "metadata": {
        "id": "Olei_7VRRxpn"
      },
      "execution_count": 9,
      "outputs": []
    },
    {
      "cell_type": "code",
      "source": [
        "def get_model_cv_mae(model, x_train,y_train):\n",
        "  neg_mae_scores = cross_val_score(model, x_train, y_train, scoring=\"neg_mean_absolute_error\", cv = 5)\n",
        "  mae_scores  = -1 * neg_mae_scores\n",
        "  avg_mae = np.mean(mae_scores)\n",
        "  print('##### ',model[2] , ' #####')\n",
        "  print(' 5 교차 검증의 평균 MAE : {0:.3f} '.format(avg_mae))"
      ],
      "metadata": {
        "id": "RnK0BZYJX6_X"
      },
      "execution_count": 10,
      "outputs": []
    },
    {
      "cell_type": "markdown",
      "source": [
        "#### randomforestregessor"
      ],
      "metadata": {
        "id": "ApUPF5SPYgDQ"
      }
    },
    {
      "cell_type": "code",
      "source": [
        "pipe_random = make_pipeline(\n",
        "    OrdinalEncoder(),\n",
        "    StandardScaler(),\n",
        "    RandomForestRegressor(random_state=42,n_estimators=100)\n",
        ")\n",
        "\n",
        "pipe_random.fit(x_train,y_train)"
      ],
      "metadata": {
        "id": "Xrmr0XZoTJtG"
      },
      "execution_count": null,
      "outputs": []
    },
    {
      "cell_type": "code",
      "source": [
        "get_model_cv_mse(pipe_random,x_train,y_train)"
      ],
      "metadata": {
        "colab": {
          "base_uri": "https://localhost:8080/"
        },
        "id": "adXaMocrT6Dm",
        "outputId": "fd06feb9-7308-478d-b3c5-29464d4d51d5"
      },
      "execution_count": null,
      "outputs": [
        {
          "output_type": "stream",
          "name": "stdout",
          "text": [
            "#####  RandomForestRegressor(random_state=42)  #####\n",
            " 5 교차 검증의 평균 RMSE : 20.727 \n"
          ]
        }
      ]
    },
    {
      "cell_type": "code",
      "source": [
        "get_model_cv_r2(pipe_random,x_train,y_train)"
      ],
      "metadata": {
        "colab": {
          "base_uri": "https://localhost:8080/"
        },
        "id": "jRW0nlWOLeT3",
        "outputId": "36c5d651-3787-4f92-ba8b-d711ef624599"
      },
      "execution_count": 14,
      "outputs": [
        {
          "output_type": "stream",
          "name": "stdout",
          "text": [
            "#####  RandomForestRegressor(random_state=42)  #####\n",
            " 5 교차 검증의 평균 R2 : 0.641 \n"
          ]
        }
      ]
    },
    {
      "cell_type": "markdown",
      "source": [
        "#### randomcv(randomforest)"
      ],
      "metadata": {
        "id": "dLetwRVXakVr"
      }
    },
    {
      "cell_type": "code",
      "source": [
        "from sklearn.model_selection import RandomizedSearchCV\n",
        "\n",
        "pipe_random = make_pipeline(\n",
        "    OrdinalEncoder(),\n",
        "    StandardScaler(),\n",
        "    RandomForestRegressor(random_state=42,n_estimators=100)\n",
        ")\n",
        "\n",
        "\n",
        "param_dist = {\n",
        "    'randomforestregressor__criterion':['mse','mae'], \n",
        "    'randomforestregressor__max_depth':[None,3,5,7], \n",
        "    'randomforestregressor__max_leaf_nodes':[None,3,4,5], \n",
        "    'randomforestregressor__min_samples_split':[2,3,4,5], \n",
        "    'randomforestregressor__min_samples_leaf':[1,2,3,4], \n",
        "    'randomforestregressor__max_features':[None,'sqrt','log2',3,4]\n",
        "    }\n",
        "\n",
        "rand_search = RandomizedSearchCV(pipe_random, param_distributions = param_dist, n_iter = 50, cv = 5, refit=True)\n",
        "rand_search.fit(x_train, y_train)"
      ],
      "metadata": {
        "id": "qIkEuDGlaoQt"
      },
      "execution_count": null,
      "outputs": []
    },
    {
      "cell_type": "code",
      "source": [
        "print('best parameters : ', rand_search.best_params_)\n",
        "print('best score : ', round(rand_search.best_score_, 4))"
      ],
      "metadata": {
        "colab": {
          "base_uri": "https://localhost:8080/"
        },
        "id": "lNFb4A9obR2L",
        "outputId": "38245c14-cd21-4e0d-a194-fb7e0f0aabba"
      },
      "execution_count": null,
      "outputs": [
        {
          "output_type": "stream",
          "name": "stdout",
          "text": [
            "best parameters :  {'randomforestregressor__min_samples_split': 4, 'randomforestregressor__min_samples_leaf': 1, 'randomforestregressor__max_leaf_nodes': None, 'randomforestregressor__max_features': 4, 'randomforestregressor__max_depth': None, 'randomforestregressor__criterion': 'mse'}\n",
            "best score :  0.6447\n"
          ]
        }
      ]
    },
    {
      "cell_type": "markdown",
      "source": [
        "----------\n",
        "##### randomforestcv"
      ],
      "metadata": {
        "id": "IU00kOL42QRq"
      }
    },
    {
      "cell_type": "code",
      "source": [
        "cv_random=make_pipeline(\n",
        "    OrdinalEncoder(),\n",
        "    StandardScaler(),\n",
        "    RandomForestRegressor(min_samples_split=4,\n",
        "                          min_samples_leaf=1,\n",
        "                          max_features=4,\n",
        "                          criterion='mse',\n",
        "                          random_state=42)\n",
        ")\n",
        "\n",
        "cv_random.fit(x_train,y_train)"
      ],
      "metadata": {
        "id": "JhfdI_Hj2P84"
      },
      "execution_count": null,
      "outputs": []
    },
    {
      "cell_type": "code",
      "source": [
        "get_model_cv_r2(cv_random,x_train,y_train)\n",
        "get_model_cv_mse(cv_random,x_train,y_train)\n",
        "get_model_cv_mae(cv_random,x_train,y_train)"
      ],
      "metadata": {
        "colab": {
          "base_uri": "https://localhost:8080/"
        },
        "id": "s2bf-j96MItt",
        "outputId": "989bf7f1-2715-4677-ed27-d163c578468e"
      },
      "execution_count": 16,
      "outputs": [
        {
          "output_type": "stream",
          "name": "stderr",
          "text": [
            "/usr/local/lib/python3.8/dist-packages/sklearn/ensemble/_forest.py:396: FutureWarning: Criterion 'mse' was deprecated in v1.0 and will be removed in version 1.2. Use `criterion='squared_error'` which is equivalent.\n",
            "  warn(\n",
            "/usr/local/lib/python3.8/dist-packages/sklearn/ensemble/_forest.py:396: FutureWarning: Criterion 'mse' was deprecated in v1.0 and will be removed in version 1.2. Use `criterion='squared_error'` which is equivalent.\n",
            "  warn(\n",
            "/usr/local/lib/python3.8/dist-packages/sklearn/ensemble/_forest.py:396: FutureWarning: Criterion 'mse' was deprecated in v1.0 and will be removed in version 1.2. Use `criterion='squared_error'` which is equivalent.\n",
            "  warn(\n",
            "/usr/local/lib/python3.8/dist-packages/sklearn/ensemble/_forest.py:396: FutureWarning: Criterion 'mse' was deprecated in v1.0 and will be removed in version 1.2. Use `criterion='squared_error'` which is equivalent.\n",
            "  warn(\n",
            "/usr/local/lib/python3.8/dist-packages/sklearn/ensemble/_forest.py:396: FutureWarning: Criterion 'mse' was deprecated in v1.0 and will be removed in version 1.2. Use `criterion='squared_error'` which is equivalent.\n",
            "  warn(\n"
          ]
        },
        {
          "output_type": "stream",
          "name": "stdout",
          "text": [
            "#####  RandomForestRegressor(criterion='mse', max_features=4, min_samples_split=4,\n",
            "                      random_state=42)  #####\n",
            " 5 교차 검증의 평균 R2 : 0.651 \n"
          ]
        },
        {
          "output_type": "stream",
          "name": "stderr",
          "text": [
            "/usr/local/lib/python3.8/dist-packages/sklearn/ensemble/_forest.py:396: FutureWarning: Criterion 'mse' was deprecated in v1.0 and will be removed in version 1.2. Use `criterion='squared_error'` which is equivalent.\n",
            "  warn(\n",
            "/usr/local/lib/python3.8/dist-packages/sklearn/ensemble/_forest.py:396: FutureWarning: Criterion 'mse' was deprecated in v1.0 and will be removed in version 1.2. Use `criterion='squared_error'` which is equivalent.\n",
            "  warn(\n",
            "/usr/local/lib/python3.8/dist-packages/sklearn/ensemble/_forest.py:396: FutureWarning: Criterion 'mse' was deprecated in v1.0 and will be removed in version 1.2. Use `criterion='squared_error'` which is equivalent.\n",
            "  warn(\n",
            "/usr/local/lib/python3.8/dist-packages/sklearn/ensemble/_forest.py:396: FutureWarning: Criterion 'mse' was deprecated in v1.0 and will be removed in version 1.2. Use `criterion='squared_error'` which is equivalent.\n",
            "  warn(\n",
            "/usr/local/lib/python3.8/dist-packages/sklearn/ensemble/_forest.py:396: FutureWarning: Criterion 'mse' was deprecated in v1.0 and will be removed in version 1.2. Use `criterion='squared_error'` which is equivalent.\n",
            "  warn(\n"
          ]
        },
        {
          "output_type": "stream",
          "name": "stdout",
          "text": [
            "#####  RandomForestRegressor(criterion='mse', max_features=4, min_samples_split=4,\n",
            "                      random_state=42)  #####\n",
            " 5 교차 검증의 평균 RMSE : 20.445 \n"
          ]
        },
        {
          "output_type": "stream",
          "name": "stderr",
          "text": [
            "/usr/local/lib/python3.8/dist-packages/sklearn/ensemble/_forest.py:396: FutureWarning: Criterion 'mse' was deprecated in v1.0 and will be removed in version 1.2. Use `criterion='squared_error'` which is equivalent.\n",
            "  warn(\n",
            "/usr/local/lib/python3.8/dist-packages/sklearn/ensemble/_forest.py:396: FutureWarning: Criterion 'mse' was deprecated in v1.0 and will be removed in version 1.2. Use `criterion='squared_error'` which is equivalent.\n",
            "  warn(\n",
            "/usr/local/lib/python3.8/dist-packages/sklearn/ensemble/_forest.py:396: FutureWarning: Criterion 'mse' was deprecated in v1.0 and will be removed in version 1.2. Use `criterion='squared_error'` which is equivalent.\n",
            "  warn(\n",
            "/usr/local/lib/python3.8/dist-packages/sklearn/ensemble/_forest.py:396: FutureWarning: Criterion 'mse' was deprecated in v1.0 and will be removed in version 1.2. Use `criterion='squared_error'` which is equivalent.\n",
            "  warn(\n",
            "/usr/local/lib/python3.8/dist-packages/sklearn/ensemble/_forest.py:396: FutureWarning: Criterion 'mse' was deprecated in v1.0 and will be removed in version 1.2. Use `criterion='squared_error'` which is equivalent.\n",
            "  warn(\n"
          ]
        },
        {
          "output_type": "stream",
          "name": "stdout",
          "text": [
            "#####  RandomForestRegressor(criterion='mse', max_features=4, min_samples_split=4,\n",
            "                      random_state=42)  #####\n",
            " 5 교차 검증의 평균 MAE : 13.525 \n"
          ]
        }
      ]
    },
    {
      "cell_type": "markdown",
      "source": [
        "#### decisiontreeregressor"
      ],
      "metadata": {
        "id": "BcRU1vS7Rcoc"
      }
    },
    {
      "cell_type": "code",
      "source": [
        "pipe_decision = make_pipeline(\n",
        "    OrdinalEncoder(),\n",
        "    StandardScaler(),\n",
        "    DecisionTreeRegressor(random_state=42)\n",
        ")\n",
        "\n",
        "pipe_decision.fit(x_train,y_train)"
      ],
      "metadata": {
        "id": "PexF37IIbptQ"
      },
      "execution_count": null,
      "outputs": []
    },
    {
      "cell_type": "code",
      "source": [
        "get_model_cv_r2(pipe_decision,x_train,y_train)\n",
        "get_model_cv_mse(pipe_decision,x_train,y_train)\n",
        "get_model_cv_mae(pipe_decision,x_train,y_train)"
      ],
      "metadata": {
        "colab": {
          "base_uri": "https://localhost:8080/"
        },
        "id": "LyxyEwDJTYlR",
        "outputId": "208aa540-9faf-426c-bf36-5e9ef73f5095"
      },
      "execution_count": 18,
      "outputs": [
        {
          "output_type": "stream",
          "name": "stdout",
          "text": [
            "#####  DecisionTreeRegressor(random_state=42)  #####\n",
            " 5 교차 검증의 평균 R2 : 0.471 \n",
            "#####  DecisionTreeRegressor(random_state=42)  #####\n",
            " 5 교차 검증의 평균 RMSE : 25.174 \n",
            "#####  DecisionTreeRegressor(random_state=42)  #####\n",
            " 5 교차 검증의 평균 MAE : 15.323 \n"
          ]
        }
      ]
    },
    {
      "cell_type": "markdown",
      "source": [
        "#### GradientBoostingRegressor"
      ],
      "metadata": {
        "id": "It3cnwSlW3-Z"
      }
    },
    {
      "cell_type": "code",
      "source": [
        "pipe_gradient = make_pipeline(\n",
        "    OrdinalEncoder(),\n",
        "    StandardScaler(),\n",
        "    GradientBoostingRegressor(random_state=42)\n",
        ")\n",
        "\n",
        "pipe_gradient.fit(x_train,y_train)"
      ],
      "metadata": {
        "id": "UmTT4XryV01f"
      },
      "execution_count": null,
      "outputs": []
    },
    {
      "cell_type": "code",
      "source": [
        "get_model_cv_r2(pipe_gradient,x_train,y_train)\n",
        "get_model_cv_mae(pipe_gradient,x_train,y_train)\n",
        "get_model_cv_mse(pipe_gradient,x_train,y_train)"
      ],
      "metadata": {
        "colab": {
          "base_uri": "https://localhost:8080/"
        },
        "id": "0gW91RY1XJkR",
        "outputId": "ae86bf8b-f3c6-4dd4-e04b-e248dbdd2fb7"
      },
      "execution_count": 20,
      "outputs": [
        {
          "output_type": "stream",
          "name": "stdout",
          "text": [
            "#####  GradientBoostingRegressor(random_state=42)  #####\n",
            " 5 교차 검증의 평균 R2 : 0.636 \n",
            "#####  GradientBoostingRegressor(random_state=42)  #####\n",
            " 5 교차 검증의 평균 MAE : 14.389 \n",
            "#####  GradientBoostingRegressor(random_state=42)  #####\n",
            " 5 교차 검증의 평균 RMSE : 20.867 \n"
          ]
        }
      ]
    },
    {
      "cell_type": "markdown",
      "source": [
        "#### XGBRegressor"
      ],
      "metadata": {
        "id": "YWWLxBooxOBW"
      }
    },
    {
      "cell_type": "code",
      "source": [
        "pipe_xgb = make_pipeline(\n",
        "    OrdinalEncoder(),\n",
        "    StandardScaler(),\n",
        "    XGBRegressor(random_state=42 ,reg_lambda=1,gamma=0)\n",
        ")\n",
        "\n",
        "pipe_xgb.fit(x_train,y_train)"
      ],
      "metadata": {
        "id": "FDL6JdDhyZJW"
      },
      "execution_count": null,
      "outputs": []
    },
    {
      "cell_type": "code",
      "source": [
        "get_model_cv_mae(pipe_xgb,x_train,y_train)\n",
        "get_model_cv_mse(pipe_xgb,x_train,y_train)\n",
        "get_model_cv_r2(pipe_xgb,x_train,y_train)\n"
      ],
      "metadata": {
        "colab": {
          "base_uri": "https://localhost:8080/"
        },
        "id": "YWPrVmBUzhtL",
        "outputId": "2c1a79c8-92cb-4562-97db-37df8e64375f"
      },
      "execution_count": 22,
      "outputs": [
        {
          "output_type": "stream",
          "name": "stdout",
          "text": [
            "[14:21:53] WARNING: /workspace/src/objective/regression_obj.cu:152: reg:linear is now deprecated in favor of reg:squarederror.\n",
            "[14:21:53] WARNING: /workspace/src/objective/regression_obj.cu:152: reg:linear is now deprecated in favor of reg:squarederror.\n",
            "[14:21:54] WARNING: /workspace/src/objective/regression_obj.cu:152: reg:linear is now deprecated in favor of reg:squarederror.\n",
            "[14:21:55] WARNING: /workspace/src/objective/regression_obj.cu:152: reg:linear is now deprecated in favor of reg:squarederror.\n",
            "[14:21:55] WARNING: /workspace/src/objective/regression_obj.cu:152: reg:linear is now deprecated in favor of reg:squarederror.\n",
            "#####  XGBRegressor(random_state=42)  #####\n",
            " 5 교차 검증의 평균 MAE : 14.387 \n",
            "[14:21:55] WARNING: /workspace/src/objective/regression_obj.cu:152: reg:linear is now deprecated in favor of reg:squarederror.\n",
            "[14:21:56] WARNING: /workspace/src/objective/regression_obj.cu:152: reg:linear is now deprecated in favor of reg:squarederror.\n",
            "[14:21:56] WARNING: /workspace/src/objective/regression_obj.cu:152: reg:linear is now deprecated in favor of reg:squarederror.\n",
            "[14:21:56] WARNING: /workspace/src/objective/regression_obj.cu:152: reg:linear is now deprecated in favor of reg:squarederror.\n",
            "[14:21:57] WARNING: /workspace/src/objective/regression_obj.cu:152: reg:linear is now deprecated in favor of reg:squarederror.\n",
            "#####  XGBRegressor(random_state=42)  #####\n",
            " 5 교차 검증의 평균 RMSE : 20.863 \n",
            "[14:21:57] WARNING: /workspace/src/objective/regression_obj.cu:152: reg:linear is now deprecated in favor of reg:squarederror.\n",
            "[14:21:57] WARNING: /workspace/src/objective/regression_obj.cu:152: reg:linear is now deprecated in favor of reg:squarederror.\n",
            "[14:21:58] WARNING: /workspace/src/objective/regression_obj.cu:152: reg:linear is now deprecated in favor of reg:squarederror.\n",
            "[14:21:58] WARNING: /workspace/src/objective/regression_obj.cu:152: reg:linear is now deprecated in favor of reg:squarederror.\n",
            "[14:21:58] WARNING: /workspace/src/objective/regression_obj.cu:152: reg:linear is now deprecated in favor of reg:squarederror.\n",
            "#####  XGBRegressor(random_state=42)  #####\n",
            " 5 교차 검증의 평균 R2 : 0.636 \n"
          ]
        }
      ]
    },
    {
      "cell_type": "markdown",
      "source": [
        "#### LGBMRegressor"
      ],
      "metadata": {
        "id": "cRIFcBWM0tWW"
      }
    },
    {
      "cell_type": "code",
      "source": [
        "from lightgbm import LGBMRegressor\n",
        "\n",
        "pipe_lgb=make_pipeline(\n",
        "    OrdinalEncoder(),\n",
        "    StandardScaler(),\n",
        "    LGBMRegressor(random_state=42,learning_rate=0.12,n_estimators=30)\n",
        ")\n",
        "\n",
        "pipe_lgb.fit(x_train,y_train)"
      ],
      "metadata": {
        "id": "X2qUzAx80F1S"
      },
      "execution_count": null,
      "outputs": []
    },
    {
      "cell_type": "code",
      "source": [
        "get_model_cv_mae(pipe_lgb,x_train,y_train)\n",
        "get_model_cv_mse(pipe_lgb,x_train,y_train)\n",
        "get_model_cv_r2(pipe_lgb,x_train,y_train)"
      ],
      "metadata": {
        "colab": {
          "base_uri": "https://localhost:8080/"
        },
        "id": "_IF8G9R51Z4V",
        "outputId": "23ecbb2d-935d-4e58-8377-2332aae8ca37"
      },
      "execution_count": 24,
      "outputs": [
        {
          "output_type": "stream",
          "name": "stdout",
          "text": [
            "#####  LGBMRegressor(learning_rate=0.12, n_estimators=30, random_state=42)  #####\n",
            " 5 교차 검증의 평균 MAE : 14.018 \n",
            "#####  LGBMRegressor(learning_rate=0.12, n_estimators=30, random_state=42)  #####\n",
            " 5 교차 검증의 평균 RMSE : 20.421 \n",
            "#####  LGBMRegressor(learning_rate=0.12, n_estimators=30, random_state=42)  #####\n",
            " 5 교차 검증의 평균 R2 : 0.652 \n"
          ]
        }
      ]
    },
    {
      "cell_type": "markdown",
      "source": [
        "#### randomsearchvs(lgb)"
      ],
      "metadata": {
        "id": "quVrvScAdjh-"
      }
    },
    {
      "cell_type": "code",
      "source": [
        "from sklearn.model_selection import RandomizedSearchCV\n",
        "\n",
        "pipe_lgb=make_pipeline(\n",
        "    OrdinalEncoder(),\n",
        "    StandardScaler(),\n",
        "    LGBMRegressor(random_state=42)\n",
        ")\n",
        "\n",
        "param_dist = {\n",
        "    'lgbmregressor__boosting_type':['gbdt','dart','rf'], \n",
        "    'lgbmregressor__max_depth':[None,2,4,5,6], \n",
        "    'lgbmregressor__num_leaves':[None,4,6,8], \n",
        "    'lgbmregressor__n_estimators':[None,30,50,100], \n",
        "    'lgbmregressor__min_child_samples':[1,3,5], \n",
        "    'lgbmregressor__learning_rate':[0.1,0.13,0.16]\n",
        "    }\n",
        "\n",
        "lgb_search = RandomizedSearchCV(pipe_lgb, param_distributions = param_dist, n_iter = 50, cv = 5, refit=True)\n",
        "lgb_search.fit(x_train, y_train)"
      ],
      "metadata": {
        "id": "CRdGaaQhFNAS"
      },
      "execution_count": null,
      "outputs": []
    },
    {
      "cell_type": "code",
      "source": [
        "print(lgb_search.best_score_)\n",
        "print(lgb_search.best_params_)"
      ],
      "metadata": {
        "colab": {
          "base_uri": "https://localhost:8080/"
        },
        "id": "zojo1cAx1Jmz",
        "outputId": "96d8f2db-76e6-4b2c-a4e2-0b6b744828d2"
      },
      "execution_count": 44,
      "outputs": [
        {
          "output_type": "stream",
          "name": "stdout",
          "text": [
            "0.6671901576767826\n",
            "{'lgbmregressor__num_leaves': None, 'lgbmregressor__n_estimators': 100, 'lgbmregressor__min_child_samples': 3, 'lgbmregressor__max_depth': 4, 'lgbmregressor__learning_rate': 0.16, 'lgbmregressor__boosting_type': 'gbdt'}\n"
          ]
        }
      ]
    },
    {
      "cell_type": "markdown",
      "source": [
        "##### lgb-test"
      ],
      "metadata": {
        "id": "Guway0Iu9ZOR"
      }
    },
    {
      "cell_type": "code",
      "source": [
        "cv_lgb=make_pipeline(\n",
        "    OrdinalEncoder(),\n",
        "    StandardScaler(),\n",
        "    LGBMRegressor(random_state=42,learning_rate=0.16,n_estimators=100,\n",
        "                  num_leaves=None, min_child_samples=3,max_depth=4,\n",
        "                  boosting_type='gbdt'\n",
        "                  )\n",
        ")\n",
        "\n",
        "cv_lgb.fit(x_train,y_train)"
      ],
      "metadata": {
        "id": "4OKaxbi59b00"
      },
      "execution_count": null,
      "outputs": []
    },
    {
      "cell_type": "code",
      "source": [
        "get_model_cv_mse(cv_lgb,x_train,y_train)\n",
        "get_model_cv_mae(cv_lgb,x_train,y_train)\n",
        "get_model_cv_r2(cv_lgb,x_train,y_train)"
      ],
      "metadata": {
        "colab": {
          "base_uri": "https://localhost:8080/"
        },
        "id": "yABZsv49NzlT",
        "outputId": "6b7f4b93-1ad6-4ff5-96a2-835ca5fb11f2"
      },
      "execution_count": 48,
      "outputs": [
        {
          "output_type": "stream",
          "name": "stdout",
          "text": [
            "#####  LGBMRegressor(learning_rate=0.16, max_depth=4, min_child_samples=3,\n",
            "              num_leaves=None, random_state=42)  #####\n",
            " 5 교차 검증의 평균 RMSE : 19.907 \n",
            "#####  LGBMRegressor(learning_rate=0.16, max_depth=4, min_child_samples=3,\n",
            "              num_leaves=None, random_state=42)  #####\n",
            " 5 교차 검증의 평균 MAE : 13.625 \n",
            "#####  LGBMRegressor(learning_rate=0.16, max_depth=4, min_child_samples=3,\n",
            "              num_leaves=None, random_state=42)  #####\n",
            " 5 교차 검증의 평균 R2 : 0.669 \n"
          ]
        }
      ]
    },
    {
      "cell_type": "markdown",
      "source": [
        "- 테스트"
      ],
      "metadata": {
        "id": "d2XiEJ81dCdf"
      }
    },
    {
      "cell_type": "code",
      "source": [
        "test = cv_lgb.predict(x_test)\n",
        "r2_score(y_test,test)"
      ],
      "metadata": {
        "colab": {
          "base_uri": "https://localhost:8080/"
        },
        "id": "bodRygGe-FHQ",
        "outputId": "097c450f-cbd7-463f-bc29-82c15a8d29f7"
      },
      "execution_count": 49,
      "outputs": [
        {
          "output_type": "execute_result",
          "data": {
            "text/plain": [
              "0.6782525989855432"
            ]
          },
          "metadata": {},
          "execution_count": 49
        }
      ]
    },
    {
      "cell_type": "code",
      "source": [
        "np.sqrt(mean_squared_error(y_test,test))"
      ],
      "metadata": {
        "colab": {
          "base_uri": "https://localhost:8080/"
        },
        "id": "57C4HV7U-VZ-",
        "outputId": "70235714-8364-4e6c-e03b-9c4ec136c10d"
      },
      "execution_count": 50,
      "outputs": [
        {
          "output_type": "execute_result",
          "data": {
            "text/plain": [
              "20.58197698654989"
            ]
          },
          "metadata": {},
          "execution_count": 50
        }
      ]
    },
    {
      "cell_type": "code",
      "source": [
        "mean_absolute_error(y_test,test)"
      ],
      "metadata": {
        "colab": {
          "base_uri": "https://localhost:8080/"
        },
        "id": "B2ate-Jd-a31",
        "outputId": "c2b8dbc6-ad9f-4b53-c366-c3939dd0199d"
      },
      "execution_count": 51,
      "outputs": [
        {
          "output_type": "execute_result",
          "data": {
            "text/plain": [
              "14.035058319909117"
            ]
          },
          "metadata": {},
          "execution_count": 51
        }
      ]
    },
    {
      "cell_type": "markdown",
      "source": [
        "### 특성중요도"
      ],
      "metadata": {
        "id": "O30vrO89-oqD"
      }
    },
    {
      "cell_type": "code",
      "source": [
        "!pip3 install eli5"
      ],
      "metadata": {
        "id": "RKAif_GKbZiM"
      },
      "execution_count": null,
      "outputs": []
    },
    {
      "cell_type": "code",
      "source": [
        "from sklearn.pipeline import Pipeline\n",
        "\n",
        "pipe = Pipeline([\n",
        "    ('preprocessing', make_pipeline(OrdinalEncoder(), StandardScaler())),\n",
        "    ('lgbm', LGBMRegressor(earning_rate=0.16, max_depth=4,\n",
        "                               min_child_samples=3, num_leaves=None,\n",
        "                               random_state=42)) \n",
        "])\n",
        "\n",
        "pipe.fit(x_train,y_train)\n",
        "\n",
        "import eli5\n",
        "from eli5.sklearn import PermutationImportance\n",
        "\n",
        "permuter = PermutationImportance(\n",
        "    pipe.named_steps['lgbm'], \n",
        "    scoring='r2', \n",
        "    n_iter=5, \n",
        "    random_state=42\n",
        ")\n",
        "\n",
        "X_test_transformed = pipe.named_steps['preprocessing'].fit_transform(x_test)\n",
        "\n",
        "# 스코어를 다시 계산\n",
        "permuter.fit(X_test_transformed, y_test);\n",
        "feature_names = x_train.columns.tolist()\n",
        "eli5.show_weights(\n",
        "    permuter, \n",
        "    top=None, # top n 지정 가능, None 일 경우 모든 특성 \n",
        "    feature_names=feature_names # list 형식"
      ],
      "metadata": {
        "colab": {
          "base_uri": "https://localhost:8080/",
          "height": 104
        },
        "id": "R6s1IjN4gWx4",
        "outputId": "f312072c-31f4-4d8a-8c0d-775b517dbb0e"
      },
      "execution_count": 87,
      "outputs": [
        {
          "output_type": "execute_result",
          "data": {
            "text/plain": [
              "<IPython.core.display.HTML object>"
            ],
            "text/html": [
              "\n",
              "    <style>\n",
              "    table.eli5-weights tr:hover {\n",
              "        filter: brightness(85%);\n",
              "    }\n",
              "</style>\n",
              "\n",
              "\n",
              "\n",
              "    \n",
              "\n",
              "    \n",
              "\n",
              "    \n",
              "\n",
              "    \n",
              "\n",
              "    \n",
              "\n",
              "    \n",
              "\n",
              "\n",
              "    \n",
              "\n",
              "    \n",
              "\n",
              "    \n",
              "\n",
              "    \n",
              "\n",
              "    \n",
              "\n",
              "    \n",
              "\n",
              "\n",
              "    \n",
              "\n",
              "    \n",
              "\n",
              "    \n",
              "\n",
              "    \n",
              "\n",
              "    \n",
              "        <table class=\"eli5-weights eli5-feature-importances\" style=\"border-collapse: collapse; border: none; margin-top: 0em; table-layout: auto;\">\n",
              "    <thead>\n",
              "    <tr style=\"border: none;\">\n",
              "        <th style=\"padding: 0 1em 0 0.5em; text-align: right; border: none;\">Weight</th>\n",
              "        <th style=\"padding: 0 0.5em 0 0.5em; text-align: left; border: none;\">Feature</th>\n",
              "    </tr>\n",
              "    </thead>\n",
              "    <tbody>\n",
              "    \n",
              "        <tr style=\"background-color: hsl(120, 100.00%, 80.00%); border: none;\">\n",
              "            <td style=\"padding: 0 1em 0 0.5em; text-align: right; border: none;\">\n",
              "                0.8106\n",
              "                \n",
              "                    &plusmn; 0.0263\n",
              "                \n",
              "            </td>\n",
              "            <td style=\"padding: 0 0.5em 0 0.5em; text-align: left; border: none;\">\n",
              "                평수(평)\n",
              "            </td>\n",
              "        </tr>\n",
              "    \n",
              "        <tr style=\"background-color: hsl(120, 100.00%, 89.38%); border: none;\">\n",
              "            <td style=\"padding: 0 1em 0 0.5em; text-align: right; border: none;\">\n",
              "                0.3282\n",
              "                \n",
              "                    &plusmn; 0.0141\n",
              "                \n",
              "            </td>\n",
              "            <td style=\"padding: 0 0.5em 0 0.5em; text-align: left; border: none;\">\n",
              "                보증금\n",
              "            </td>\n",
              "        </tr>\n",
              "    \n",
              "        <tr style=\"background-color: hsl(120, 100.00%, 98.04%); border: none;\">\n",
              "            <td style=\"padding: 0 1em 0 0.5em; text-align: right; border: none;\">\n",
              "                0.0293\n",
              "                \n",
              "                    &plusmn; 0.0089\n",
              "                \n",
              "            </td>\n",
              "            <td style=\"padding: 0 0.5em 0 0.5em; text-align: left; border: none;\">\n",
              "                자치구\n",
              "            </td>\n",
              "        </tr>\n",
              "    \n",
              "        <tr style=\"background-color: hsl(0, 100.00%, 99.96%); border: none;\">\n",
              "            <td style=\"padding: 0 1em 0 0.5em; text-align: right; border: none;\">\n",
              "                -0.0001\n",
              "                \n",
              "                    &plusmn; 0.0146\n",
              "                \n",
              "            </td>\n",
              "            <td style=\"padding: 0 0.5em 0 0.5em; text-align: left; border: none;\">\n",
              "                분류\n",
              "            </td>\n",
              "        </tr>\n",
              "    \n",
              "    \n",
              "    </tbody>\n",
              "</table>\n",
              "    \n",
              "\n",
              "    \n",
              "\n",
              "\n",
              "    \n",
              "\n",
              "    \n",
              "\n",
              "    \n",
              "\n",
              "    \n",
              "\n",
              "    \n",
              "\n",
              "    \n",
              "\n",
              "\n",
              "\n"
            ]
          },
          "metadata": {},
          "execution_count": 87
        }
      ]
    },
    {
      "cell_type": "markdown",
      "source": [
        "- lightgbm에 특성중요도를 split, gain 방식이 있어 사용해봄\n",
        "- 그런데 특성중요도는 0~1 사이만 존재하는 것이 아닌가?\n",
        "  - 왜 나는 0이상의 값이 나오는지 궁금하다"
      ],
      "metadata": {
        "id": "zE8L2t_mdP76"
      }
    },
    {
      "cell_type": "code",
      "source": [
        "import lightgbm as lgb\n",
        "\n",
        "ax = lgb.plot_importance(cv_lgb[2], max_num_features=len(x_train.columns), importance_type='split')\n",
        "ax.set(title=f'Feature Importance (split)',\n",
        "\txlabel='Feature Importance',\n",
        "\tylabel='Features')\n",
        "plt.figure(figsize=(10,10))"
      ],
      "metadata": {
        "colab": {
          "base_uri": "https://localhost:8080/",
          "height": 331
        },
        "id": "me7RznqKZlWa",
        "outputId": "9a162029-7ba0-4783-bdd5-ffd2a8cbc795"
      },
      "execution_count": 71,
      "outputs": [
        {
          "output_type": "execute_result",
          "data": {
            "text/plain": [
              "<Figure size 720x720 with 0 Axes>"
            ]
          },
          "metadata": {},
          "execution_count": 71
        },
        {
          "output_type": "display_data",
          "data": {
            "text/plain": [
              "<Figure size 432x288 with 1 Axes>"
            ],
            "image/png": "[encoded data removed]"
          },
          "metadata": {
            "needs_background": "light"
          }
        },
        {
          "output_type": "display_data",
          "data": {
            "text/plain": [
              "<Figure size 720x720 with 0 Axes>"
            ]
          },
          "metadata": {}
        }
      ]
    },
    {
      "cell_type": "markdown",
      "source": [
        "## 최종 예측 모델 만들기\n",
        "- train,test 합쳐 LGBM 모델에 넣어 다시 학습 진행"
      ],
      "metadata": {
        "id": "vJ0SyQIO20RG"
      }
    },
    {
      "cell_type": "code",
      "source": [
        "x= pd.concat([x_train,x_test])\n",
        "y= pd.concat([y_train,y_test])"
      ],
      "metadata": {
        "id": "PioQH9bk3CEk"
      },
      "execution_count": 92,
      "outputs": []
    },
    {
      "cell_type": "code",
      "source": [
        "cv_lgb.fit(x,y)"
      ],
      "metadata": {
        "colab": {
          "base_uri": "https://localhost:8080/"
        },
        "id": "5ghpD_6W6GSZ",
        "outputId": "c29973db-bee7-4b0b-a406-5e16b4cef597"
      },
      "execution_count": 101,
      "outputs": [
        {
          "output_type": "execute_result",
          "data": {
            "text/plain": [
              "Pipeline(steps=[('ordinalencoder',\n",
              "                 OrdinalEncoder(cols=['자치구', '분류'],\n",
              "                                mapping=[{'col': '자치구', 'data_type': dtype('O'),\n",
              "                                          'mapping': 강북구      1\n",
              "동대문구     2\n",
              "서대문구     3\n",
              "광진구      4\n",
              "송파구      5\n",
              "양천구      6\n",
              "금천구      7\n",
              "은평구      8\n",
              "동작구      9\n",
              "구로구     10\n",
              "성동구     11\n",
              "강서구     12\n",
              "노원구     13\n",
              "영등포구    14\n",
              "성북구     15\n",
              "용산구     16\n",
              "중구      17\n",
              "중랑구     18\n",
              "종로구     19\n",
              "관악구     20\n",
              "강남구     21\n",
              "마포구     22\n",
              "강동구     23\n",
              "도봉구     24\n",
              "서초구     25\n",
              "NaN     -2\n",
              "dtype: int64},\n",
              "                                         {'col': '분류', 'data_type': dtype('O'),\n",
              "                                          'mapping': 고      1\n",
              "반지하    2\n",
              "중      3\n",
              "옥탑방    4\n",
              "저      5\n",
              "NaN   -2\n",
              "dtype: int64}])),\n",
              "                ('standardscaler', StandardScaler()),\n",
              "                ('lgbmregressor',\n",
              "                 LGBMRegressor(learning_rate=0.16, max_depth=4,\n",
              "                               min_child_samples=3, num_leaves=None,\n",
              "                               random_state=42))])"
            ]
          },
          "metadata": {},
          "execution_count": 101
        }
      ]
    },
    {
      "cell_type": "code",
      "source": [
        "y_pred = cv_lgb.predict(x)\n",
        "y_pred"
      ],
      "metadata": {
        "colab": {
          "base_uri": "https://localhost:8080/"
        },
        "id": "DQQ_g4T027Dd",
        "outputId": "010275c6-c311-43d1-c3fb-5417453e58ed"
      },
      "execution_count": 102,
      "outputs": [
        {
          "output_type": "execute_result",
          "data": {
            "text/plain": [
              "array([33.14230672, 37.63627513, 50.95949976, ..., 38.8704319 ,\n",
              "       46.60383551, 66.4195325 ])"
            ]
          },
          "metadata": {},
          "execution_count": 102
        }
      ]
    },
    {
      "cell_type": "code",
      "source": [
        "r2_score(y,y_pred)"
      ],
      "metadata": {
        "colab": {
          "base_uri": "https://localhost:8080/"
        },
        "id": "s0Na_mRR3z-s",
        "outputId": "aa8b7f7a-f4f5-4c09-cebb-06b7a8261e29"
      },
      "execution_count": 103,
      "outputs": [
        {
          "output_type": "execute_result",
          "data": {
            "text/plain": [
              "0.7087853898507752"
            ]
          },
          "metadata": {},
          "execution_count": 103
        }
      ]
    },
    {
      "cell_type": "code",
      "source": [
        "mean_absolute_error(y,y_pred)"
      ],
      "metadata": {
        "colab": {
          "base_uri": "https://localhost:8080/"
        },
        "id": "LhJsTYeJ4M8R",
        "outputId": "5ffb1085-ea6f-43a4-c96e-5afdd49dbec2"
      },
      "execution_count": 104,
      "outputs": [
        {
          "output_type": "execute_result",
          "data": {
            "text/plain": [
              "13.047241321455408"
            ]
          },
          "metadata": {},
          "execution_count": 104
        }
      ]
    },
    {
      "cell_type": "code",
      "source": [
        "np.sqrt(mean_squared_error(y,y_pred))"
      ],
      "metadata": {
        "colab": {
          "base_uri": "https://localhost:8080/"
        },
        "id": "KUyjRDU04Qmu",
        "outputId": "07b84a3f-8c96-47fa-8585-56fb6eccc2bc"
      },
      "execution_count": 105,
      "outputs": [
        {
          "output_type": "execute_result",
          "data": {
            "text/plain": [
              "18.911958422273663"
            ]
          },
          "metadata": {},
          "execution_count": 105
        }
      ]
    },
    {
      "cell_type": "markdown",
      "source": [
        "- 실제 예측해보기"
      ],
      "metadata": {
        "id": "ntu_SBgXdy-2"
      }
    },
    {
      "cell_type": "code",
      "source": [
        "#자치구\n",
        "cv_lgb.predict([{'자치구':15,'보증금':500,'분류':1,'평수(평)':8}])"
      ],
      "metadata": {
        "colab": {
          "base_uri": "https://localhost:8080/"
        },
        "id": "WTQRqFjn8HUp",
        "outputId": "bff4636e-a86c-45bd-e16b-191666fdf155"
      },
      "execution_count": 107,
      "outputs": [
        {
          "output_type": "execute_result",
          "data": {
            "text/plain": [
              "array([45.55760199])"
            ]
          },
          "metadata": {},
          "execution_count": 107
        }
      ]
    },
    {
      "cell_type": "markdown",
      "source": [
        "## 모델 예측 데이터 재정비(별 차이가 없어서 사용 안함)\n",
        "- 자치구가 너무 많아 행정구역별로 나눠 다시 계산해봄"
      ],
      "metadata": {
        "id": "N4tMiP11fkNc"
      }
    },
    {
      "cell_type": "code",
      "source": [
        "df = pd.read_csv('/content/drive/MyDrive/cp1 1인가구/진짜 끝 월세데이터.csv')\n",
        "df.drop(['Unnamed: 0'], axis=1, inplace=True)\n",
        "df"
      ],
      "metadata": {
        "id": "oYsIekA_fnkz"
      },
      "execution_count": null,
      "outputs": []
    },
    {
      "cell_type": "code",
      "source": [
        "a_city=['종로구', '중구', '용산구']\n",
        "b_city=['성동구', '광진구', '동대문구', '중랑구', '성북구', '강북구', '도봉구', '노원구']\n",
        "c_city=['은평구', '서대문구', '마포구']\n",
        "d_city=['강서구', '양천구', '영등포구', '구로구', '금천구', '관악구', '동작구']\n",
        "e_city=['강남구','강동구','서초구','송파구']\n",
        "total=[]\n",
        "for i in df['자치구']:\n",
        "  if i in a_city:\n",
        "    total.append('도심권')\n",
        "  elif i in b_city:\n",
        "    total.append('동북권')\n",
        "  elif i in c_city :\n",
        "    total.append('서북권')\n",
        "  elif i in d_city:\n",
        "    total.append('서남권')\n",
        "  else:\n",
        "    total.append('동남권')"
      ],
      "metadata": {
        "id": "x2_1KcbPf8CO"
      },
      "execution_count": 12,
      "outputs": []
    },
    {
      "cell_type": "code",
      "source": [
        "df['행정구역']=total\n",
        "df"
      ],
      "metadata": {
        "colab": {
          "base_uri": "https://localhost:8080/",
          "height": 468
        },
        "id": "Z83sb0zRf-JJ",
        "outputId": "05b29bff-9a15-4841-b6b4-a46c32f0ee3e"
      },
      "execution_count": 13,
      "outputs": [
        {
          "output_type": "execute_result",
          "data": {
            "text/plain": [
              "       자치구    보증금  월세  평수(m^2)  건물층  매물층   분류  평수(평) 행정구역\n",
              "0      종로구   1000  60    39.67    2    2    고     12  도심권\n",
              "1      종로구    500  35    30.28    2  반지하  반지하      9  도심권\n",
              "2      종로구    500  40    19.83    3    2    고      6  도심권\n",
              "3      종로구    500  40    23.50    3    1    저      7  도심권\n",
              "4      종로구    500  38    29.75    2  반지하  반지하      9  도심권\n",
              "...    ...    ...  ..      ...  ...  ...  ...    ...  ...\n",
              "13867  송파구  15000  50    37.43    5    2    저     11  동남권\n",
              "13868  송파구   5000  70    62.81    4    3    고     19  동남권\n",
              "13869  송파구   4000  37    26.45    5    4    고      8  동남권\n",
              "13870  송파구    500  30    23.14    3  반지하  반지하      7  동남권\n",
              "13871  송파구    120  40    13.22    5    2    저      4  동남권\n",
              "\n",
              "[13872 rows x 9 columns]"
            ],
            "text/html": [
              "\n",
              "  <div id=\"df-f669eef4-d040-49a4-93a7-5d33b4866a23\">\n",
              "    <div class=\"colab-df-container\">\n",
              "      <div>\n",
              "<style scoped>\n",
              "    .dataframe tbody tr th:only-of-type {\n",
              "        vertical-align: middle;\n",
              "    }\n",
              "\n",
              "    .dataframe tbody tr th {\n",
              "        vertical-align: top;\n",
              "    }\n",
              "\n",
              "    .dataframe thead th {\n",
              "        text-align: right;\n",
              "    }\n",
              "</style>\n",
              "<table border=\"1\" class=\"dataframe\">\n",
              "  <thead>\n",
              "    <tr style=\"text-align: right;\">\n",
              "      <th></th>\n",
              "      <th>자치구</th>\n",
              "      <th>보증금</th>\n",
              "      <th>월세</th>\n",
              "      <th>평수(m^2)</th>\n",
              "      <th>건물층</th>\n",
              "      <th>매물층</th>\n",
              "      <th>분류</th>\n",
              "      <th>평수(평)</th>\n",
              "      <th>행정구역</th>\n",
              "    </tr>\n",
              "  </thead>\n",
              "  <tbody>\n",
              "    <tr>\n",
              "      <th>0</th>\n",
              "      <td>종로구</td>\n",
              "      <td>1000</td>\n",
              "      <td>60</td>\n",
              "      <td>39.67</td>\n",
              "      <td>2</td>\n",
              "      <td>2</td>\n",
              "      <td>고</td>\n",
              "      <td>12</td>\n",
              "      <td>도심권</td>\n",
              "    </tr>\n",
              "    <tr>\n",
              "      <th>1</th>\n",
              "      <td>종로구</td>\n",
              "      <td>500</td>\n",
              "      <td>35</td>\n",
              "      <td>30.28</td>\n",
              "      <td>2</td>\n",
              "      <td>반지하</td>\n",
              "      <td>반지하</td>\n",
              "      <td>9</td>\n",
              "      <td>도심권</td>\n",
              "    </tr>\n",
              "    <tr>\n",
              "      <th>2</th>\n",
              "      <td>종로구</td>\n",
              "      <td>500</td>\n",
              "      <td>40</td>\n",
              "      <td>19.83</td>\n",
              "      <td>3</td>\n",
              "      <td>2</td>\n",
              "      <td>고</td>\n",
              "      <td>6</td>\n",
              "      <td>도심권</td>\n",
              "    </tr>\n",
              "    <tr>\n",
              "      <th>3</th>\n",
              "      <td>종로구</td>\n",
              "      <td>500</td>\n",
              "      <td>40</td>\n",
              "      <td>23.50</td>\n",
              "      <td>3</td>\n",
              "      <td>1</td>\n",
              "      <td>저</td>\n",
              "      <td>7</td>\n",
              "      <td>도심권</td>\n",
              "    </tr>\n",
              "    <tr>\n",
              "      <th>4</th>\n",
              "      <td>종로구</td>\n",
              "      <td>500</td>\n",
              "      <td>38</td>\n",
              "      <td>29.75</td>\n",
              "      <td>2</td>\n",
              "      <td>반지하</td>\n",
              "      <td>반지하</td>\n",
              "      <td>9</td>\n",
              "      <td>도심권</td>\n",
              "    </tr>\n",
              "    <tr>\n",
              "      <th>...</th>\n",
              "      <td>...</td>\n",
              "      <td>...</td>\n",
              "      <td>...</td>\n",
              "      <td>...</td>\n",
              "      <td>...</td>\n",
              "      <td>...</td>\n",
              "      <td>...</td>\n",
              "      <td>...</td>\n",
              "      <td>...</td>\n",
              "    </tr>\n",
              "    <tr>\n",
              "      <th>13867</th>\n",
              "      <td>송파구</td>\n",
              "      <td>15000</td>\n",
              "      <td>50</td>\n",
              "      <td>37.43</td>\n",
              "      <td>5</td>\n",
              "      <td>2</td>\n",
              "      <td>저</td>\n",
              "      <td>11</td>\n",
              "      <td>동남권</td>\n",
              "    </tr>\n",
              "    <tr>\n",
              "      <th>13868</th>\n",
              "      <td>송파구</td>\n",
              "      <td>5000</td>\n",
              "      <td>70</td>\n",
              "      <td>62.81</td>\n",
              "      <td>4</td>\n",
              "      <td>3</td>\n",
              "      <td>고</td>\n",
              "      <td>19</td>\n",
              "      <td>동남권</td>\n",
              "    </tr>\n",
              "    <tr>\n",
              "      <th>13869</th>\n",
              "      <td>송파구</td>\n",
              "      <td>4000</td>\n",
              "      <td>37</td>\n",
              "      <td>26.45</td>\n",
              "      <td>5</td>\n",
              "      <td>4</td>\n",
              "      <td>고</td>\n",
              "      <td>8</td>\n",
              "      <td>동남권</td>\n",
              "    </tr>\n",
              "    <tr>\n",
              "      <th>13870</th>\n",
              "      <td>송파구</td>\n",
              "      <td>500</td>\n",
              "      <td>30</td>\n",
              "      <td>23.14</td>\n",
              "      <td>3</td>\n",
              "      <td>반지하</td>\n",
              "      <td>반지하</td>\n",
              "      <td>7</td>\n",
              "      <td>동남권</td>\n",
              "    </tr>\n",
              "    <tr>\n",
              "      <th>13871</th>\n",
              "      <td>송파구</td>\n",
              "      <td>120</td>\n",
              "      <td>40</td>\n",
              "      <td>13.22</td>\n",
              "      <td>5</td>\n",
              "      <td>2</td>\n",
              "      <td>저</td>\n",
              "      <td>4</td>\n",
              "      <td>동남권</td>\n",
              "    </tr>\n",
              "  </tbody>\n",
              "</table>\n",
              "<p>13872 rows × 9 columns</p>\n",
              "</div>\n",
              "      <button class=\"colab-df-convert\" onclick=\"convertToInteractive('df-f669eef4-d040-49a4-93a7-5d33b4866a23')\"\n",
              "              title=\"Convert this dataframe to an interactive table.\"\n",
              "              style=\"display:none;\">\n",
              "        \n",
              "  <svg xmlns=\"http://www.w3.org/2000/svg\" height=\"24px\"viewBox=\"0 0 24 24\"\n",
              "       width=\"24px\">\n",
              "    <path d=\"M0 0h24v24H0V0z\" fill=\"none\"/>\n",
              "    <path d=\"M18.56 5.44l.94 2.06.94-2.06 2.06-.94-2.06-.94-.94-2.06-.94 2.06-2.06.94zm-11 1L8.5 8.5l.94-2.06 2.06-.94-2.06-.94L8.5 2.5l-.94 2.06-2.06.94zm10 10l.94 2.06.94-2.06 2.06-.94-2.06-.94-.94-2.06-.94 2.06-2.06.94z\"/><path d=\"M17.41 7.96l-1.37-1.37c-.4-.4-.92-.59-1.43-.59-.52 0-1.04.2-1.43.59L10.3 9.45l-7.72 7.72c-.78.78-.78 2.05 0 2.83L4 21.41c.39.39.9.59 1.41.59.51 0 1.02-.2 1.41-.59l7.78-7.78 2.81-2.81c.8-.78.8-2.07 0-2.86zM5.41 20L4 18.59l7.72-7.72 1.47 1.35L5.41 20z\"/>\n",
              "  </svg>\n",
              "      </button>\n",
              "      \n",
              "  <style>\n",
              "    .colab-df-container {\n",
              "      display:flex;\n",
              "      flex-wrap:wrap;\n",
              "      gap: 12px;\n",
              "    }\n",
              "\n",
              "    .colab-df-convert {\n",
              "      background-color: #E8F0FE;\n",
              "      border: none;\n",
              "      border-radius: 50%;\n",
              "      cursor: pointer;\n",
              "      display: none;\n",
              "      fill: #1967D2;\n",
              "      height: 32px;\n",
              "      padding: 0 0 0 0;\n",
              "      width: 32px;\n",
              "    }\n",
              "\n",
              "    .colab-df-convert:hover {\n",
              "      background-color: #E2EBFA;\n",
              "      box-shadow: 0px 1px 2px rgba(60, 64, 67, 0.3), 0px 1px 3px 1px rgba(60, 64, 67, 0.15);\n",
              "      fill: #174EA6;\n",
              "    }\n",
              "\n",
              "    [theme=dark] .colab-df-convert {\n",
              "      background-color: #3B4455;\n",
              "      fill: #D2E3FC;\n",
              "    }\n",
              "\n",
              "    [theme=dark] .colab-df-convert:hover {\n",
              "      background-color: #434B5C;\n",
              "      box-shadow: 0px 1px 3px 1px rgba(0, 0, 0, 0.15);\n",
              "      filter: drop-shadow(0px 1px 2px rgba(0, 0, 0, 0.3));\n",
              "      fill: #FFFFFF;\n",
              "    }\n",
              "  </style>\n",
              "\n",
              "      <script>\n",
              "        const buttonEl =\n",
              "          document.querySelector('#df-f669eef4-d040-49a4-93a7-5d33b4866a23 button.colab-df-convert');\n",
              "        buttonEl.style.display =\n",
              "          google.colab.kernel.accessAllowed ? 'block' : 'none';\n",
              "\n",
              "        async function convertToInteractive(key) {\n",
              "          const element = document.querySelector('#df-f669eef4-d040-49a4-93a7-5d33b4866a23');\n",
              "          const dataTable =\n",
              "            await google.colab.kernel.invokeFunction('convertToInteractive',\n",
              "                                                     [key], {});\n",
              "          if (!dataTable) return;\n",
              "\n",
              "          const docLinkHtml = 'Like what you see? Visit the ' +\n",
              "            '<a target=\"_blank\" href=https://colab.research.google.com/notebooks/data_table.ipynb>data table notebook</a>'\n",
              "            + ' to learn more about interactive tables.';\n",
              "          element.innerHTML = '';\n",
              "          dataTable['output_type'] = 'display_data';\n",
              "          await google.colab.output.renderOutput(dataTable, element);\n",
              "          const docLink = document.createElement('div');\n",
              "          docLink.innerHTML = docLinkHtml;\n",
              "          element.appendChild(docLink);\n",
              "        }\n",
              "      </script>\n",
              "    </div>\n",
              "  </div>\n",
              "  "
            ]
          },
          "metadata": {},
          "execution_count": 13
        }
      ]
    },
    {
      "cell_type": "code",
      "source": [
        "from sklearn.model_selection import train_test_split\n",
        "feature = ['행정구역','보증금','분류','평수(평)']\n",
        "\n",
        "x_train,x_test,y_train,y_test=train_test_split(df[feature],df['월세'],test_size=0.25,\n",
        "                                               random_state=42) \n",
        "print(x_train.shape, y_test.shape)"
      ],
      "metadata": {
        "colab": {
          "base_uri": "https://localhost:8080/"
        },
        "id": "0i55O4lZgB5-",
        "outputId": "02596a1a-97d2-45ce-cc0c-52521b0fff36"
      },
      "execution_count": 14,
      "outputs": [
        {
          "output_type": "stream",
          "name": "stdout",
          "text": [
            "(10404, 4) (3468,)\n"
          ]
        }
      ]
    },
    {
      "cell_type": "markdown",
      "source": [
        "#### randomforest"
      ],
      "metadata": {
        "id": "gAt5RHfehZ6v"
      }
    },
    {
      "cell_type": "code",
      "source": [
        "pipe_random2 = make_pipeline(\n",
        "    OrdinalEncoder(),\n",
        "    StandardScaler(),\n",
        "    RandomForestRegressor(random_state=42)\n",
        ")\n",
        "\n",
        "pipe_random2.fit(x_train,y_train)\n",
        "\n",
        "get_model_cv_mse(pipe_random2,x_train,y_train)\n",
        "get_model_cv_mae(pipe_random2,x_train,y_train)"
      ],
      "metadata": {
        "colab": {
          "base_uri": "https://localhost:8080/"
        },
        "id": "RxAkP0UIhGkm",
        "outputId": "98582e01-efd5-4157-dc75-f19c4fb99063"
      },
      "execution_count": 15,
      "outputs": [
        {
          "output_type": "stream",
          "name": "stdout",
          "text": [
            "#####  RandomForestRegressor(random_state=42)  #####\n",
            " 5 교차 검증의 평균 RMSE : 20.527 \n",
            "#####  RandomForestRegressor(random_state=42)  #####\n",
            " 5 교차 검증의 평균 MAE : 13.416 \n"
          ]
        }
      ]
    },
    {
      "cell_type": "code",
      "source": [
        "pipe_random2.score(x_train,y_train)"
      ],
      "metadata": {
        "colab": {
          "base_uri": "https://localhost:8080/"
        },
        "id": "3rIfXNeQhqnN",
        "outputId": "30389b4e-3b0d-43a2-b196-a6c8f83961a6"
      },
      "execution_count": 16,
      "outputs": [
        {
          "output_type": "execute_result",
          "data": {
            "text/plain": [
              "0.8217960622366687"
            ]
          },
          "metadata": {},
          "execution_count": 16
        }
      ]
    },
    {
      "cell_type": "markdown",
      "source": [
        "#### decision"
      ],
      "metadata": {
        "id": "NGntvPvYiZ32"
      }
    },
    {
      "cell_type": "code",
      "source": [
        "pipe_decision2 = make_pipeline(\n",
        "    OrdinalEncoder(),\n",
        "    StandardScaler(),\n",
        "    DecisionTreeRegressor(random_state=42)\n",
        ")\n",
        "\n",
        "pipe_decision2.fit(x_train,y_train)\n",
        "\n",
        "get_model_cv_mse(pipe_decision2,x_train,y_train)\n",
        "get_model_cv_mae(pipe_decision2,x_train,y_train)"
      ],
      "metadata": {
        "colab": {
          "base_uri": "https://localhost:8080/"
        },
        "id": "a1N4K2UUiWQn",
        "outputId": "d5bda3b5-74da-4e5a-cdaf-ca00aae05ced"
      },
      "execution_count": 17,
      "outputs": [
        {
          "output_type": "stream",
          "name": "stdout",
          "text": [
            "#####  DecisionTreeRegressor(random_state=42)  #####\n",
            " 5 교차 검증의 평균 RMSE : 22.518 \n",
            "#####  DecisionTreeRegressor(random_state=42)  #####\n",
            " 5 교차 검증의 평균 MAE : 13.755 \n"
          ]
        }
      ]
    },
    {
      "cell_type": "code",
      "source": [
        "pipe_decision2.score(x_train,y_train)"
      ],
      "metadata": {
        "colab": {
          "base_uri": "https://localhost:8080/"
        },
        "id": "ycJwPbG3iloX",
        "outputId": "b7cb1601-4534-4fca-c80c-22de29149756"
      },
      "execution_count": 18,
      "outputs": [
        {
          "output_type": "execute_result",
          "data": {
            "text/plain": [
              "0.8343795771046709"
            ]
          },
          "metadata": {},
          "execution_count": 18
        }
      ]
    },
    {
      "cell_type": "markdown",
      "source": [
        "#### gradientboosting"
      ],
      "metadata": {
        "id": "Iu3FytiRizm9"
      }
    },
    {
      "cell_type": "code",
      "source": [
        "pipe_gradient2 = make_pipeline(\n",
        "    OrdinalEncoder(),\n",
        "    StandardScaler(),\n",
        "    GradientBoostingRegressor(random_state=42)\n",
        ")\n",
        "\n",
        "pipe_gradient2.fit(x_train,y_train)\n",
        "\n",
        "get_model_cv_mse(pipe_gradient2,x_train,y_train)\n",
        "get_model_cv_mae(pipe_gradient2,x_train,y_train)"
      ],
      "metadata": {
        "colab": {
          "base_uri": "https://localhost:8080/"
        },
        "id": "NREHvXvWi3CX",
        "outputId": "25dbdc2b-b001-4208-f531-6c5993e1b123"
      },
      "execution_count": 19,
      "outputs": [
        {
          "output_type": "stream",
          "name": "stdout",
          "text": [
            "#####  GradientBoostingRegressor(random_state=42)  #####\n",
            " 5 교차 검증의 평균 RMSE : 21.159 \n",
            "#####  GradientBoostingRegressor(random_state=42)  #####\n",
            " 5 교차 검증의 평균 MAE : 14.548 \n"
          ]
        }
      ]
    },
    {
      "cell_type": "code",
      "source": [
        "pipe_gradient2.score(x_train,y_train)"
      ],
      "metadata": {
        "colab": {
          "base_uri": "https://localhost:8080/"
        },
        "id": "-QlWKRjRi9J5",
        "outputId": "539bf01c-6e05-4c05-b559-3eddc4711b51"
      },
      "execution_count": 20,
      "outputs": [
        {
          "output_type": "execute_result",
          "data": {
            "text/plain": [
              "0.6451993105025298"
            ]
          },
          "metadata": {},
          "execution_count": 20
        }
      ]
    },
    {
      "cell_type": "markdown",
      "source": [
        "#### xgb"
      ],
      "metadata": {
        "id": "_KviGhQZjQCx"
      }
    },
    {
      "cell_type": "code",
      "source": [
        "pipe_xgb2 = make_pipeline(\n",
        "    OrdinalEncoder(),\n",
        "    StandardScaler(),\n",
        "    XGBRegressor(random_state=42 ,reg_lambda=1,gamma=0)\n",
        ")\n",
        "\n",
        "pipe_xgb2.fit(x_train,y_train)\n",
        "\n",
        "get_model_cv_mse(pipe_xgb2,x_train,y_train)\n",
        "get_model_cv_mae(pipe_xgb2,x_train,y_train)"
      ],
      "metadata": {
        "colab": {
          "base_uri": "https://localhost:8080/"
        },
        "id": "sP6ItPhajSaC",
        "outputId": "d022978e-dc53-47dc-9eee-82011ef423a0"
      },
      "execution_count": 21,
      "outputs": [
        {
          "output_type": "stream",
          "name": "stdout",
          "text": [
            "[20:25:26] WARNING: /workspace/src/objective/regression_obj.cu:152: reg:linear is now deprecated in favor of reg:squarederror.\n",
            "[20:25:27] WARNING: /workspace/src/objective/regression_obj.cu:152: reg:linear is now deprecated in favor of reg:squarederror.\n",
            "[20:25:27] WARNING: /workspace/src/objective/regression_obj.cu:152: reg:linear is now deprecated in favor of reg:squarederror.\n",
            "[20:25:27] WARNING: /workspace/src/objective/regression_obj.cu:152: reg:linear is now deprecated in favor of reg:squarederror.\n",
            "[20:25:28] WARNING: /workspace/src/objective/regression_obj.cu:152: reg:linear is now deprecated in favor of reg:squarederror.\n",
            "[20:25:28] WARNING: /workspace/src/objective/regression_obj.cu:152: reg:linear is now deprecated in favor of reg:squarederror.\n",
            "#####  XGBRegressor(random_state=42)  #####\n",
            " 5 교차 검증의 평균 RMSE : 21.208 \n",
            "[20:25:28] WARNING: /workspace/src/objective/regression_obj.cu:152: reg:linear is now deprecated in favor of reg:squarederror.\n",
            "[20:25:29] WARNING: /workspace/src/objective/regression_obj.cu:152: reg:linear is now deprecated in favor of reg:squarederror.\n",
            "[20:25:29] WARNING: /workspace/src/objective/regression_obj.cu:152: reg:linear is now deprecated in favor of reg:squarederror.\n",
            "[20:25:29] WARNING: /workspace/src/objective/regression_obj.cu:152: reg:linear is now deprecated in favor of reg:squarederror.\n",
            "[20:25:30] WARNING: /workspace/src/objective/regression_obj.cu:152: reg:linear is now deprecated in favor of reg:squarederror.\n",
            "#####  XGBRegressor(random_state=42)  #####\n",
            " 5 교차 검증의 평균 MAE : 14.570 \n"
          ]
        }
      ]
    },
    {
      "cell_type": "code",
      "source": [
        "pipe_xgb2.score(x_train,y_train)"
      ],
      "metadata": {
        "colab": {
          "base_uri": "https://localhost:8080/"
        },
        "id": "7MnpSs2YjVX1",
        "outputId": "31a519e6-fd46-4d94-f946-beb6c3bad97c"
      },
      "execution_count": 22,
      "outputs": [
        {
          "output_type": "execute_result",
          "data": {
            "text/plain": [
              "0.6412841186026246"
            ]
          },
          "metadata": {},
          "execution_count": 22
        }
      ]
    },
    {
      "cell_type": "markdown",
      "source": [
        "#### lgbm"
      ],
      "metadata": {
        "id": "UXqrWtXMiStt"
      }
    },
    {
      "cell_type": "code",
      "source": [
        "from lightgbm import LGBMRegressor\n",
        "\n",
        "pipe_lgb2=make_pipeline(\n",
        "    OrdinalEncoder(),\n",
        "    StandardScaler(),\n",
        "    LGBMRegressor(random_state=42,learning_rate=0.12,n_estimators=30)\n",
        ")\n",
        "\n",
        "pipe_lgb2.fit(x_train,y_train)\n",
        "\n",
        "get_model_cv_mse(pipe_lgb2,x_train,y_train)\n",
        "get_model_cv_mae(pipe_lgb2,x_train,y_train)"
      ],
      "metadata": {
        "colab": {
          "base_uri": "https://localhost:8080/"
        },
        "id": "YSmHqyRshzay",
        "outputId": "0c216cd1-2cbd-4c34-9b65-b1d5ac662ee2"
      },
      "execution_count": 23,
      "outputs": [
        {
          "output_type": "stream",
          "name": "stdout",
          "text": [
            "#####  LGBMRegressor(learning_rate=0.12, n_estimators=30, random_state=42)  #####\n",
            " 5 교차 검증의 평균 RMSE : 20.842 \n",
            "#####  LGBMRegressor(learning_rate=0.12, n_estimators=30, random_state=42)  #####\n",
            " 5 교차 검증의 평균 MAE : 14.243 \n"
          ]
        }
      ]
    },
    {
      "cell_type": "code",
      "source": [
        "pipe_lgb2.score(x_train,y_train)"
      ],
      "metadata": {
        "colab": {
          "base_uri": "https://localhost:8080/"
        },
        "id": "FZREBUSriIof",
        "outputId": "97a8ab4e-1f7b-44fa-eac8-ac3c280c19a6"
      },
      "execution_count": 24,
      "outputs": [
        {
          "output_type": "execute_result",
          "data": {
            "text/plain": [
              "0.6728123152920593"
            ]
          },
          "metadata": {},
          "execution_count": 24
        }
      ]
    }
  ]
}